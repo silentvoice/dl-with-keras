{
  "nbformat": 4,
  "nbformat_minor": 0,
  "metadata": {
    "colab": {
      "name": "timeforecasting-using-rnns",
      "version": "0.3.2",
      "provenance": [],
      "collapsed_sections": [],
      "include_colab_link": true
    },
    "kernelspec": {
      "name": "python3",
      "display_name": "Python 3"
    },
    "accelerator": "GPU"
  },
  "cells": [
    {
      "cell_type": "markdown",
      "metadata": {
        "id": "view-in-github",
        "colab_type": "text"
      },
      "source": [
        "[View in Colaboratory](https://colab.research.google.com/github/silentvoice/dl-with-keras/blob/master/timeforecasting_using_rnns.ipynb)"
      ]
    },
    {
      "metadata": {
        "id": "QFiciD62GoJs",
        "colab_type": "text"
      },
      "cell_type": "markdown",
      "source": [
        "## Check Tensorflow Version"
      ]
    },
    {
      "metadata": {
        "id": "AQ65ShNiVf1e",
        "colab_type": "code",
        "colab": {}
      },
      "cell_type": "code",
      "source": [
        "#!kill -9 -1"
      ],
      "execution_count": 0,
      "outputs": []
    },
    {
      "metadata": {
        "id": "CDoELe4vHHUh",
        "colab_type": "code",
        "colab": {}
      },
      "cell_type": "code",
      "source": [
        "import tensorflow as tf"
      ],
      "execution_count": 0,
      "outputs": []
    },
    {
      "metadata": {
        "id": "QVVOM-TbHLQO",
        "colab_type": "code",
        "colab": {
          "base_uri": "https://localhost:8080/",
          "height": 34
        },
        "outputId": "3d5eb801-cd5e-477f-9666-23a22bcfacc9"
      },
      "cell_type": "code",
      "source": [
        "tf.test.gpu_device_name()"
      ],
      "execution_count": 5,
      "outputs": [
        {
          "output_type": "execute_result",
          "data": {
            "text/plain": [
              "'/device:GPU:0'"
            ]
          },
          "metadata": {
            "tags": []
          },
          "execution_count": 5
        }
      ]
    },
    {
      "metadata": {
        "id": "X22hst3SHV8o",
        "colab_type": "text"
      },
      "cell_type": "markdown",
      "source": [
        "## Imports"
      ]
    },
    {
      "metadata": {
        "id": "NUobtRG4HoCg",
        "colab_type": "code",
        "colab": {}
      },
      "cell_type": "code",
      "source": [
        "from tensorflow import keras\n",
        "from tensorflow.python.keras import models, layers\n",
        "from tensorflow.python.keras.models import Sequential\n",
        "from tensorflow.python.keras.layers import GRU, Embedding, Flatten, Dense\n",
        "import numpy as np\n",
        "import matplotlib.pyplot as plt\n",
        "import os"
      ],
      "execution_count": 0,
      "outputs": []
    },
    {
      "metadata": {
        "id": "0nTVXHeFHo0T",
        "colab_type": "text"
      },
      "cell_type": "markdown",
      "source": [
        "## Data Loading"
      ]
    },
    {
      "metadata": {
        "id": "I2Xcyevek3UE",
        "colab_type": "code",
        "colab": {
          "base_uri": "https://localhost:8080/",
          "height": 204
        },
        "outputId": "73b0f5c7-6833-42bf-b240-d8823624a0ff"
      },
      "cell_type": "code",
      "source": [
        "!wget https://s3.amazonaws.com/keras-datasets/jena_climate_2009_2016.csv.zip"
      ],
      "execution_count": 6,
      "outputs": [
        {
          "output_type": "stream",
          "text": [
            "--2018-07-12 04:55:43--  https://s3.amazonaws.com/keras-datasets/jena_climate_2009_2016.csv.zip\n",
            "Resolving s3.amazonaws.com (s3.amazonaws.com)... 52.216.168.21\n",
            "Connecting to s3.amazonaws.com (s3.amazonaws.com)|52.216.168.21|:443... connected.\n",
            "HTTP request sent, awaiting response... 200 OK\n",
            "Length: 13568290 (13M) [application/zip]\n",
            "Saving to: ‘jena_climate_2009_2016.csv.zip’\n",
            "\n",
            "jena_climate_2009_2 100%[===================>]  12.94M  28.8MB/s    in 0.4s    \n",
            "\n",
            "2018-07-12 04:55:44 (28.8 MB/s) - ‘jena_climate_2009_2016.csv.zip’ saved [13568290/13568290]\n",
            "\n"
          ],
          "name": "stdout"
        }
      ]
    },
    {
      "metadata": {
        "id": "Dhde4mXdk_vq",
        "colab_type": "code",
        "colab": {
          "base_uri": "https://localhost:8080/",
          "height": 51
        },
        "outputId": "8d25684d-66c5-4f76-8e0d-87efad7d3894"
      },
      "cell_type": "code",
      "source": [
        "!unzip jena_climate_2009_2016.csv.zip"
      ],
      "execution_count": 7,
      "outputs": [
        {
          "output_type": "stream",
          "text": [
            "Archive:  jena_climate_2009_2016.csv.zip\n",
            "  inflating: jena_climate_2009_2016.csv  \n"
          ],
          "name": "stdout"
        }
      ]
    },
    {
      "metadata": {
        "id": "9Ili20fWlLwJ",
        "colab_type": "code",
        "colab": {}
      },
      "cell_type": "code",
      "source": [
        "data_dir = '/content/'"
      ],
      "execution_count": 0,
      "outputs": []
    },
    {
      "metadata": {
        "id": "usF8mxrVldn7",
        "colab_type": "code",
        "colab": {}
      },
      "cell_type": "code",
      "source": [
        "f_name = os.path.join(data_dir, 'jena_climate_2009_2016.csv')\n",
        "f = open(f_name)\n",
        "data = f.read()\n",
        "f.close()\n",
        "\n",
        "lines = data.split('\\n')\n",
        "header = lines[0].split(',')\n",
        "lines = lines[1:]"
      ],
      "execution_count": 0,
      "outputs": []
    },
    {
      "metadata": {
        "id": "d4jiC3fNmDb9",
        "colab_type": "code",
        "colab": {
          "base_uri": "https://localhost:8080/",
          "height": 272
        },
        "outputId": "19663667-fec2-4015-f8ee-0c25ec71fa9d"
      },
      "cell_type": "code",
      "source": [
        "header"
      ],
      "execution_count": 9,
      "outputs": [
        {
          "output_type": "execute_result",
          "data": {
            "text/plain": [
              "['\"Date Time\"',\n",
              " '\"p (mbar)\"',\n",
              " '\"T (degC)\"',\n",
              " '\"Tpot (K)\"',\n",
              " '\"Tdew (degC)\"',\n",
              " '\"rh (%)\"',\n",
              " '\"VPmax (mbar)\"',\n",
              " '\"VPact (mbar)\"',\n",
              " '\"VPdef (mbar)\"',\n",
              " '\"sh (g/kg)\"',\n",
              " '\"H2OC (mmol/mol)\"',\n",
              " '\"rho (g/m**3)\"',\n",
              " '\"wv (m/s)\"',\n",
              " '\"max. wv (m/s)\"',\n",
              " '\"wd (deg)\"']"
            ]
          },
          "metadata": {
            "tags": []
          },
          "execution_count": 9
        }
      ]
    },
    {
      "metadata": {
        "id": "PC8VkaBdmHMu",
        "colab_type": "code",
        "colab": {
          "base_uri": "https://localhost:8080/",
          "height": 34
        },
        "outputId": "adc8c7a2-adb7-4eaf-f2a4-fdddc8b78c35"
      },
      "cell_type": "code",
      "source": [
        "len(lines)"
      ],
      "execution_count": 10,
      "outputs": [
        {
          "output_type": "execute_result",
          "data": {
            "text/plain": [
              "420551"
            ]
          },
          "metadata": {
            "tags": []
          },
          "execution_count": 10
        }
      ]
    },
    {
      "metadata": {
        "id": "UpRJGQGemOE7",
        "colab_type": "code",
        "colab": {}
      },
      "cell_type": "code",
      "source": [
        "data = np.zeros((len(lines), len(header) - 1))"
      ],
      "execution_count": 0,
      "outputs": []
    },
    {
      "metadata": {
        "id": "74DgPhvKmm0E",
        "colab_type": "code",
        "colab": {}
      },
      "cell_type": "code",
      "source": [
        "for idx, line in enumerate(lines):\n",
        "  vals = [float(x) for x in line.split(',')[1:]]\n",
        "  data[idx, :] = vals\n",
        "  "
      ],
      "execution_count": 0,
      "outputs": []
    },
    {
      "metadata": {
        "id": "w55MB1AonUzj",
        "colab_type": "code",
        "colab": {
          "base_uri": "https://localhost:8080/",
          "height": 34
        },
        "outputId": "51b47dc5-b91d-4b35-cc39-dd841d2e31ed"
      },
      "cell_type": "code",
      "source": [
        "data.shape"
      ],
      "execution_count": 13,
      "outputs": [
        {
          "output_type": "execute_result",
          "data": {
            "text/plain": [
              "(420551, 14)"
            ]
          },
          "metadata": {
            "tags": []
          },
          "execution_count": 13
        }
      ]
    },
    {
      "metadata": {
        "id": "an-ibBr-qGJw",
        "colab_type": "text"
      },
      "cell_type": "markdown",
      "source": [
        "## Data Preparation"
      ]
    },
    {
      "metadata": {
        "id": "h8RcMogSqMEu",
        "colab_type": "code",
        "colab": {}
      },
      "cell_type": "code",
      "source": [
        "mean = data[:200000].mean(axis=0)\n",
        "data -= mean\n",
        "std = data[:200000].std(axis=0)\n",
        "data /= std"
      ],
      "execution_count": 0,
      "outputs": []
    },
    {
      "metadata": {
        "id": "lA1pw1t0rXZc",
        "colab_type": "code",
        "colab": {}
      },
      "cell_type": "code",
      "source": [
        "def data_generator(data, lookback, delay, min_idx, max_idx, shuffle=False, batch_size=128, step=6):\n",
        "  if max_idx is None:\n",
        "    max_idx = len(data) - delay -1\n",
        "  idx = min_idx + lookback\n",
        "  while True:\n",
        "    if shuffle:\n",
        "      rows = np.random.randint(min_idx + lookback, max_idx, size=batch_size)\n",
        "    else:\n",
        "      if idx + batch_size >= max_idx:\n",
        "        idx = min_idx + lookback\n",
        "      rows = np.arange(idx, min(idx + batch_size, max_idx))\n",
        "      idx += len(rows)\n",
        "    samples = np.zeros((len(rows), lookback // step, data.shape[-1]))\n",
        "    targets = np.zeros((len(rows),))\n",
        "    \n",
        "    for i in range(len(rows)):\n",
        "      indices = range(rows[i] - lookback, rows[i], step)\n",
        "      samples[i] = data[indices]\n",
        "      targets[i] = data[rows[i] + delay][1]\n",
        "    yield samples, targets  \n",
        "    "
      ],
      "execution_count": 0,
      "outputs": []
    },
    {
      "metadata": {
        "id": "foRijY5Dvhj8",
        "colab_type": "code",
        "colab": {}
      },
      "cell_type": "code",
      "source": [
        "lookback = 1440\n",
        "step = 6\n",
        "delay = 144\n",
        "batch_size = 128"
      ],
      "execution_count": 0,
      "outputs": []
    },
    {
      "metadata": {
        "id": "ZiW4WpInvnYC",
        "colab_type": "code",
        "colab": {}
      },
      "cell_type": "code",
      "source": [
        "train_data_generator = data_generator(data,\n",
        "                                      lookback=lookback,\n",
        "                                      delay=delay,\n",
        "                                      min_idx=0,\n",
        "                                      max_idx=200000,\n",
        "                                      shuffle=True,\n",
        "                                      step=step, \n",
        "                                      batch_size=batch_size)\n",
        "val_data_generator = data_generator(data,\n",
        "                                    lookback=lookback,\n",
        "                                    delay=delay,\n",
        "                                    min_idx=200001,\n",
        "                                    max_idx=300000,\n",
        "                                    step=step,\n",
        "                                    batch_size=batch_size)\n",
        "test_data_generator = data_generator(data,\n",
        "                                     lookback=lookback,\n",
        "                                     delay=delay,\n",
        "                                     min_idx=300001,\n",
        "                                     max_idx=None,\n",
        "                                     step=step,\n",
        "                                     batch_size=batch_size)\n"
      ],
      "execution_count": 0,
      "outputs": []
    },
    {
      "metadata": {
        "id": "E2yg9KU8wYxu",
        "colab_type": "code",
        "colab": {}
      },
      "cell_type": "code",
      "source": [
        "val_steps = (300000 - 200001 - lookback) // batch_size\n",
        "test_steps = (len(data) - 300001 - lookback) // batch_size"
      ],
      "execution_count": 0,
      "outputs": []
    },
    {
      "metadata": {
        "id": "PTsEqpbkw3O0",
        "colab_type": "text"
      },
      "cell_type": "markdown",
      "source": [
        "## Calculate Mean absolute Error to Determine base line"
      ]
    },
    {
      "metadata": {
        "id": "nYGMyvsywai7",
        "colab_type": "code",
        "colab": {}
      },
      "cell_type": "code",
      "source": [
        "def evaluate_maes():\n",
        "  batch_maes = []\n",
        "  for _ in range(val_steps):\n",
        "    samples, targets = next(val_data_generator)\n",
        "    preds = samples[:, -1, 1]\n",
        "    mae = np.mean(np.abs(preds - targets))\n",
        "    batch_maes.append(mae)\n",
        "  return np.mean(batch_maes)"
      ],
      "execution_count": 0,
      "outputs": []
    },
    {
      "metadata": {
        "id": "lbK1oNVJx1Ey",
        "colab_type": "code",
        "colab": {
          "base_uri": "https://localhost:8080/",
          "height": 34
        },
        "outputId": "c2b30a5b-e94b-41e2-9dc9-d66b3c9e83d4"
      },
      "cell_type": "code",
      "source": [
        "evaluate_maes()"
      ],
      "execution_count": 20,
      "outputs": [
        {
          "output_type": "execute_result",
          "data": {
            "text/plain": [
              "0.2897359729905486"
            ]
          },
          "metadata": {
            "tags": []
          },
          "execution_count": 20
        }
      ]
    },
    {
      "metadata": {
        "id": "UyIVB3r23W70",
        "colab_type": "code",
        "colab": {
          "base_uri": "https://localhost:8080/",
          "height": 34
        },
        "outputId": "988fd6ef-7c8a-419f-b921-192a6183c9e2"
      },
      "cell_type": "code",
      "source": [
        "np.mean(0.2897 * std[1])"
      ],
      "execution_count": 21,
      "outputs": [
        {
          "output_type": "execute_result",
          "data": {
            "text/plain": [
              "2.5645689841146786"
            ]
          },
          "metadata": {
            "tags": []
          },
          "execution_count": 21
        }
      ]
    },
    {
      "metadata": {
        "id": "scCUF_gSI9MF",
        "colab_type": "text"
      },
      "cell_type": "markdown",
      "source": [
        "## Build Model"
      ]
    },
    {
      "metadata": {
        "id": "6ocS5JqiJE7M",
        "colab_type": "code",
        "colab": {}
      },
      "cell_type": "code",
      "source": [
        "model = Sequential()\n",
        "model.add(layers.GRU(32, input_shape=(None, data.shape[-1])))\n",
        "model.add(layers.Dense(1))"
      ],
      "execution_count": 0,
      "outputs": []
    },
    {
      "metadata": {
        "id": "-IHqOA7-JIE5",
        "colab_type": "code",
        "colab": {}
      },
      "cell_type": "code",
      "source": [
        "model.compile(optimizer='rmsprop', loss='mae')"
      ],
      "execution_count": 0,
      "outputs": []
    },
    {
      "metadata": {
        "id": "J7VBuCsnKMJE",
        "colab_type": "code",
        "colab": {
          "base_uri": "https://localhost:8080/",
          "height": 717
        },
        "outputId": "1b25b017-e798-46fe-9df6-906ab461d090"
      },
      "cell_type": "code",
      "source": [
        "model_history = model.fit_generator(train_data_generator,\n",
        "                              steps_per_epoch=500,\n",
        "                              epochs=20,\n",
        "                              validation_data=val_data_generator,\n",
        "                              validation_steps=val_steps)"
      ],
      "execution_count": 25,
      "outputs": [
        {
          "output_type": "stream",
          "text": [
            "Epoch 1/20\n",
            "500/500 [==============================] - 381s 761ms/step - loss: 0.2985 - val_loss: 0.2690\n",
            "Epoch 2/20\n",
            "335/500 [===================>..........] - ETA: 1:27 - loss: 0.2878"
          ],
          "name": "stdout"
        },
        {
          "output_type": "stream",
          "text": [
            "500/500 [==============================] - 379s 759ms/step - loss: 0.2848 - val_loss: 0.2701\n",
            "Epoch 3/20\n",
            "500/500 [==============================] - 379s 757ms/step - loss: 0.2776 - val_loss: 0.2684\n",
            "Epoch 4/20\n",
            " 11/500 [..............................] - ETA: 4:18 - loss: 0.2801"
          ],
          "name": "stdout"
        },
        {
          "output_type": "stream",
          "text": [
            "500/500 [==============================] - 378s 755ms/step - loss: 0.2725 - val_loss: 0.2617\n",
            "Epoch 5/20\n",
            "392/500 [======================>.......] - ETA: 56s - loss: 0.2681"
          ],
          "name": "stdout"
        },
        {
          "output_type": "stream",
          "text": [
            "500/500 [==============================] - 379s 757ms/step - loss: 0.2673 - val_loss: 0.2669\n",
            "Epoch 6/20\n",
            "500/500 [==============================] - 378s 756ms/step - loss: 0.2637 - val_loss: 0.2650\n",
            "Epoch 7/20\n",
            " 26/500 [>.............................] - ETA: 4:07 - loss: 0.2548"
          ],
          "name": "stdout"
        },
        {
          "output_type": "stream",
          "text": [
            "500/500 [==============================] - 377s 755ms/step - loss: 0.2578 - val_loss: 0.2620\n",
            "Epoch 8/20\n",
            "398/500 [======================>.......] - ETA: 53s - loss: 0.2549"
          ],
          "name": "stdout"
        },
        {
          "output_type": "stream",
          "text": [
            "500/500 [==============================] - 377s 755ms/step - loss: 0.2545 - val_loss: 0.2651\n",
            "Epoch 9/20\n",
            "500/500 [==============================] - 379s 757ms/step - loss: 0.2503 - val_loss: 0.2695\n",
            "Epoch 10/20\n",
            " 27/500 [>.............................] - ETA: 4:10 - loss: 0.2548"
          ],
          "name": "stdout"
        },
        {
          "output_type": "stream",
          "text": [
            "500/500 [==============================] - 378s 756ms/step - loss: 0.2465 - val_loss: 0.2702\n",
            "Epoch 11/20\n",
            "396/500 [======================>.......] - ETA: 54s - loss: 0.2437"
          ],
          "name": "stdout"
        },
        {
          "output_type": "stream",
          "text": [
            "500/500 [==============================] - 377s 755ms/step - loss: 0.2429 - val_loss: 0.2713\n",
            "Epoch 12/20\n",
            "500/500 [==============================] - 378s 756ms/step - loss: 0.2390 - val_loss: 0.2840\n",
            "Epoch 13/20\n",
            " 24/500 [>.............................] - ETA: 4:10 - loss: 0.2398"
          ],
          "name": "stdout"
        },
        {
          "output_type": "stream",
          "text": [
            "500/500 [==============================] - 379s 757ms/step - loss: 0.2361 - val_loss: 0.2772\n",
            "Epoch 14/20\n",
            "395/500 [======================>.......] - ETA: 55s - loss: 0.2305"
          ],
          "name": "stdout"
        },
        {
          "output_type": "stream",
          "text": [
            "500/500 [==============================] - 377s 755ms/step - loss: 0.2306 - val_loss: 0.2884\n",
            "Epoch 15/20\n",
            "500/500 [==============================] - 372s 743ms/step - loss: 0.2285 - val_loss: 0.2861\n",
            "Epoch 16/20\n",
            " 24/500 [>.............................] - ETA: 4:10 - loss: 0.2305"
          ],
          "name": "stdout"
        },
        {
          "output_type": "stream",
          "text": [
            "500/500 [==============================] - 375s 750ms/step - loss: 0.2244 - val_loss: 0.2837\n",
            "Epoch 17/20\n",
            "395/500 [======================>.......] - ETA: 55s - loss: 0.2208"
          ],
          "name": "stdout"
        },
        {
          "output_type": "stream",
          "text": [
            "500/500 [==============================] - 375s 751ms/step - loss: 0.2210 - val_loss: 0.2890\n",
            "Epoch 18/20\n",
            "500/500 [==============================] - 375s 751ms/step - loss: 0.2173 - val_loss: 0.2942\n",
            "Epoch 19/20\n",
            " 24/500 [>.............................] - ETA: 4:10 - loss: 0.2165"
          ],
          "name": "stdout"
        },
        {
          "output_type": "stream",
          "text": [
            "500/500 [==============================] - 376s 751ms/step - loss: 0.2175 - val_loss: 0.3000\n",
            "Epoch 20/20\n",
            "395/500 [======================>.......] - ETA: 54s - loss: 0.2119"
          ],
          "name": "stdout"
        },
        {
          "output_type": "stream",
          "text": [
            "500/500 [==============================] - 376s 751ms/step - loss: 0.2123 - val_loss: 0.2945\n"
          ],
          "name": "stdout"
        }
      ]
    },
    {
      "metadata": {
        "id": "fW9ynACXKvCh",
        "colab_type": "text"
      },
      "cell_type": "markdown",
      "source": [
        "## Plotting Loss"
      ]
    },
    {
      "metadata": {
        "id": "MreDgsqrKOKX",
        "colab_type": "code",
        "colab": {
          "base_uri": "https://localhost:8080/",
          "height": 379
        },
        "outputId": "34a874e4-4c79-4ede-9677-6bedf92fbd89"
      },
      "cell_type": "code",
      "source": [
        "train_loss = model_history.history['loss']\n",
        "val_loss = model_history.history['val_loss']\n",
        "\n",
        "epochs = range(len(train_loss))\n",
        "\n",
        "plt.plot(epochs, train_loss, 'r', label='Training loss')\n",
        "plt.plot(epochs, val_loss, 'b', label='Validation loss')\n",
        "plt.title('Training and validation loss')\n",
        "plt.legend()"
      ],
      "execution_count": 27,
      "outputs": [
        {
          "output_type": "execute_result",
          "data": {
            "text/plain": [
              "<matplotlib.legend.Legend at 0x7fb1bb2fde80>"
            ]
          },
          "metadata": {
            "tags": []
          },
          "execution_count": 27
        },
        {
          "output_type": "display_data",
          "data": {
            "image/png": "[encoded data removed]",
            "text/plain": [
              "<matplotlib.figure.Figure at 0x7fb1b92c0eb8>"
            ]
          },
          "metadata": {
            "tags": []
          }
        }
      ]
    },
    {
      "metadata": {
        "id": "TaapyuT7KiDP",
        "colab_type": "text"
      },
      "cell_type": "markdown",
      "source": [
        "## Increase the depth and regularize the network"
      ]
    },
    {
      "metadata": {
        "id": "UnGBb8J9K2aw",
        "colab_type": "code",
        "colab": {}
      },
      "cell_type": "code",
      "source": [
        "model = Sequential()\n",
        "model.add(layers.GRU(32,\n",
        "                     dropout=0.1,\n",
        "                     recurrent_dropout=0.5,\n",
        "                     return_sequences=True,\n",
        "                     input_shape=(None, data.shape[-1])))\n",
        "model.add(layers.GRU(64, activation='relu',\n",
        "                     dropout=0.1, \n",
        "                     recurrent_dropout=0.5))\n",
        "model.add(layers.Dense(1))"
      ],
      "execution_count": 0,
      "outputs": []
    },
    {
      "metadata": {
        "id": "ywUZk-wOLAqH",
        "colab_type": "code",
        "colab": {}
      },
      "cell_type": "code",
      "source": [
        "model.compile(optimizer='rmsprop', loss='mae')"
      ],
      "execution_count": 0,
      "outputs": []
    },
    {
      "metadata": {
        "id": "1_GyW0uQLRep",
        "colab_type": "text"
      },
      "cell_type": "markdown",
      "source": [
        "## Plotting Loss of Regularized Model"
      ]
    },
    {
      "metadata": {
        "id": "UchDhgsiLIKo",
        "colab_type": "code",
        "colab": {
          "base_uri": "https://localhost:8080/",
          "height": 717
        },
        "outputId": "0fb31adb-8a99-4044-be6f-2e502ca0c933"
      },
      "cell_type": "code",
      "source": [
        "model_history = model.fit_generator(train_data_generator,\n",
        "                              steps_per_epoch=500,\n",
        "                              epochs=20,\n",
        "                              validation_data=val_data_generator,\n",
        "                              validation_steps=val_steps)"
      ],
      "execution_count": 24,
      "outputs": [
        {
          "output_type": "stream",
          "text": [
            "Epoch 1/20\n",
            "500/500 [==============================] - 860s 2s/step - loss: 0.3364 - val_loss: 0.2853\n",
            "Epoch 2/20\n",
            "340/500 [===================>..........] - ETA: 3:10 - loss: 0.3135"
          ],
          "name": "stdout"
        },
        {
          "output_type": "stream",
          "text": [
            "500/500 [==============================] - 857s 2s/step - loss: 0.3121 - val_loss: 0.2811\n",
            "Epoch 3/20\n",
            "500/500 [==============================] - 857s 2s/step - loss: 0.3035 - val_loss: 0.2704\n",
            "Epoch 4/20\n",
            " 18/500 [>.............................] - ETA: 9:33 - loss: 0.3028"
          ],
          "name": "stdout"
        },
        {
          "output_type": "stream",
          "text": [
            "500/500 [==============================] - 857s 2s/step - loss: 0.3021 - val_loss: 0.2699\n",
            "Epoch 5/20\n",
            "402/500 [=======================>......] - ETA: 1:56 - loss: 0.2979"
          ],
          "name": "stdout"
        },
        {
          "output_type": "stream",
          "text": [
            "500/500 [==============================] - 857s 2s/step - loss: 0.2978 - val_loss: 0.2708\n",
            "Epoch 6/20\n",
            "500/500 [==============================] - 860s 2s/step - loss: 0.2959 - val_loss: 0.2699\n",
            "Epoch 7/20\n",
            " 33/500 [>.............................] - ETA: 9:14 - loss: 0.2904"
          ],
          "name": "stdout"
        },
        {
          "output_type": "stream",
          "text": [
            "500/500 [==============================] - 858s 2s/step - loss: 0.2933 - val_loss: 0.2681\n",
            "Epoch 8/20\n",
            "408/500 [=======================>......] - ETA: 1:49 - loss: 0.2906"
          ],
          "name": "stdout"
        },
        {
          "output_type": "stream",
          "text": [
            "500/500 [==============================] - 857s 2s/step - loss: 0.2905 - val_loss: 0.2775\n",
            "Epoch 9/20\n",
            "500/500 [==============================] - 859s 2s/step - loss: 0.2888 - val_loss: 0.2646\n",
            "Epoch 10/20\n",
            " 35/500 [=>............................] - ETA: 9:11 - loss: 0.2830"
          ],
          "name": "stdout"
        },
        {
          "output_type": "stream",
          "text": [
            "500/500 [==============================] - 858s 2s/step - loss: 0.2855 - val_loss: 0.2656\n",
            "Epoch 11/20\n",
            "406/500 [=======================>......] - ETA: 1:51 - loss: 0.2830"
          ],
          "name": "stdout"
        },
        {
          "output_type": "stream",
          "text": [
            "500/500 [==============================] - 856s 2s/step - loss: 0.2825 - val_loss: 0.2678\n",
            "Epoch 12/20\n",
            "500/500 [==============================] - 860s 2s/step - loss: 0.2817 - val_loss: 0.2685\n",
            "Epoch 13/20\n",
            " 32/500 [>.............................] - ETA: 9:16 - loss: 0.2810"
          ],
          "name": "stdout"
        },
        {
          "output_type": "stream",
          "text": [
            "500/500 [==============================] - 857s 2s/step - loss: 0.2818 - val_loss: 0.2659\n",
            "Epoch 14/20\n",
            "405/500 [=======================>......] - ETA: 1:52 - loss: 0.2779"
          ],
          "name": "stdout"
        },
        {
          "output_type": "stream",
          "text": [
            "500/500 [==============================] - 855s 2s/step - loss: 0.2779 - val_loss: 0.2736\n",
            "Epoch 15/20\n",
            "500/500 [==============================] - 854s 2s/step - loss: 0.2761 - val_loss: 0.2677\n",
            "Epoch 16/20\n",
            " 33/500 [>.............................] - ETA: 9:12 - loss: 0.2790"
          ],
          "name": "stdout"
        },
        {
          "output_type": "stream",
          "text": [
            "500/500 [==============================] - 856s 2s/step - loss: 0.2771 - val_loss: 0.2667\n",
            "Epoch 17/20\n",
            "405/500 [=======================>......] - ETA: 1:53 - loss: 0.2771"
          ],
          "name": "stdout"
        },
        {
          "output_type": "stream",
          "text": [
            "500/500 [==============================] - 859s 2s/step - loss: 0.2763 - val_loss: 0.2656\n",
            "Epoch 18/20\n",
            "500/500 [==============================] - 861s 2s/step - loss: 0.2759 - val_loss: 0.2652\n",
            "Epoch 19/20\n",
            " 32/500 [>.............................] - ETA: 9:19 - loss: 0.2706"
          ],
          "name": "stdout"
        },
        {
          "output_type": "stream",
          "text": [
            "500/500 [==============================] - 863s 2s/step - loss: 0.2734 - val_loss: 0.2732\n",
            "Epoch 20/20\n",
            "405/500 [=======================>......] - ETA: 1:53 - loss: 0.2726"
          ],
          "name": "stdout"
        },
        {
          "output_type": "stream",
          "text": [
            "500/500 [==============================] - 861s 2s/step - loss: 0.2727 - val_loss: 0.2682\n"
          ],
          "name": "stdout"
        }
      ]
    },
    {
      "metadata": {
        "id": "ox3aOUWzLaLc",
        "colab_type": "code",
        "colab": {
          "base_uri": "https://localhost:8080/",
          "height": 379
        },
        "outputId": "cda4076c-229d-4312-e9ab-2cd40ae87980"
      },
      "cell_type": "code",
      "source": [
        "train_loss = model_history.history['loss']\n",
        "val_loss = model_history.history['val_loss']\n",
        "\n",
        "epochs = range(len(train_loss))\n",
        "\n",
        "plt.plot(epochs, train_loss, 'r', label='Training loss')\n",
        "plt.plot(epochs, val_loss, 'b', label='Validation loss')\n",
        "plt.title('Training and validation loss')\n",
        "plt.legend()"
      ],
      "execution_count": 25,
      "outputs": [
        {
          "output_type": "execute_result",
          "data": {
            "text/plain": [
              "<matplotlib.legend.Legend at 0x7f6865c560f0>"
            ]
          },
          "metadata": {
            "tags": []
          },
          "execution_count": 25
        },
        {
          "output_type": "display_data",
          "data": {
            "image/png": "[encoded data removed]",
            "text/plain": [
              "<matplotlib.figure.Figure at 0x7f68729125c0>"
            ]
          },
          "metadata": {
            "tags": []
          }
        }
      ]
    },
    {
      "metadata": {
        "id": "rV50DLDybfnM",
        "colab_type": "code",
        "colab": {}
      },
      "cell_type": "code",
      "source": [
        ""
      ],
      "execution_count": 0,
      "outputs": []
    }
  ]
}
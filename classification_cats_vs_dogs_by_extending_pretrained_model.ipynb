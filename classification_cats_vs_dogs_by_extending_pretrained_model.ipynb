{
  "nbformat": 4,
  "nbformat_minor": 0,
  "metadata": {
    "colab": {
      "name": "classification-cats-vs-dogs-by-extending-pretrained-model",
      "version": "0.3.2",
      "provenance": [],
      "collapsed_sections": [],
      "toc_visible": true,
      "include_colab_link": true
    },
    "kernelspec": {
      "name": "python3",
      "display_name": "Python 3"
    },
    "accelerator": "GPU"
  },
  "cells": [
    {
      "cell_type": "markdown",
      "metadata": {
        "id": "view-in-github",
        "colab_type": "text"
      },
      "source": [
        "[View in Colaboratory](https://colab.research.google.com/github/silentvoice/dl-with-keras/blob/master/classification_cats_vs_dogs_by_extending_pretrained_model.ipynb)"
      ]
    },
    {
      "metadata": {
        "id": "rCxHTcOHpnjj",
        "colab_type": "text"
      },
      "cell_type": "markdown",
      "source": [
        "# Classification Cats Vs Dogs Using Pre-trained Model"
      ]
    },
    {
      "metadata": {
        "id": "QjipQwLwN3ue",
        "colab_type": "code",
        "colab": {}
      },
      "cell_type": "code",
      "source": [
        "# this resets the state of the machine (e.g. if you want to re-install from scratch  # this  \n",
        "# or reset memory usage in this instance)\n",
        "# wait a minute after running it and then reload the page\n",
        "!kill -9 -1"
      ],
      "execution_count": 0,
      "outputs": []
    },
    {
      "metadata": {
        "id": "2UlCGg0IpzTW",
        "colab_type": "text"
      },
      "cell_type": "markdown",
      "source": [
        "## Check Tensorflow Version"
      ]
    },
    {
      "metadata": {
        "id": "GN9C5Hh3pXS0",
        "colab_type": "code",
        "colab": {}
      },
      "cell_type": "code",
      "source": [
        "import tensorflow as tf"
      ],
      "execution_count": 0,
      "outputs": []
    },
    {
      "metadata": {
        "id": "hz8_FKF1nBZM",
        "colab_type": "code",
        "colab": {
          "base_uri": "https://localhost:8080/",
          "height": 34
        },
        "outputId": "f47c98de-3648-45db-c6b1-28d672b7f815"
      },
      "cell_type": "code",
      "source": [
        "tf.test.gpu_device_name()"
      ],
      "execution_count": 2,
      "outputs": [
        {
          "output_type": "execute_result",
          "data": {
            "text/plain": [
              "'/device:GPU:0'"
            ]
          },
          "metadata": {
            "tags": []
          },
          "execution_count": 2
        }
      ]
    },
    {
      "metadata": {
        "id": "NBO8e2kHoFSI",
        "colab_type": "code",
        "colab": {
          "base_uri": "https://localhost:8080/",
          "height": 34
        },
        "outputId": "c4174044-19c6-434d-b090-81c65b56de00"
      },
      "cell_type": "code",
      "source": [
        "tf.__version__"
      ],
      "execution_count": 3,
      "outputs": [
        {
          "output_type": "execute_result",
          "data": {
            "text/plain": [
              "'1.9.0-rc2'"
            ]
          },
          "metadata": {
            "tags": []
          },
          "execution_count": 3
        }
      ]
    },
    {
      "metadata": {
        "id": "JFlI4hFYpNBo",
        "colab_type": "text"
      },
      "cell_type": "markdown",
      "source": [
        "## Imports"
      ]
    },
    {
      "metadata": {
        "id": "QEIfV4L5qMZP",
        "colab_type": "code",
        "colab": {}
      },
      "cell_type": "code",
      "source": [
        "from tensorflow import keras\n",
        "from tensorflow.python.keras import layers, models, optimizers\n",
        "from tensorflow.python.keras.preprocessing import image\n",
        "from tensorflow.python.keras.preprocessing.image import ImageDataGenerator\n",
        "from tensorflow.python.keras.applications import VGG16\n",
        "import numpy as np\n",
        "import matplotlib.pyplot as plt\n",
        "import os, shutil\n"
      ],
      "execution_count": 0,
      "outputs": []
    },
    {
      "metadata": {
        "id": "FX1hYnllqQDI",
        "colab_type": "text"
      },
      "cell_type": "markdown",
      "source": [
        "## Load Kaggle Dogs Dataset"
      ]
    },
    {
      "metadata": {
        "id": "a_PIk31fPBcX",
        "colab_type": "code",
        "colab": {}
      },
      "cell_type": "code",
      "source": [
        "# Run this cell and select the kaggle.json file downloaded\n",
        "# from the Kaggle account settings page.\n",
        "from google.colab import files\n",
        "files.upload()"
      ],
      "execution_count": 0,
      "outputs": []
    },
    {
      "metadata": {
        "id": "m0SpgzOVPqrZ",
        "colab_type": "code",
        "colab": {
          "base_uri": "https://localhost:8080/",
          "height": 34
        },
        "outputId": "90e0ebcd-c8a8-4651-e00e-5a66a8cf518a"
      },
      "cell_type": "code",
      "source": [
        "# Check if the kaggle.json file is present.\n",
        "!ls -lha kaggle.json"
      ],
      "execution_count": 7,
      "outputs": [
        {
          "output_type": "stream",
          "text": [
            "-rw-r--r-- 1 root root 66 Jul  6 15:36 kaggle.json\r\n"
          ],
          "name": "stdout"
        }
      ]
    },
    {
      "metadata": {
        "id": "jDE5mwC3P5dm",
        "colab_type": "code",
        "colab": {}
      },
      "cell_type": "code",
      "source": [
        "# Install the Kaggle API client.\n",
        "!pip install -q kaggle"
      ],
      "execution_count": 0,
      "outputs": []
    },
    {
      "metadata": {
        "id": "IzGKadvVP-zJ",
        "colab_type": "code",
        "colab": {}
      },
      "cell_type": "code",
      "source": [
        "# The Kaggle API client expects this file to be in ~/.kaggle,\n",
        "# so move it there.\n",
        "!mkdir -p ~/.kaggle\n",
        "!cp kaggle.json ~/.kaggle/\n",
        "\n",
        "# This permissions change avoids a warning on Kaggle tool startup.\n",
        "!chmod 600 /content/.kaggle/kaggle.json"
      ],
      "execution_count": 0,
      "outputs": []
    },
    {
      "metadata": {
        "id": "0S-fE4FsQHOg",
        "colab_type": "code",
        "colab": {
          "base_uri": "https://localhost:8080/",
          "height": 170
        },
        "outputId": "21536c73-38d7-4ad8-8990-fce83363cd93"
      },
      "cell_type": "code",
      "source": [
        "# Download dataset from kaggle\n",
        "!mkdir -p data/cats-vs-dogs && kaggle competitions download -c dogs-vs-cats -p data/cats-vs-dogs/"
      ],
      "execution_count": 10,
      "outputs": [
        {
          "output_type": "stream",
          "text": [
            "Downloading sampleSubmission.csv to data/cats-vs-dogs\r\n",
            "\r  0%|                                               | 0.00/86.8k [00:00<?, ?B/s]\r\n",
            "100%|██████████████████████████████████████| 86.8k/86.8k [00:00<00:00, 31.0MB/s]\n",
            "Downloading test1.zip to data/cats-vs-dogs\n",
            " 99%|████████████████████████████████████████▌| 268M/271M [00:02<00:00, 161MB/s]\n",
            "100%|█████████████████████████████████████████| 271M/271M [00:02<00:00, 123MB/s]\n",
            "Downloading train.zip to data/cats-vs-dogs\n",
            " 98%|████████████████████████████████████████▏| 532M/543M [00:03<00:00, 147MB/s]\n",
            "100%|█████████████████████████████████████████| 543M/543M [00:03<00:00, 157MB/s]\n"
          ],
          "name": "stdout"
        }
      ]
    },
    {
      "metadata": {
        "id": "ZZZZGCmSmZW_",
        "colab_type": "code",
        "colab": {}
      },
      "cell_type": "code",
      "source": [
        "!mkdir data/cats-vs-dogs/orig_data && unzip data/cats-vs-dogs/train.zip -d data/cats-vs-dogs/orig_data/"
      ],
      "execution_count": 0,
      "outputs": []
    },
    {
      "metadata": {
        "id": "uz_GR2xZtKHE",
        "colab_type": "code",
        "colab": {}
      },
      "cell_type": "code",
      "source": [
        "orig_data_dir = '/content/data/cats-vs-dogs/orig_data/train'"
      ],
      "execution_count": 0,
      "outputs": []
    },
    {
      "metadata": {
        "id": "HCpcC9YCtcHM",
        "colab_type": "code",
        "colab": {}
      },
      "cell_type": "code",
      "source": [
        "base_dir = '/content/data/small-cats-vs-dogs'\n",
        "os.mkdir(base_dir)"
      ],
      "execution_count": 0,
      "outputs": []
    },
    {
      "metadata": {
        "id": "w3hby9COt0dv",
        "colab_type": "code",
        "colab": {}
      },
      "cell_type": "code",
      "source": [
        "# Create Train, Validation and Test folders\n",
        "train_dir = os.path.join(base_dir, 'train')\n",
        "os.mkdir(train_dir)\n",
        "validation_dir = os.path.join(base_dir, 'validation')\n",
        "os.mkdir(validation_dir)\n",
        "test_dir = os.path.join(base_dir, 'test')\n",
        "os.mkdir(test_dir)"
      ],
      "execution_count": 0,
      "outputs": []
    },
    {
      "metadata": {
        "id": "8oCT25botvsy",
        "colab_type": "code",
        "colab": {}
      },
      "cell_type": "code",
      "source": [
        "# Prepare folders for cats and dogs  \n",
        "train_cats_dir = os.path.join(train_dir, 'cats')\n",
        "os.mkdir(train_cats_dir)\n",
        "train_dogs_dir = os.path.join(train_dir, 'dogs')\n",
        "os.mkdir(train_dogs_dir)\n",
        "\n",
        "validation_cats_dir = os.path.join(validation_dir, 'cats')\n",
        "os.mkdir(validation_cats_dir)\n",
        "validation_dogs_dir = os.path.join(validation_dir, 'dogs')\n",
        "os.mkdir(validation_dogs_dir)\n",
        "\n",
        "test_cats_dir = os.path.join(test_dir, 'cats')\n",
        "os.mkdir(test_cats_dir)\n",
        "test_dogs_dir = os.path.join(test_dir, 'dogs')\n",
        "os.mkdir(test_dogs_dir)"
      ],
      "execution_count": 0,
      "outputs": []
    },
    {
      "metadata": {
        "id": "B5Skq-bhxrJF",
        "colab_type": "code",
        "colab": {
          "base_uri": "https://localhost:8080/",
          "height": 204
        },
        "outputId": "6589d1fe-e550-48a0-ebd8-1f269d67aede"
      },
      "cell_type": "code",
      "source": [
        "!ls data/cats-vs-dogs/orig_data/train | head\n"
      ],
      "execution_count": 16,
      "outputs": [
        {
          "output_type": "stream",
          "text": [
            "cat.0.jpg\r\n",
            "cat.10000.jpg\r\n",
            "cat.10001.jpg\r\n",
            "cat.10002.jpg\r\n",
            "cat.10003.jpg\r\n",
            "cat.10004.jpg\r\n",
            "cat.10005.jpg\r\n",
            "cat.10006.jpg\r\n",
            "cat.10007.jpg\r\n",
            "cat.10008.jpg\r\n",
            "ls: write error: Broken pipe\r\n"
          ],
          "name": "stdout"
        }
      ]
    },
    {
      "metadata": {
        "id": "EiTF18GZ2QS4",
        "colab_type": "code",
        "colab": {}
      },
      "cell_type": "code",
      "source": [
        "# create a smaller train, validation and test dataset from orig_data\n",
        "train_cat_f_names = ['cat.{}.jpg'.format(i) for i in range(1000)]\n",
        "train_dog_f_names = ['dog.{}.jpg'.format(i) for i in range(1000)]\n",
        "\n",
        "val_cat_f_names = ['cat.{}.jpg'.format(i) for i in range(1000, 1500)]\n",
        "val_dog_f_names = ['dog.{}.jpg'.format(i) for i in range(1000, 1500)]\n",
        "\n",
        "test_cat_f_names = ['cat.{}.jpg'.format(i) for i in range(1500, 2000)]\n",
        "test_dog_f_names = ['dog.{}.jpg'.format(i) for i in range(1500, 2000)]"
      ],
      "execution_count": 0,
      "outputs": []
    },
    {
      "metadata": {
        "id": "NIruC4Pc3Z7d",
        "colab_type": "code",
        "colab": {}
      },
      "cell_type": "code",
      "source": [
        "for f_name in train_cat_f_names:\n",
        "  src = os.path.join(orig_data_dir, f_name)\n",
        "  dst = os.path.join(train_cats_dir, f_name)\n",
        "  shutil.copyfile(src, dst)\n",
        "  \n",
        "for f_name in val_cat_f_names:\n",
        "  src = os.path.join(orig_data_dir, f_name)\n",
        "  dst = os.path.join(validation_cats_dir, f_name)\n",
        "  shutil.copyfile(src, dst)\n",
        "  \n",
        "for f_name in test_cat_f_names:\n",
        "  src = os.path.join(orig_data_dir, f_name)\n",
        "  dst = os.path.join(test_cats_dir, f_name)\n",
        "  shutil.copyfile(src, dst)\n",
        "\n",
        "for f_name in train_dog_f_names:\n",
        "  src = os.path.join(orig_data_dir, f_name)\n",
        "  dst = os.path.join(train_dogs_dir, f_name)\n",
        "  shutil.copyfile(src, dst)\n",
        "  \n",
        "for f_name in val_dog_f_names:\n",
        "  src = os.path.join(orig_data_dir, f_name)\n",
        "  dst = os.path.join(validation_dogs_dir, f_name)\n",
        "  shutil.copyfile(src, dst)\n",
        "  \n",
        "for f_name in test_dog_f_names:\n",
        "  src = os.path.join(orig_data_dir, f_name)\n",
        "  dst = os.path.join(test_dogs_dir, f_name)\n",
        "  shutil.copyfile(src, dst) "
      ],
      "execution_count": 0,
      "outputs": []
    },
    {
      "metadata": {
        "id": "e4bVUVeI4swx",
        "colab_type": "code",
        "colab": {
          "base_uri": "https://localhost:8080/",
          "height": 34
        },
        "outputId": "100c1bde-66a1-4a80-9da3-6f06936c13d9"
      },
      "cell_type": "code",
      "source": [
        "len(os.listdir(train_cats_dir))"
      ],
      "execution_count": 0,
      "outputs": [
        {
          "output_type": "execute_result",
          "data": {
            "text/plain": [
              "1000"
            ]
          },
          "metadata": {
            "tags": []
          },
          "execution_count": 91
        }
      ]
    },
    {
      "metadata": {
        "id": "3onVFA0c5DDx",
        "colab_type": "code",
        "colab": {
          "base_uri": "https://localhost:8080/",
          "height": 34
        },
        "outputId": "cb4a3262-5e2f-44cc-b96a-5c07975a3809"
      },
      "cell_type": "code",
      "source": [
        "len(os.listdir(train_dogs_dir))"
      ],
      "execution_count": 21,
      "outputs": [
        {
          "output_type": "execute_result",
          "data": {
            "text/plain": [
              "1000"
            ]
          },
          "metadata": {
            "tags": []
          },
          "execution_count": 21
        }
      ]
    },
    {
      "metadata": {
        "id": "MIckwLvf7BLD",
        "colab_type": "text"
      },
      "cell_type": "markdown",
      "source": [
        "## Data Preparation \n"
      ]
    },
    {
      "metadata": {
        "id": "G4OAPDoF7g3b",
        "colab_type": "code",
        "colab": {
          "base_uri": "https://localhost:8080/",
          "height": 51
        },
        "outputId": "043e5801-fa45-448a-cd41-c5719b78e557"
      },
      "cell_type": "code",
      "source": [
        "train_data_gen = ImageDataGenerator(rescale=1./255,\n",
        "                                    rotation_range=40,\n",
        "                                    width_shift_range=0.2,\n",
        "                                    height_shift_range=0.2,\n",
        "                                    shear_range=0.2,\n",
        "                                    zoom_range=0.2,\n",
        "                                    horizontal_flip=True,\n",
        "                                    fill_mode='nearest')\n",
        "\n",
        "val_data_gen = ImageDataGenerator(rescale=1./255)\n",
        "\n",
        "train_generator = train_data_gen.flow_from_directory(train_dir,\n",
        "                                                    target_size=(150, 150),\n",
        "                                                    batch_size=20,\n",
        "                                                    class_mode='binary')\n",
        "\n",
        "validation_generator = val_data_gen.flow_from_directory(\n",
        "        validation_dir,\n",
        "        target_size=(150, 150),\n",
        "        batch_size=20,\n",
        "        class_mode='binary')"
      ],
      "execution_count": 23,
      "outputs": [
        {
          "output_type": "stream",
          "text": [
            "Found 2000 images belonging to 2 classes.\n",
            "Found 1000 images belonging to 2 classes.\n"
          ],
          "name": "stdout"
        }
      ]
    },
    {
      "metadata": {
        "id": "8yH3NVPi5XWZ",
        "colab_type": "text"
      },
      "cell_type": "markdown",
      "source": [
        "## VGG16 Resnet Base Model"
      ]
    },
    {
      "metadata": {
        "id": "NKG9eMUqzBET",
        "colab_type": "code",
        "colab": {
          "base_uri": "https://localhost:8080/",
          "height": 71
        },
        "outputId": "c9ceb24e-5f63-40f1-a876-51704f38ea8f"
      },
      "cell_type": "code",
      "source": [
        "conv_base = VGG16(weights='imagenet',\n",
        "                    include_top=False,\n",
        "                    input_shape=(150, 150, 3))"
      ],
      "execution_count": 24,
      "outputs": [
        {
          "output_type": "stream",
          "text": [
            "Downloading data from https://github.com/fchollet/deep-learning-models/releases/download/v0.1/vgg16_weights_tf_dim_ordering_tf_kernels_notop.h5\n",
            "58892288/58889256 [==============================] - 2s 0us/step\n"
          ],
          "name": "stdout"
        }
      ]
    },
    {
      "metadata": {
        "id": "6OasEo-hzqst",
        "colab_type": "code",
        "colab": {
          "base_uri": "https://localhost:8080/",
          "height": 782
        },
        "outputId": "2281462d-0b85-4096-8f79-4b26f0f73650"
      },
      "cell_type": "code",
      "source": [
        "conv_base.summary()"
      ],
      "execution_count": 25,
      "outputs": [
        {
          "output_type": "stream",
          "text": [
            "_________________________________________________________________\n",
            "Layer (type)                 Output Shape              Param #   \n",
            "=================================================================\n",
            "input_1 (InputLayer)         (None, 150, 150, 3)       0         \n",
            "_________________________________________________________________\n",
            "block1_conv1 (Conv2D)        (None, 150, 150, 64)      1792      \n",
            "_________________________________________________________________\n",
            "block1_conv2 (Conv2D)        (None, 150, 150, 64)      36928     \n",
            "_________________________________________________________________\n",
            "block1_pool (MaxPooling2D)   (None, 75, 75, 64)        0         \n",
            "_________________________________________________________________\n",
            "block2_conv1 (Conv2D)        (None, 75, 75, 128)       73856     \n",
            "_________________________________________________________________\n",
            "block2_conv2 (Conv2D)        (None, 75, 75, 128)       147584    \n",
            "_________________________________________________________________\n",
            "block2_pool (MaxPooling2D)   (None, 37, 37, 128)       0         \n",
            "_________________________________________________________________\n",
            "block3_conv1 (Conv2D)        (None, 37, 37, 256)       295168    \n",
            "_________________________________________________________________\n",
            "block3_conv2 (Conv2D)        (None, 37, 37, 256)       590080    \n",
            "_________________________________________________________________\n",
            "block3_conv3 (Conv2D)        (None, 37, 37, 256)       590080    \n",
            "_________________________________________________________________\n",
            "block3_pool (MaxPooling2D)   (None, 18, 18, 256)       0         \n",
            "_________________________________________________________________\n",
            "block4_conv1 (Conv2D)        (None, 18, 18, 512)       1180160   \n",
            "_________________________________________________________________\n",
            "block4_conv2 (Conv2D)        (None, 18, 18, 512)       2359808   \n",
            "_________________________________________________________________\n",
            "block4_conv3 (Conv2D)        (None, 18, 18, 512)       2359808   \n",
            "_________________________________________________________________\n",
            "block4_pool (MaxPooling2D)   (None, 9, 9, 512)         0         \n",
            "_________________________________________________________________\n",
            "block5_conv1 (Conv2D)        (None, 9, 9, 512)         2359808   \n",
            "_________________________________________________________________\n",
            "block5_conv2 (Conv2D)        (None, 9, 9, 512)         2359808   \n",
            "_________________________________________________________________\n",
            "block5_conv3 (Conv2D)        (None, 9, 9, 512)         2359808   \n",
            "_________________________________________________________________\n",
            "block5_pool (MaxPooling2D)   (None, 4, 4, 512)         0         \n",
            "=================================================================\n",
            "Total params: 14,714,688\n",
            "Trainable params: 14,714,688\n",
            "Non-trainable params: 0\n",
            "_________________________________________________________________\n"
          ],
          "name": "stdout"
        }
      ]
    },
    {
      "metadata": {
        "id": "_B8Rz9V7-Uas",
        "colab_type": "text"
      },
      "cell_type": "markdown",
      "source": [
        "## Extend the base model"
      ]
    },
    {
      "metadata": {
        "id": "4BbqBG3cgkPc",
        "colab_type": "code",
        "colab": {}
      },
      "cell_type": "code",
      "source": [
        "model = models.Sequential()\n",
        "\n",
        "model.add(conv_base)\n",
        "model.add(layers.Flatten())\n",
        "model.add(layers.Dropout(0.5))\n",
        "model.add(layers.Dense(256, activation='relu'))\n",
        "model.add(layers.Dense(1, activation='sigmoid'))"
      ],
      "execution_count": 0,
      "outputs": []
    },
    {
      "metadata": {
        "id": "rAbNvznSLmBj",
        "colab_type": "code",
        "colab": {}
      },
      "cell_type": "code",
      "source": [
        "conv_base.trainable = False"
      ],
      "execution_count": 0,
      "outputs": []
    },
    {
      "metadata": {
        "id": "mvXyHlr7LlQd",
        "colab_type": "code",
        "colab": {}
      },
      "cell_type": "code",
      "source": [
        "model.compile(optimizer=optimizers.RMSprop(lr=2e-5),\n",
        "              loss='binary_crossentropy',\n",
        "              metrics=['acc'])\n"
      ],
      "execution_count": 0,
      "outputs": []
    },
    {
      "metadata": {
        "id": "QL36FeP-7Y6g",
        "colab_type": "code",
        "colab": {
          "base_uri": "https://localhost:8080/",
          "height": 306
        },
        "outputId": "c470f527-1447-4a77-fead-bac57f1880c3"
      },
      "cell_type": "code",
      "source": [
        "model.summary()"
      ],
      "execution_count": 29,
      "outputs": [
        {
          "output_type": "stream",
          "text": [
            "_________________________________________________________________\n",
            "Layer (type)                 Output Shape              Param #   \n",
            "=================================================================\n",
            "vgg16 (Model)                (None, 4, 4, 512)         14714688  \n",
            "_________________________________________________________________\n",
            "flatten (Flatten)            (None, 8192)              0         \n",
            "_________________________________________________________________\n",
            "dropout (Dropout)            (None, 8192)              0         \n",
            "_________________________________________________________________\n",
            "dense (Dense)                (None, 256)               2097408   \n",
            "_________________________________________________________________\n",
            "dense_1 (Dense)              (None, 1)                 257       \n",
            "=================================================================\n",
            "Total params: 16,812,353\n",
            "Trainable params: 2,097,665\n",
            "Non-trainable params: 14,714,688\n",
            "_________________________________________________________________\n"
          ],
          "name": "stdout"
        }
      ]
    },
    {
      "metadata": {
        "id": "DuSQnWXf7m4S",
        "colab_type": "text"
      },
      "cell_type": "markdown",
      "source": [
        "## Train the Model"
      ]
    },
    {
      "metadata": {
        "id": "3PPbdUhx7YMT",
        "colab_type": "code",
        "colab": {
          "base_uri": "https://localhost:8080/",
          "height": 1037
        },
        "outputId": "e25d4d57-b41c-40f1-be97-095c28f3ca0a"
      },
      "cell_type": "code",
      "source": [
        "model_history = model.fit_generator(train_generator,\n",
        "                                    steps_per_epoch=100,\n",
        "                                    epochs=30,\n",
        "                                    validation_data=validation_generator,\n",
        "                                    validation_steps=50,\n",
        "                                    verbose=2)"
      ],
      "execution_count": 30,
      "outputs": [
        {
          "output_type": "stream",
          "text": [
            "Epoch 1/30\n",
            " - 32s - loss: 0.6724 - acc: 0.5880 - val_loss: 0.5107 - val_acc: 0.8030\n",
            "Epoch 2/30\n",
            " - 28s - loss: 0.5743 - acc: 0.6875 - val_loss: 0.4519 - val_acc: 0.7960\n",
            "Epoch 3/30\n",
            " - 28s - loss: 0.5215 - acc: 0.7495 - val_loss: 0.3867 - val_acc: 0.8490\n",
            "Epoch 4/30\n",
            " - 29s - loss: 0.4937 - acc: 0.7720 - val_loss: 0.3764 - val_acc: 0.8150\n",
            "Epoch 5/30\n",
            " - 29s - loss: 0.4654 - acc: 0.7685 - val_loss: 0.3497 - val_acc: 0.8330\n",
            "Epoch 6/30\n",
            " - 29s - loss: 0.4406 - acc: 0.7910 - val_loss: 0.3160 - val_acc: 0.8840\n",
            "Epoch 7/30\n",
            " - 29s - loss: 0.4283 - acc: 0.7995 - val_loss: 0.3095 - val_acc: 0.8680\n",
            "Epoch 8/30\n",
            " - 29s - loss: 0.4245 - acc: 0.8085 - val_loss: 0.2948 - val_acc: 0.8860\n",
            "Epoch 9/30\n",
            " - 29s - loss: 0.4003 - acc: 0.8165 - val_loss: 0.2871 - val_acc: 0.8870\n",
            "Epoch 10/30\n",
            " - 29s - loss: 0.4012 - acc: 0.8090 - val_loss: 0.2813 - val_acc: 0.8940\n",
            "Epoch 11/30\n",
            " - 28s - loss: 0.3804 - acc: 0.8345 - val_loss: 0.2827 - val_acc: 0.8820\n",
            "Epoch 12/30\n",
            " - 28s - loss: 0.3752 - acc: 0.8365 - val_loss: 0.2880 - val_acc: 0.8790\n",
            "Epoch 13/30\n",
            " - 29s - loss: 0.3873 - acc: 0.8225 - val_loss: 0.2722 - val_acc: 0.8880\n",
            "Epoch 14/30\n",
            " - 28s - loss: 0.3731 - acc: 0.8365 - val_loss: 0.2701 - val_acc: 0.8900\n",
            "Epoch 15/30\n",
            " - 28s - loss: 0.3912 - acc: 0.8200 - val_loss: 0.2684 - val_acc: 0.8890\n",
            "Epoch 16/30\n",
            " - 29s - loss: 0.3657 - acc: 0.8395 - val_loss: 0.2641 - val_acc: 0.8920\n",
            "Epoch 17/30\n",
            " - 29s - loss: 0.3711 - acc: 0.8340 - val_loss: 0.2617 - val_acc: 0.8930\n",
            "Epoch 18/30\n",
            " - 29s - loss: 0.3645 - acc: 0.8355 - val_loss: 0.2688 - val_acc: 0.8900\n",
            "Epoch 19/30\n",
            " - 29s - loss: 0.3659 - acc: 0.8405 - val_loss: 0.2599 - val_acc: 0.8970\n",
            "Epoch 20/30\n",
            " - 28s - loss: 0.3427 - acc: 0.8520 - val_loss: 0.2593 - val_acc: 0.8940\n",
            "Epoch 21/30\n",
            " - 28s - loss: 0.3621 - acc: 0.8295 - val_loss: 0.2549 - val_acc: 0.8960\n",
            "Epoch 22/30\n",
            " - 29s - loss: 0.3584 - acc: 0.8380 - val_loss: 0.2632 - val_acc: 0.8910\n",
            "Epoch 23/30\n",
            " - 29s - loss: 0.3701 - acc: 0.8250 - val_loss: 0.2508 - val_acc: 0.8960\n",
            "Epoch 24/30\n",
            " - 29s - loss: 0.3489 - acc: 0.8405 - val_loss: 0.2486 - val_acc: 0.9000\n",
            "Epoch 25/30\n",
            " - 29s - loss: 0.3551 - acc: 0.8455 - val_loss: 0.2686 - val_acc: 0.8890\n",
            "Epoch 26/30\n",
            " - 29s - loss: 0.3514 - acc: 0.8380 - val_loss: 0.2479 - val_acc: 0.9040\n",
            "Epoch 27/30\n",
            " - 29s - loss: 0.3376 - acc: 0.8450 - val_loss: 0.2475 - val_acc: 0.8990\n",
            "Epoch 28/30\n",
            " - 29s - loss: 0.3559 - acc: 0.8335 - val_loss: 0.2539 - val_acc: 0.8970\n",
            "Epoch 29/30\n",
            " - 29s - loss: 0.3492 - acc: 0.8415 - val_loss: 0.2470 - val_acc: 0.9010\n",
            "Epoch 30/30\n",
            " - 29s - loss: 0.3396 - acc: 0.8495 - val_loss: 0.2638 - val_acc: 0.8930\n"
          ],
          "name": "stdout"
        }
      ]
    },
    {
      "metadata": {
        "id": "5ZjCGIJsDO28",
        "colab_type": "code",
        "colab": {}
      },
      "cell_type": "code",
      "source": [
        "model.save('small-cats-vs-dogs-vgg16-extended.h5')"
      ],
      "execution_count": 0,
      "outputs": []
    },
    {
      "metadata": {
        "id": "cDRtGy3GDY3g",
        "colab_type": "text"
      },
      "cell_type": "markdown",
      "source": [
        "## Plot Train and Validation loss and accuracy"
      ]
    },
    {
      "metadata": {
        "id": "29lw9GS7Dl1-",
        "colab_type": "code",
        "colab": {}
      },
      "cell_type": "code",
      "source": [
        "train_acc = model_history.history['acc']\n",
        "val_acc = model_history.history['val_acc']\n",
        "train_loss = model_history.history['loss']\n",
        "val_loss = model_history.history['val_loss']"
      ],
      "execution_count": 0,
      "outputs": []
    },
    {
      "metadata": {
        "id": "P0y_FVYaD6Zh",
        "colab_type": "code",
        "colab": {
          "base_uri": "https://localhost:8080/",
          "height": 393
        },
        "outputId": "44db0ef8-e0f7-46d7-989a-ee4d143f72cd"
      },
      "cell_type": "code",
      "source": [
        "epochs = range(len(train_acc))\n",
        "plt.plot(epochs, train_acc, 'r', label='Training accuracy')\n",
        "plt.plot(epochs, val_acc, 'b', label='Validation accuracy')\n",
        "plt.title('Training and Validation Accuracy')\n",
        "plt.xlabel('Epoch')\n",
        "plt.ylabel('Accuracy')\n",
        "plt.legend()"
      ],
      "execution_count": 33,
      "outputs": [
        {
          "output_type": "execute_result",
          "data": {
            "text/plain": [
              "<matplotlib.legend.Legend at 0x7f71c6f94630>"
            ]
          },
          "metadata": {
            "tags": []
          },
          "execution_count": 33
        },
        {
          "output_type": "display_data",
          "data": {
            "image/png": "[encoded data removed]",
            "text/plain": [
              "<matplotlib.figure.Figure at 0x7f71b572aa90>"
            ]
          },
          "metadata": {
            "tags": []
          }
        }
      ]
    },
    {
      "metadata": {
        "id": "ncqLLVwYEgUg",
        "colab_type": "code",
        "colab": {
          "base_uri": "https://localhost:8080/",
          "height": 393
        },
        "outputId": "69fc1bab-e49c-4179-f40d-53a73d6b1d64"
      },
      "cell_type": "code",
      "source": [
        "plt.plot(epochs, train_loss, 'r', label='Training Loss')\n",
        "plt.plot(epochs, val_loss, 'b', label='Validation Loss')\n",
        "plt.title('Training and Validation Loss')\n",
        "plt.xlabel('Epoch')\n",
        "plt.ylabel('Loss')\n",
        "plt.legend()"
      ],
      "execution_count": 34,
      "outputs": [
        {
          "output_type": "execute_result",
          "data": {
            "text/plain": [
              "<matplotlib.legend.Legend at 0x7f71cd3128d0>"
            ]
          },
          "metadata": {
            "tags": []
          },
          "execution_count": 34
        },
        {
          "output_type": "display_data",
          "data": {
            "image/png": "[encoded data removed]",
            "text/plain": [
              "<matplotlib.figure.Figure at 0x7f71b5715b70>"
            ]
          },
          "metadata": {
            "tags": []
          }
        }
      ]
    },
    {
      "metadata": {
        "id": "6xAB1hVeUq-Q",
        "colab_type": "code",
        "colab": {}
      },
      "cell_type": "code",
      "source": [
        ""
      ],
      "execution_count": 0,
      "outputs": []
    }
  ]
}
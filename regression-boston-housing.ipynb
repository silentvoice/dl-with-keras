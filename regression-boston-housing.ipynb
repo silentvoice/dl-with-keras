{
 "cells": [
  {
   "cell_type": "markdown",
   "metadata": {
    "colab_type": "text",
    "id": "view-in-github"
   },
   "source": [
    "[View in Colaboratory](https://colab.research.google.com/github/silentvoice/dl-with-keras/blob/master/regression-boston-housing.ipynb)"
   ]
  },
  {
   "cell_type": "markdown",
   "metadata": {
    "colab_type": "text",
    "id": "rCxHTcOHpnjj"
   },
   "source": [
    "# Boston Housing Price Prediction --  Regression"
   ]
  },
  {
   "cell_type": "markdown",
   "metadata": {
    "colab_type": "text",
    "id": "2UlCGg0IpzTW"
   },
   "source": [
    "## Check Tensorflow Version"
   ]
  },
  {
   "cell_type": "code",
   "execution_count": 0,
   "metadata": {
    "colab": {},
    "colab_type": "code",
    "id": "GN9C5Hh3pXS0"
   },
   "outputs": [],
   "source": [
    "import tensorflow as tf"
   ]
  },
  {
   "cell_type": "code",
   "execution_count": 60,
   "metadata": {
    "colab": {
     "base_uri": "https://localhost:8080/",
     "height": 34
    },
    "colab_type": "code",
    "id": "hz8_FKF1nBZM",
    "outputId": "02392bab-4b11-4025-ead2-bab80cd40f58"
   },
   "outputs": [
    {
     "data": {
      "text/plain": [
       "'/device:GPU:0'"
      ]
     },
     "execution_count": 60,
     "metadata": {
      "tags": []
     },
     "output_type": "execute_result"
    }
   ],
   "source": [
    "tf.test.gpu_device_name()"
   ]
  },
  {
   "cell_type": "code",
   "execution_count": 61,
   "metadata": {
    "colab": {
     "base_uri": "https://localhost:8080/",
     "height": 34
    },
    "colab_type": "code",
    "id": "NBO8e2kHoFSI",
    "outputId": "c1d3240f-706a-4a33-df7a-2dfb1bc74c90"
   },
   "outputs": [
    {
     "data": {
      "text/plain": [
       "'1.9.0-rc2'"
      ]
     },
     "execution_count": 61,
     "metadata": {
      "tags": []
     },
     "output_type": "execute_result"
    }
   ],
   "source": [
    "tf.__version__"
   ]
  },
  {
   "cell_type": "markdown",
   "metadata": {
    "colab_type": "text",
    "id": "JFlI4hFYpNBo"
   },
   "source": [
    "## Imports"
   ]
  },
  {
   "cell_type": "code",
   "execution_count": 0,
   "metadata": {
    "colab": {},
    "colab_type": "code",
    "id": "QEIfV4L5qMZP"
   },
   "outputs": [],
   "source": [
    "from tensorflow import keras\n",
    "from tensorflow.python.keras.datasets import boston_housing\n",
    "from tensorflow.python.keras import layers, models\n",
    "import numpy as np\n",
    "import matplotlib.pyplot as plt"
   ]
  },
  {
   "cell_type": "markdown",
   "metadata": {
    "colab_type": "text",
    "id": "FX1hYnllqQDI"
   },
   "source": [
    "## Load Boston Housing Dataset"
   ]
  },
  {
   "cell_type": "code",
   "execution_count": 0,
   "metadata": {
    "colab": {},
    "colab_type": "code",
    "id": "FWLu6M9bqxcx"
   },
   "outputs": [],
   "source": [
    "(train_data, train_targets), (test_data, test_targets) = boston_housing.load_data()"
   ]
  },
  {
   "cell_type": "code",
   "execution_count": 64,
   "metadata": {
    "colab": {
     "base_uri": "https://localhost:8080/",
     "height": 34
    },
    "colab_type": "code",
    "id": "y0Cox0a0rxf2",
    "outputId": "30f937ce-a955-4ce9-ecc0-73f853c52e69"
   },
   "outputs": [
    {
     "data": {
      "text/plain": [
       "(404, 13)"
      ]
     },
     "execution_count": 64,
     "metadata": {
      "tags": []
     },
     "output_type": "execute_result"
    }
   ],
   "source": [
    "train_data.shape"
   ]
  },
  {
   "cell_type": "code",
   "execution_count": 65,
   "metadata": {
    "colab": {
     "base_uri": "https://localhost:8080/",
     "height": 68
    },
    "colab_type": "code",
    "id": "BMyd1YXDsICl",
    "outputId": "1fe0f5c3-3d0b-4ae4-8252-4bdf719d1951"
   },
   "outputs": [
    {
     "data": {
      "text/plain": [
       "array([  1.23247,   0.     ,   8.14   ,   0.     ,   0.538  ,   6.142  ,\n",
       "        91.7    ,   3.9769 ,   4.     , 307.     ,  21.     , 396.9    ,\n",
       "        18.72   ])"
      ]
     },
     "execution_count": 65,
     "metadata": {
      "tags": []
     },
     "output_type": "execute_result"
    }
   ],
   "source": [
    "train_data[0]"
   ]
  },
  {
   "cell_type": "code",
   "execution_count": 66,
   "metadata": {
    "colab": {
     "base_uri": "https://localhost:8080/",
     "height": 34
    },
    "colab_type": "code",
    "id": "2qZgCLo_sK52",
    "outputId": "ebf60ab5-6344-4ad0-920b-5d8a8177fb47"
   },
   "outputs": [
    {
     "data": {
      "text/plain": [
       "(404,)"
      ]
     },
     "execution_count": 66,
     "metadata": {
      "tags": []
     },
     "output_type": "execute_result"
    }
   ],
   "source": [
    "train_targets.shape"
   ]
  },
  {
   "cell_type": "code",
   "execution_count": 67,
   "metadata": {
    "colab": {
     "base_uri": "https://localhost:8080/",
     "height": 34
    },
    "colab_type": "code",
    "id": "VmsspVwosSA6",
    "outputId": "b555a5c3-cea3-4949-e965-ba3feb3e3051"
   },
   "outputs": [
    {
     "data": {
      "text/plain": [
       "15.2"
      ]
     },
     "execution_count": 67,
     "metadata": {
      "tags": []
     },
     "output_type": "execute_result"
    }
   ],
   "source": [
    "train_targets[0]"
   ]
  },
  {
   "cell_type": "code",
   "execution_count": 68,
   "metadata": {
    "colab": {
     "base_uri": "https://localhost:8080/",
     "height": 34
    },
    "colab_type": "code",
    "id": "TqLtK0r6fe9b",
    "outputId": "f88bf140-a944-4452-cbe0-b4002181fd59"
   },
   "outputs": [
    {
     "data": {
      "text/plain": [
       "(102, 13)"
      ]
     },
     "execution_count": 68,
     "metadata": {
      "tags": []
     },
     "output_type": "execute_result"
    }
   ],
   "source": [
    "test_data.shape"
   ]
  },
  {
   "cell_type": "markdown",
   "metadata": {
    "colab_type": "text",
    "id": "JI26BqkP0Qwg"
   },
   "source": [
    "## Data Preparation"
   ]
  },
  {
   "cell_type": "markdown",
   "metadata": {
    "colab_type": "text",
    "id": "J0OPDlT-gQlh"
   },
   "source": [
    "### Normalize Train and Test Data"
   ]
  },
  {
   "cell_type": "code",
   "execution_count": 0,
   "metadata": {
    "colab": {},
    "colab_type": "code",
    "id": "d1FshZ5u0eWY"
   },
   "outputs": [],
   "source": [
    "mean = train_data.mean()\n",
    "std = train_data.std()"
   ]
  },
  {
   "cell_type": "code",
   "execution_count": 0,
   "metadata": {
    "colab": {},
    "colab_type": "code",
    "id": "fxN_Lngl1fqz"
   },
   "outputs": [],
   "source": [
    "train_data -= mean\n",
    "train_data /= std"
   ]
  },
  {
   "cell_type": "code",
   "execution_count": 0,
   "metadata": {
    "colab": {},
    "colab_type": "code",
    "id": "83Icrv904CPo"
   },
   "outputs": [],
   "source": [
    "test_data -= mean\n",
    "test_data /= std"
   ]
  },
  {
   "cell_type": "markdown",
   "metadata": {
    "colab_type": "text",
    "id": "8yH3NVPi5XWZ"
   },
   "source": [
    "## Model"
   ]
  },
  {
   "cell_type": "code",
   "execution_count": 0,
   "metadata": {
    "colab": {},
    "colab_type": "code",
    "id": "4BbqBG3cgkPc"
   },
   "outputs": [],
   "source": [
    "def create_model():\n",
    "  model = models.Sequential()\n",
    "  model.add(layers.Dense(64, activation='relu', input_shape=(train_data.shape[1],)))\n",
    "  model.add(layers.Dense(64, activation='relu'))\n",
    "  model.add(layers.Dense(1))\n",
    "  model.compile(optimizer='rmsprop',\n",
    "                loss='mse',\n",
    "                metrics=['mae'])\n",
    "  return model"
   ]
  },
  {
   "cell_type": "markdown",
   "metadata": {
    "colab_type": "text",
    "id": "DuSQnWXf7m4S"
   },
   "source": [
    "## K-fold validation"
   ]
  },
  {
   "cell_type": "code",
   "execution_count": 0,
   "metadata": {
    "colab": {},
    "colab_type": "code",
    "id": "q1Sz_mx5shrf"
   },
   "outputs": [],
   "source": [
    "k = 4"
   ]
  },
  {
   "cell_type": "code",
   "execution_count": 0,
   "metadata": {
    "colab": {},
    "colab_type": "code",
    "id": "HidQrxZbs38I"
   },
   "outputs": [],
   "source": [
    "n_val_samples = len(train_data) // k"
   ]
  },
  {
   "cell_type": "code",
   "execution_count": 0,
   "metadata": {
    "colab": {},
    "colab_type": "code",
    "id": "7ICesHTMfxna"
   },
   "outputs": [],
   "source": [
    "epochs = 500"
   ]
  },
  {
   "cell_type": "code",
   "execution_count": 0,
   "metadata": {
    "colab": {},
    "colab_type": "code",
    "id": "N58U4UJPpgSw"
   },
   "outputs": [],
   "source": [
    "keras.backend.clear_session()"
   ]
  },
  {
   "cell_type": "code",
   "execution_count": 77,
   "metadata": {
    "colab": {
     "base_uri": "https://localhost:8080/",
     "height": 85
    },
    "colab_type": "code",
    "id": "tf9Ge1GDf2F_",
    "outputId": "fc6da9db-cd95-42a1-9dd4-cef2fa42f550"
   },
   "outputs": [
    {
     "name": "stdout",
     "output_type": "stream",
     "text": [
      "Executing Fold: 0\n",
      "Executing Fold: 1\n",
      "Executing Fold: 2\n",
      "Executing Fold: 3\n"
     ]
    }
   ],
   "source": [
    "mae_histories = []\n",
    "\n",
    "for i in range(k):\n",
    "  \n",
    "  print('Executing Fold:', i)\n",
    " \n",
    "  val_data = train_data[i * n_val_samples: (i+1) * n_val_samples]\n",
    "  val_targets = train_targets[i * n_val_samples: (i+1) * n_val_samples]\n",
    "  \n",
    "  train_data_set = np.concatenate(\n",
    "      [train_data[:i * n_val_samples],\n",
    "      train_data[(i+1) * n_val_samples:]]\n",
    "  )\n",
    "  \n",
    "  train_targets_set = np.concatenate(\n",
    "    [train_targets[:i * n_val_samples],\n",
    "    train_targets[(i+1) * n_val_samples:]]\n",
    "  )\n",
    "  \n",
    "  model = create_model()\n",
    "  history = model.fit(train_data_set,\n",
    "              train_targets_set,\n",
    "              validation_data=(val_data, val_targets),\n",
    "              epochs=epochs,\n",
    "              batch_size=1,\n",
    "              verbose=0\n",
    "            )\n",
    "  mae_history = history.history['val_mean_absolute_error']\n",
    "  mae_histories.append(mae_history)"
   ]
  },
  {
   "cell_type": "code",
   "execution_count": 81,
   "metadata": {
    "colab": {
     "base_uri": "https://localhost:8080/",
     "height": 34
    },
    "colab_type": "code",
    "id": "Ne1HWmUSmLFg",
    "outputId": "bfd20e35-1dde-4c6a-d9d0-c85c802a3f02"
   },
   "outputs": [
    {
     "data": {
      "text/plain": [
       "4"
      ]
     },
     "execution_count": 81,
     "metadata": {
      "tags": []
     },
     "output_type": "execute_result"
    }
   ],
   "source": [
    "len(mae_histories)"
   ]
  },
  {
   "cell_type": "code",
   "execution_count": 0,
   "metadata": {
    "colab": {},
    "colab_type": "code",
    "id": "zdzxPRz9p0C4"
   },
   "outputs": [],
   "source": [
    "mean_maes = [\n",
    "    np.mean([mae[e] for mae in mae_histories]) for e in range(epochs)\n",
    "]"
   ]
  },
  {
   "cell_type": "markdown",
   "metadata": {
    "colab_type": "text",
    "id": "WOALGqQdq_6w"
   },
   "source": [
    "## Plot Validation MAE"
   ]
  },
  {
   "cell_type": "code",
   "execution_count": 83,
   "metadata": {
    "colab": {
     "base_uri": "https://localhost:8080/",
     "height": 378
    },
    "colab_type": "code",
    "id": "6i7qfZ2Ord1X",
    "outputId": "af403a12-997b-4d01-a486-2436800ae339"
   },
   "outputs": [
    {
     "data": {
      "text/plain": [
       "Text(0,0.5,'Validation MAE Score')"
      ]
     },
     "execution_count": 83,
     "metadata": {
      "tags": []
     },
     "output_type": "execute_result"
    },
    {
     "data": {
      "image/png": "[encoded data removed]",
      "text/plain": [
       "<matplotlib.figure.Figure at 0x7f52cdaec7b8>"
      ]
     },
     "metadata": {
      "tags": []
     },
     "output_type": "display_data"
    }
   ],
   "source": [
    "plt.plot(range(1, len(mean_maes)+1), mean_maes)\n",
    "plt.xlabel('Epochs')\n",
    "plt.ylabel('Validation MAE Score')"
   ]
  },
  {
   "cell_type": "code",
   "execution_count": 0,
   "metadata": {
    "colab": {},
    "colab_type": "code",
    "id": "USPW5621sxJT"
   },
   "outputs": [],
   "source": [
    "# Plot the validation mae using EMA (exponential moving average) to visualize the changes in the recent epochs\n",
    "def ema(points, factor):\n",
    "  ema_points = []\n",
    "  for point in points:\n",
    "    if ema_points:\n",
    "      previous = ema_points[-1]\n",
    "      ema_points.append(previous * factor + point * (1 - factor))\n",
    "    else:\n",
    "      ema_points.append(point)\n",
    "\n",
    "  return ema_points\n",
    "    "
   ]
  },
  {
   "cell_type": "code",
   "execution_count": 0,
   "metadata": {
    "colab": {},
    "colab_type": "code",
    "id": "UOLMIfAFuLNZ"
   },
   "outputs": [],
   "source": [
    "ema_maes = ema(mean_maes, 0.9)"
   ]
  },
  {
   "cell_type": "code",
   "execution_count": 89,
   "metadata": {
    "colab": {
     "base_uri": "https://localhost:8080/",
     "height": 378
    },
    "colab_type": "code",
    "id": "Dia1PKb5t_CI",
    "outputId": "c2b6a8ea-739b-4f88-b39b-6ee25f10b1b1"
   },
   "outputs": [
    {
     "data": {
      "text/plain": [
       "Text(0,0.5,'EMA Validation MAE Score')"
      ]
     },
     "execution_count": 89,
     "metadata": {
      "tags": []
     },
     "output_type": "execute_result"
    },
    {
     "data": {
      "image/png": "[encoded data removed]",
      "text/plain": [
       "<matplotlib.figure.Figure at 0x7f534a05dc50>"
      ]
     },
     "metadata": {
      "tags": []
     },
     "output_type": "display_data"
    }
   ],
   "source": [
    "plt.plot(range(1, len(ema_maes)+1), ema_maes)\n",
    "plt.xlabel('Epochs')\n",
    "plt.ylabel('EMA Validation MAE Score')"
   ]
  },
  {
   "cell_type": "markdown",
   "metadata": {
    "colab_type": "text",
    "id": "qaoX1DHtTqkI"
   },
   "source": [
    "## Train the model and evaluate it\n",
    "\n"
   ]
  },
  {
   "cell_type": "code",
   "execution_count": 94,
   "metadata": {
    "colab": {
     "base_uri": "https://localhost:8080/",
     "height": 34
    },
    "colab_type": "code",
    "id": "XPtHfaufSixn",
    "outputId": "84a3e10c-0ed1-49a8-f227-ed5108196da0"
   },
   "outputs": [
    {
     "name": "stdout",
     "output_type": "stream",
     "text": [
      "102/102 [==============================] - 0s 854us/step\n"
     ]
    }
   ],
   "source": [
    "model = create_model()\n",
    "model.fit(\n",
    "    train_data,\n",
    "    train_targets,\n",
    "    epochs=500,\n",
    "    batch_size=16,\n",
    "    verbose=0\n",
    ")\n",
    "test_mse, test_mae = model.evaluate(test_data, test_targets)"
   ]
  },
  {
   "cell_type": "code",
   "execution_count": 95,
   "metadata": {
    "colab": {
     "base_uri": "https://localhost:8080/",
     "height": 34
    },
    "colab_type": "code",
    "id": "Svl5rzigUHJ9",
    "outputId": "15fb7898-dc9b-4f30-fbb8-0c07bf6a4db8"
   },
   "outputs": [
    {
     "data": {
      "text/plain": [
       "3.9579489558350804"
      ]
     },
     "execution_count": 95,
     "metadata": {
      "tags": []
     },
     "output_type": "execute_result"
    }
   ],
   "source": [
    "test_mae"
   ]
  },
  {
   "cell_type": "code",
   "execution_count": 96,
   "metadata": {
    "colab": {
     "base_uri": "https://localhost:8080/",
     "height": 34
    },
    "colab_type": "code",
    "id": "GiEeNUqsucux",
    "outputId": "44008a82-7632-4f61-a6b7-09ee549e8cae"
   },
   "outputs": [
    {
     "data": {
      "text/plain": [
       "32.95947063670439"
      ]
     },
     "execution_count": 96,
     "metadata": {
      "tags": []
     },
     "output_type": "execute_result"
    }
   ],
   "source": [
    "test_mse"
   ]
  },
  {
   "cell_type": "code",
   "execution_count": 0,
   "metadata": {
    "colab": {},
    "colab_type": "code",
    "id": "wk2y8ymf2pjo"
   },
   "outputs": [],
   "source": []
  }
 ],
 "metadata": {
  "accelerator": "GPU",
  "colab": {
   "collapsed_sections": [],
   "include_colab_link": true,
   "name": "regression-boston-housing.ipynb",
   "provenance": [],
   "toc_visible": true,
   "version": "0.3.2"
  },
  "kernelspec": {
   "display_name": "Python 3",
   "language": "python",
   "name": "python3"
  },
  "language_info": {
   "codemirror_mode": {
    "name": "ipython",
    "version": 3
   },
   "file_extension": ".py",
   "mimetype": "text/x-python",
   "name": "python",
   "nbconvert_exporter": "python",
   "pygments_lexer": "ipython3",
   "version": "3.6.4"
  }
 },
 "nbformat": 4,
 "nbformat_minor": 1
}

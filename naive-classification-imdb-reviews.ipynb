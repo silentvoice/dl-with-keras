{
 "cells": [
  {
   "cell_type": "markdown",
   "metadata": {
    "colab_type": "text",
    "id": "view-in-github"
   },
   "source": [
    "[View in Colaboratory](https://colab.research.google.com/github/silentvoice/dl-with-keras/blob/master/naive-classification-imdb-reviews.ipynb)"
   ]
  },
  {
   "cell_type": "markdown",
   "metadata": {
    "colab_type": "text",
    "id": "rCxHTcOHpnjj"
   },
   "source": [
    "# Imdb Reviews Classification"
   ]
  },
  {
   "cell_type": "markdown",
   "metadata": {
    "colab_type": "text",
    "id": "2UlCGg0IpzTW"
   },
   "source": [
    "## Check Tensorflow Version"
   ]
  },
  {
   "cell_type": "code",
   "execution_count": 1,
   "metadata": {
    "colab": {
     "base_uri": "https://localhost:8080/",
     "height": 17
    },
    "colab_type": "code",
    "id": "GN9C5Hh3pXS0",
    "outputId": "f6b86a70-7d9d-4be4-9acb-020c217f7af4"
   },
   "outputs": [],
   "source": [
    "import tensorflow as tf"
   ]
  },
  {
   "cell_type": "code",
   "execution_count": 2,
   "metadata": {
    "colab": {
     "base_uri": "https://localhost:8080/",
     "height": 34
    },
    "colab_type": "code",
    "id": "hz8_FKF1nBZM",
    "outputId": "d6b1757f-cbfe-4832-e9a2-c3ac027888ee"
   },
   "outputs": [
    {
     "data": {
      "text/plain": [
       "'/device:GPU:0'"
      ]
     },
     "execution_count": 2,
     "metadata": {
      "tags": []
     },
     "output_type": "execute_result"
    }
   ],
   "source": [
    "tf.test.gpu_device_name()"
   ]
  },
  {
   "cell_type": "code",
   "execution_count": 3,
   "metadata": {
    "colab": {
     "base_uri": "https://localhost:8080/",
     "height": 34
    },
    "colab_type": "code",
    "id": "NBO8e2kHoFSI",
    "outputId": "137c820b-dc2d-49e3-9564-1f6c46a5cd5e"
   },
   "outputs": [
    {
     "data": {
      "text/plain": [
       "'1.9.0-rc2'"
      ]
     },
     "execution_count": 3,
     "metadata": {
      "tags": []
     },
     "output_type": "execute_result"
    }
   ],
   "source": [
    "tf.__version__"
   ]
  },
  {
   "cell_type": "markdown",
   "metadata": {
    "colab_type": "text",
    "id": "JFlI4hFYpNBo"
   },
   "source": [
    "## Imports"
   ]
  },
  {
   "cell_type": "code",
   "execution_count": 65,
   "metadata": {
    "colab": {
     "base_uri": "https://localhost:8080/",
     "height": 17
    },
    "colab_type": "code",
    "id": "QEIfV4L5qMZP",
    "outputId": "49e83a63-381f-47c5-e4ad-dffef9c10f57"
   },
   "outputs": [],
   "source": [
    "from tensorflow import keras\n",
    "from tensorflow.python.keras import preprocessing \n",
    "from tensorflow.python.keras.datasets import imdb\n",
    "from tensorflow.python.keras.models import Sequential\n",
    "from tensorflow.python.keras.layers import Embedding, Flatten, Dense\n",
    "import numpy as np\n",
    "import matplotlib.pyplot as plt\n",
    "import os"
   ]
  },
  {
   "cell_type": "markdown",
   "metadata": {
    "colab_type": "text",
    "id": "FX1hYnllqQDI"
   },
   "source": [
    "## Load Imdb dataset"
   ]
  },
  {
   "cell_type": "code",
   "execution_count": 5,
   "metadata": {
    "colab": {
     "base_uri": "https://localhost:8080/",
     "height": 51
    },
    "colab_type": "code",
    "id": "FWLu6M9bqxcx",
    "outputId": "ab217156-3ef8-4399-dc32-cbff802b193a"
   },
   "outputs": [
    {
     "name": "stdout",
     "output_type": "stream",
     "text": [
      "Downloading data from https://s3.amazonaws.com/text-datasets/imdb.npz\n",
      "17465344/17464789 [==============================] - 3s 0us/step\n"
     ]
    }
   ],
   "source": [
    "# Use top 10000 frequently used words from the dataset only, discard the rest\n",
    "(train_data, train_labels), (test_data, test_labels) = imdb.load_data(num_words=10000)"
   ]
  },
  {
   "cell_type": "code",
   "execution_count": 6,
   "metadata": {
    "colab": {
     "base_uri": "https://localhost:8080/",
     "height": 34
    },
    "colab_type": "code",
    "id": "y0Cox0a0rxf2",
    "outputId": "30c716a3-0cfa-4e6d-c04c-743fffd767ca"
   },
   "outputs": [
    {
     "data": {
      "text/plain": [
       "(25000,)"
      ]
     },
     "execution_count": 6,
     "metadata": {
      "tags": []
     },
     "output_type": "execute_result"
    }
   ],
   "source": [
    "train_data.shape"
   ]
  },
  {
   "cell_type": "code",
   "execution_count": 8,
   "metadata": {
    "colab": {
     "base_uri": "https://localhost:8080/",
     "height": 34
    },
    "colab_type": "code",
    "id": "BMyd1YXDsICl",
    "outputId": "26f1e182-ef66-4fe6-fb40-6951d683c95f"
   },
   "outputs": [
    {
     "data": {
      "text/plain": [
       "218"
      ]
     },
     "execution_count": 8,
     "metadata": {
      "tags": []
     },
     "output_type": "execute_result"
    }
   ],
   "source": [
    "len(train_data[0])"
   ]
  },
  {
   "cell_type": "code",
   "execution_count": 0,
   "metadata": {
    "colab": {
     "base_uri": "https://localhost:8080/",
     "height": 34
    },
    "colab_type": "code",
    "id": "2qZgCLo_sK52",
    "outputId": "7fcef173-1fa8-4e24-ca80-2c8119151ecb"
   },
   "outputs": [
    {
     "data": {
      "text/plain": [
       "(25000,)"
      ]
     },
     "execution_count": 11,
     "metadata": {
      "tags": []
     },
     "output_type": "execute_result"
    }
   ],
   "source": [
    "train_labels.shape"
   ]
  },
  {
   "cell_type": "code",
   "execution_count": 9,
   "metadata": {
    "colab": {
     "base_uri": "https://localhost:8080/",
     "height": 34
    },
    "colab_type": "code",
    "id": "VmsspVwosSA6",
    "outputId": "0f5f83d7-e331-4bb0-87d1-bdc57b85f3a8"
   },
   "outputs": [
    {
     "data": {
      "text/plain": [
       "1"
      ]
     },
     "execution_count": 9,
     "metadata": {
      "tags": []
     },
     "output_type": "execute_result"
    }
   ],
   "source": [
    "train_labels[0]"
   ]
  },
  {
   "cell_type": "code",
   "execution_count": 10,
   "metadata": {
    "colab": {
     "base_uri": "https://localhost:8080/",
     "height": 51
    },
    "colab_type": "code",
    "id": "V3GI1g8MsTni",
    "outputId": "00d46079-3798-4f13-c75d-99a077275dfd"
   },
   "outputs": [
    {
     "name": "stdout",
     "output_type": "stream",
     "text": [
      "Downloading data from https://s3.amazonaws.com/text-datasets/imdb_word_index.json\n",
      "1646592/1641221 [==============================] - 1s 1us/step\n"
     ]
    }
   ],
   "source": [
    "wrdtoidx = imdb.get_word_index()"
   ]
  },
  {
   "cell_type": "code",
   "execution_count": 11,
   "metadata": {
    "colab": {
     "base_uri": "https://localhost:8080/",
     "height": 17
    },
    "colab_type": "code",
    "id": "a6ODsojRyLh0",
    "outputId": "c36b3a01-13f7-462b-8338-76be9070f323"
   },
   "outputs": [],
   "source": [
    "idxtowrd = dict([(value, key) for (key, value) in wrdtoidx.items()])"
   ]
  },
  {
   "cell_type": "code",
   "execution_count": 12,
   "metadata": {
    "colab": {
     "base_uri": "https://localhost:8080/",
     "height": 17
    },
    "colab_type": "code",
    "id": "Q-eBueQ9yawR",
    "outputId": "eea73633-6400-4e9f-fd73-8f610dac8eb3"
   },
   "outputs": [],
   "source": [
    "sample_review = ' '.join([idxtowrd.get(idx) for idx in train_data[0]])"
   ]
  },
  {
   "cell_type": "code",
   "execution_count": 13,
   "metadata": {
    "colab": {
     "base_uri": "https://localhost:8080/",
     "height": 54
    },
    "colab_type": "code",
    "id": "9FkllOIM0PE-",
    "outputId": "42752d53-f4a1-4759-cd28-0d194d9eee07"
   },
   "outputs": [
    {
     "data": {
      "text/plain": [
       "\"the as you with out themselves powerful lets loves their becomes reaching had journalist of lot from anyone to have after out atmosphere never more room and it so heart shows to years of every never going and help moments or of every chest visual movie except her was several of enough more with is now current film as you of mine potentially unfortunately of you than him that with out themselves her get for was camp of you movie sometimes movie that with scary but and to story wonderful that in seeing in character to of 70s musicians with heart had shadows they of here that with her serious to have does when from why what have critics they is you that isn't one will very to as itself with other and in of seen over landed for anyone of and br show's to whether from than out themselves history he name half some br of and odd was two most of mean for 1 any an boat she he should is thought frog but of script you not while history he heart to real at barrel but when from one bit then have two of script their with her nobody most that with wasn't to with armed acting watch an for with heartfelt film want an\""
      ]
     },
     "execution_count": 13,
     "metadata": {
      "tags": []
     },
     "output_type": "execute_result"
    }
   ],
   "source": [
    "sample_review"
   ]
  },
  {
   "cell_type": "markdown",
   "metadata": {
    "colab_type": "text",
    "id": "JI26BqkP0Qwg"
   },
   "source": [
    "## Data Preparation"
   ]
  },
  {
   "cell_type": "code",
   "execution_count": 17,
   "metadata": {
    "colab": {
     "base_uri": "https://localhost:8080/",
     "height": 17
    },
    "colab_type": "code",
    "id": "fxN_Lngl1fqz",
    "outputId": "d8f8975b-802c-4b78-a431-1c2d8831b8d5"
   },
   "outputs": [],
   "source": [
    "def one_hot_encoder(samples, no_features):\n",
    "  output_tensor = np.zeros((len(samples), no_features))\n",
    "  for idx, sample in enumerate(samples):\n",
    "    output_tensor[idx, sample] = 1\n",
    "  return output_tensor"
   ]
  },
  {
   "cell_type": "code",
   "execution_count": 18,
   "metadata": {
    "colab": {
     "base_uri": "https://localhost:8080/",
     "height": 17
    },
    "colab_type": "code",
    "id": "83Icrv904CPo",
    "outputId": "5af16ea1-fe79-4516-b96c-6dddd40a56af"
   },
   "outputs": [],
   "source": [
    "x_train = one_hot_encoder(train_data, 10000)\n",
    "x_test = one_hot_encoder(test_data, 10000)"
   ]
  },
  {
   "cell_type": "code",
   "execution_count": 19,
   "metadata": {
    "colab": {
     "base_uri": "https://localhost:8080/",
     "height": 34
    },
    "colab_type": "code",
    "id": "bc8rr4ot4SnU",
    "outputId": "d3219070-93ce-4658-dcc6-917149cfee8f"
   },
   "outputs": [
    {
     "data": {
      "text/plain": [
       "array([0., 1., 1., ..., 0., 0., 0.])"
      ]
     },
     "execution_count": 19,
     "metadata": {
      "tags": []
     },
     "output_type": "execute_result"
    }
   ],
   "source": [
    "x_train[0]"
   ]
  },
  {
   "cell_type": "code",
   "execution_count": 20,
   "metadata": {
    "colab": {
     "base_uri": "https://localhost:8080/",
     "height": 17
    },
    "colab_type": "code",
    "id": "uSHAySCO4rEx",
    "outputId": "1493b6f1-72d8-4ff5-f8e0-9e7ecf6a26f3"
   },
   "outputs": [],
   "source": [
    "y_train = np.asarray(train_labels).astype('float32')\n",
    "y_test = np.asarray(test_labels).astype('float32')"
   ]
  },
  {
   "cell_type": "markdown",
   "metadata": {
    "colab_type": "text",
    "id": "8yH3NVPi5XWZ"
   },
   "source": [
    "## Model"
   ]
  },
  {
   "cell_type": "code",
   "execution_count": 21,
   "metadata": {
    "colab": {
     "base_uri": "https://localhost:8080/",
     "height": 17
    },
    "colab_type": "code",
    "id": "4jayeWfl6GqK",
    "outputId": "1d567aa5-a51e-4efa-ad75-d21ff73a0b7e"
   },
   "outputs": [],
   "source": [
    "model = keras.models.Sequential()"
   ]
  },
  {
   "cell_type": "code",
   "execution_count": 22,
   "metadata": {
    "colab": {
     "base_uri": "https://localhost:8080/",
     "height": 17
    },
    "colab_type": "code",
    "id": "SWcI74Ly6QeL",
    "outputId": "3b671526-6d7b-49e0-b2d9-55dc5664595b"
   },
   "outputs": [],
   "source": [
    "model.add(keras.layers.Dense(16, activation= 'relu',input_shape = (10000,)))"
   ]
  },
  {
   "cell_type": "code",
   "execution_count": 23,
   "metadata": {
    "colab": {
     "base_uri": "https://localhost:8080/",
     "height": 17
    },
    "colab_type": "code",
    "id": "Lh8u1XVp6rUY",
    "outputId": "87043ed8-024f-4d45-90bd-fb5e60704428"
   },
   "outputs": [],
   "source": [
    "model.add(keras.layers.Dense(16, activation= 'relu'))"
   ]
  },
  {
   "cell_type": "code",
   "execution_count": 24,
   "metadata": {
    "colab": {
     "base_uri": "https://localhost:8080/",
     "height": 17
    },
    "colab_type": "code",
    "id": "JtSBDx9w7GbU",
    "outputId": "8eaf3d89-dff1-4047-b5a8-3fae650d1bfd"
   },
   "outputs": [],
   "source": [
    "model.add(keras.layers.Dense(1, activation= 'sigmoid'))"
   ]
  },
  {
   "cell_type": "code",
   "execution_count": 25,
   "metadata": {
    "colab": {
     "base_uri": "https://localhost:8080/",
     "height": 17
    },
    "colab_type": "code",
    "id": "jzHPAfFa7K8b",
    "outputId": "6fc23101-845b-4976-8ccf-7baade79b9db"
   },
   "outputs": [],
   "source": [
    "model.compile(optimizer=keras.optimizers.RMSprop(lr=0.001),\n",
    "              loss='binary_crossentropy', \n",
    "              metrics=['accuracy'])"
   ]
  },
  {
   "cell_type": "markdown",
   "metadata": {
    "colab_type": "text",
    "id": "DuSQnWXf7m4S"
   },
   "source": [
    "## Create a dummy validation set"
   ]
  },
  {
   "cell_type": "code",
   "execution_count": 26,
   "metadata": {
    "colab": {
     "base_uri": "https://localhost:8080/",
     "height": 17
    },
    "colab_type": "code",
    "id": "q1Sz_mx5shrf",
    "outputId": "31bcd336-7e04-4b9a-f4f7-54bb8babe0be"
   },
   "outputs": [],
   "source": [
    "x_val_set = x_train[:10000]\n",
    "x_train_set = x_train[10000:]"
   ]
  },
  {
   "cell_type": "code",
   "execution_count": 27,
   "metadata": {
    "colab": {
     "base_uri": "https://localhost:8080/",
     "height": 17
    },
    "colab_type": "code",
    "id": "HidQrxZbs38I",
    "outputId": "83b135d3-01da-483d-c785-2aaec49b6dde"
   },
   "outputs": [],
   "source": [
    "y_val_set = y_train[:10000]\n",
    "y_train_set = y_train[10000:]"
   ]
  },
  {
   "cell_type": "markdown",
   "metadata": {
    "colab_type": "text",
    "id": "uixguYE-tUGh"
   },
   "source": [
    "## Train model using training data set"
   ]
  },
  {
   "cell_type": "code",
   "execution_count": 28,
   "metadata": {
    "colab": {
     "base_uri": "https://localhost:8080/",
     "height": 734
    },
    "colab_type": "code",
    "id": "REMoGhAYtdVA",
    "outputId": "f9ea3f41-d4b9-40bf-bf36-338888258758"
   },
   "outputs": [
    {
     "name": "stdout",
     "output_type": "stream",
     "text": [
      "Train on 15000 samples, validate on 10000 samples\n",
      "Epoch 1/20\n",
      "15000/15000 [==============================] - 2s 108us/step - loss: 0.5354 - acc: 0.7711 - val_loss: 0.4174 - val_acc: 0.8489\n",
      "Epoch 2/20\n",
      "15000/15000 [==============================] - 1s 82us/step - loss: 0.3253 - acc: 0.8999 - val_loss: 0.3166 - val_acc: 0.8851\n",
      "Epoch 3/20\n",
      "15000/15000 [==============================] - 1s 85us/step - loss: 0.2346 - acc: 0.9273 - val_loss: 0.2859 - val_acc: 0.8898\n",
      "Epoch 4/20\n",
      "15000/15000 [==============================] - 1s 82us/step - loss: 0.1858 - acc: 0.9424 - val_loss: 0.2745 - val_acc: 0.8895\n",
      "Epoch 5/20\n",
      "15000/15000 [==============================] - 1s 83us/step - loss: 0.1505 - acc: 0.9533 - val_loss: 0.2758 - val_acc: 0.8882\n",
      "Epoch 6/20\n",
      "15000/15000 [==============================] - 1s 83us/step - loss: 0.1271 - acc: 0.9612 - val_loss: 0.2896 - val_acc: 0.8871\n",
      "Epoch 7/20\n",
      "15000/15000 [==============================] - 1s 83us/step - loss: 0.1044 - acc: 0.9714 - val_loss: 0.3049 - val_acc: 0.8824\n",
      "Epoch 8/20\n",
      "15000/15000 [==============================] - 1s 83us/step - loss: 0.0879 - acc: 0.9756 - val_loss: 0.3209 - val_acc: 0.8833\n",
      "Epoch 9/20\n",
      "13824/15000 [==========================>...] - ETA: 0s - loss: 0.0732 - acc: 0.979915000/15000 [==============================] - 1s 83us/step - loss: 0.0731 - acc: 0.9800 - val_loss: 0.3665 - val_acc: 0.8728\n",
      "Epoch 10/20\n",
      "15000/15000 [==============================] - 1s 81us/step - loss: 0.0611 - acc: 0.9840 - val_loss: 0.3771 - val_acc: 0.8762\n",
      "Epoch 11/20\n",
      "15000/15000 [==============================] - 1s 81us/step - loss: 0.0490 - acc: 0.9884 - val_loss: 0.3898 - val_acc: 0.8769\n",
      "Epoch 12/20\n",
      "15000/15000 [==============================] - 1s 82us/step - loss: 0.0413 - acc: 0.9909 - val_loss: 0.4128 - val_acc: 0.8732\n",
      "Epoch 13/20\n",
      "15000/15000 [==============================] - 1s 84us/step - loss: 0.0338 - acc: 0.9925 - val_loss: 0.4372 - val_acc: 0.8741\n",
      "Epoch 14/20\n",
      "15000/15000 [==============================] - 1s 82us/step - loss: 0.0270 - acc: 0.9950 - val_loss: 0.4690 - val_acc: 0.8718\n",
      "Epoch 15/20\n",
      "15000/15000 [==============================] - 1s 84us/step - loss: 0.0210 - acc: 0.9969 - val_loss: 0.5374 - val_acc: 0.8647\n",
      "Epoch 16/20\n",
      "15000/15000 [==============================] - 1s 84us/step - loss: 0.0177 - acc: 0.9973 - val_loss: 0.5202 - val_acc: 0.8715\n",
      "Epoch 17/20\n",
      "15000/15000 [==============================] - 1s 83us/step - loss: 0.0109 - acc: 0.9993 - val_loss: 0.5755 - val_acc: 0.8668\n",
      "Epoch 18/20\n",
      " 5632/15000 [==========>...................] - ETA: 0s - loss: 0.0081 - acc: 0.999815000/15000 [==============================] - 1s 83us/step - loss: 0.0110 - acc: 0.9989 - val_loss: 0.5861 - val_acc: 0.8687\n",
      "Epoch 19/20\n",
      "15000/15000 [==============================] - 1s 85us/step - loss: 0.0083 - acc: 0.9993 - val_loss: 0.6197 - val_acc: 0.8681\n",
      "Epoch 20/20\n",
      "15000/15000 [==============================] - 1s 84us/step - loss: 0.0046 - acc: 0.9999 - val_loss: 0.6614 - val_acc: 0.8649\n"
     ]
    }
   ],
   "source": [
    "history = model.fit(x_train_set,\n",
    "          y_train_set,\n",
    "          epochs=20,\n",
    "          batch_size=512,\n",
    "          validation_data=(x_val_set, y_val_set))"
   ]
  },
  {
   "cell_type": "code",
   "execution_count": 29,
   "metadata": {
    "colab": {
     "base_uri": "https://localhost:8080/",
     "height": 34
    },
    "colab_type": "code",
    "id": "panqV2hWt_XH",
    "outputId": "c5cf69a8-af14-423c-fd82-c97a7a07dcd8"
   },
   "outputs": [
    {
     "data": {
      "text/plain": [
       "dict_keys(['val_loss', 'val_acc', 'loss', 'acc'])"
      ]
     },
     "execution_count": 29,
     "metadata": {
      "tags": []
     },
     "output_type": "execute_result"
    }
   ],
   "source": [
    "history.history.keys()"
   ]
  },
  {
   "cell_type": "markdown",
   "metadata": {
    "colab_type": "text",
    "id": "wJII3mz0uVkD"
   },
   "source": [
    "## Plot the training and validation loss and accuracy"
   ]
  },
  {
   "cell_type": "code",
   "execution_count": 31,
   "metadata": {
    "colab": {
     "base_uri": "https://localhost:8080/",
     "height": 17
    },
    "colab_type": "code",
    "id": "rKeR-gfVu0mw",
    "outputId": "ec7df519-474a-495a-ecb3-afd1ccbeef09"
   },
   "outputs": [],
   "source": [
    "train_acc = history.history['acc']\n",
    "val_acc = history.history['val_acc']\n",
    "train_loss = history.history['loss']\n",
    "val_loss = history.history['val_loss']"
   ]
  },
  {
   "cell_type": "code",
   "execution_count": 32,
   "metadata": {
    "colab": {
     "base_uri": "https://localhost:8080/",
     "height": 17
    },
    "colab_type": "code",
    "id": "TbFMBF9KvIIQ",
    "outputId": "f2732a20-8dc7-4db8-f6a5-e43807bfe69d"
   },
   "outputs": [],
   "source": [
    "epochs = range(1, len(train_acc) + 1)"
   ]
  },
  {
   "cell_type": "code",
   "execution_count": 33,
   "metadata": {
    "colab": {
     "base_uri": "https://localhost:8080/",
     "height": 393
    },
    "colab_type": "code",
    "id": "2iTVxb6vviUb",
    "outputId": "f09aa9d4-ec42-40d5-cd7b-088a4419bbd0"
   },
   "outputs": [
    {
     "data": {
      "text/plain": [
       "Text(0,0.5,'Loss')"
      ]
     },
     "execution_count": 33,
     "metadata": {
      "tags": []
     },
     "output_type": "execute_result"
    },
    {
     "data": {
      "image/png": "[encoded data removed]",
      "text/plain": [
       "<matplotlib.figure.Figure at 0x7ff324c40cc0>"
      ]
     },
     "metadata": {
      "tags": []
     },
     "output_type": "display_data"
    }
   ],
   "source": [
    "plt.plot(epochs, train_loss, 'ro', label='Training Loss')\n",
    "plt.plot(epochs, val_loss, 'g', label='Validation Loss')\n",
    "plt.title('Training and Validation Loss')\n",
    "plt.xlabel('Epoch')\n",
    "plt.ylabel('Loss')"
   ]
  },
  {
   "cell_type": "code",
   "execution_count": 34,
   "metadata": {
    "colab": {
     "base_uri": "https://localhost:8080/",
     "height": 393
    },
    "colab_type": "code",
    "id": "bTmaqyCrOOWt",
    "outputId": "d8b03504-51cf-4739-f89f-86965ae1ae7f"
   },
   "outputs": [
    {
     "data": {
      "text/plain": [
       "Text(0,0.5,'Accuracy')"
      ]
     },
     "execution_count": 34,
     "metadata": {
      "tags": []
     },
     "output_type": "execute_result"
    },
    {
     "data": {
      "image/png": "[encoded data removed]",
      "text/plain": [
       "<matplotlib.figure.Figure at 0x7ff324c7f518>"
      ]
     },
     "metadata": {
      "tags": []
     },
     "output_type": "display_data"
    }
   ],
   "source": [
    "plt.clf()\n",
    "plt.plot(epochs, train_acc, 'ro', label='Training Accuracy')\n",
    "plt.plot(epochs, val_acc, 'g', label='Validation Accuracy')\n",
    "plt.title('Training and Validation Accuracy')\n",
    "plt.xlabel('Epoch')\n",
    "plt.ylabel('Accuracy')"
   ]
  },
  {
   "cell_type": "markdown",
   "metadata": {
    "colab_type": "text",
    "id": "qaoX1DHtTqkI"
   },
   "source": [
    "## Retrain the entire model for 3 epochs"
   ]
  },
  {
   "cell_type": "code",
   "execution_count": 35,
   "metadata": {
    "colab": {
     "base_uri": "https://localhost:8080/",
     "height": 136
    },
    "colab_type": "code",
    "id": "XPtHfaufSixn",
    "outputId": "12395304-7593-46bd-b97f-27b6e0bc7bbd"
   },
   "outputs": [
    {
     "name": "stdout",
     "output_type": "stream",
     "text": [
      "Epoch 1/3\n",
      "25000/25000 [==============================] - 2s 60us/step - loss: 0.4900 - acc: 0.8247\n",
      "Epoch 2/3\n",
      "25000/25000 [==============================] - 1s 53us/step - loss: 0.2834 - acc: 0.9031\n",
      "Epoch 3/3\n",
      "25000/25000 [==============================] - 1s 55us/step - loss: 0.2128 - acc: 0.9264\n",
      "25000/25000 [==============================] - 3s 115us/step\n"
     ]
    }
   ],
   "source": [
    "model = keras.models.Sequential()\n",
    "model.add(keras.layers.Dense(16, activation='relu', input_shape=(10000,)))\n",
    "model.add(keras.layers.Dense(16, activation='relu'))\n",
    "model.add(keras.layers.Dense(1, activation='sigmoid'))\n",
    "model.compile(optimizer='rmsprop',\n",
    "              loss='binary_crossentropy',\n",
    "              metrics=['accuracy'])\n",
    "model.fit(x_train, y_train, epochs=3, batch_size=512)\n",
    "results = model.evaluate(x_test, y_test)"
   ]
  },
  {
   "cell_type": "code",
   "execution_count": 36,
   "metadata": {
    "colab": {
     "base_uri": "https://localhost:8080/",
     "height": 34
    },
    "colab_type": "code",
    "id": "Svl5rzigUHJ9",
    "outputId": "bef9287d-3d54-4672-e3f9-de9e557a528b"
   },
   "outputs": [
    {
     "data": {
      "text/plain": [
       "[0.277119307384491, 0.88968]"
      ]
     },
     "execution_count": 36,
     "metadata": {
      "tags": []
     },
     "output_type": "execute_result"
    }
   ],
   "source": [
    "results"
   ]
  },
  {
   "cell_type": "markdown",
   "metadata": {
    "colab_type": "text",
    "id": "PGfMzvi-T3_h"
   },
   "source": [
    "## Predict on test set"
   ]
  },
  {
   "cell_type": "code",
   "execution_count": 37,
   "metadata": {
    "colab": {
     "base_uri": "https://localhost:8080/",
     "height": 136
    },
    "colab_type": "code",
    "id": "dQKkobcXVPWw",
    "outputId": "bd6c2180-626e-4356-9a80-d88bc74bdb6f"
   },
   "outputs": [
    {
     "data": {
      "text/plain": [
       "array([[0.2754202 ],\n",
       "       [0.9996879 ],\n",
       "       [0.90766305],\n",
       "       ...,\n",
       "       [0.14857861],\n",
       "       [0.13795878],\n",
       "       [0.5992787 ]], dtype=float32)"
      ]
     },
     "execution_count": 37,
     "metadata": {
      "tags": []
     },
     "output_type": "execute_result"
    }
   ],
   "source": [
    "model.predict(x_test)"
   ]
  },
  {
   "cell_type": "markdown",
   "metadata": {
    "colab_type": "text",
    "id": "5qLgO6muVS2R"
   },
   "source": [
    "## Learning word embedding with embedding layer"
   ]
  },
  {
   "cell_type": "code",
   "execution_count": 44,
   "metadata": {
    "colab": {
     "base_uri": "https://localhost:8080/",
     "height": 17
    },
    "colab_type": "code",
    "id": "kmDdH69JKAmj",
    "outputId": "9e3c093e-6f87-4794-d90e-29ba8a0816f6"
   },
   "outputs": [],
   "source": [
    "max_features = 10000\n",
    "max_len = 20"
   ]
  },
  {
   "cell_type": "markdown",
   "metadata": {
    "colab_type": "text",
    "id": "l5PgrhVSK4Yq"
   },
   "source": [
    "### Load Imdb Dataset"
   ]
  },
  {
   "cell_type": "code",
   "execution_count": 43,
   "metadata": {
    "colab": {
     "base_uri": "https://localhost:8080/",
     "height": 17
    },
    "colab_type": "code",
    "id": "QGmZnFecKoGq",
    "outputId": "d469fef4-a795-42a4-b27b-91fe5858eb3f"
   },
   "outputs": [],
   "source": [
    "(x_train, x_label), (x_test, x_lable) = imdb.load_data(num_words=max_features)"
   ]
  },
  {
   "cell_type": "markdown",
   "metadata": {
    "colab_type": "text",
    "id": "d8MVn64RK1yY"
   },
   "source": [
    "### Preprocess Data"
   ]
  },
  {
   "cell_type": "code",
   "execution_count": 46,
   "metadata": {
    "colab": {
     "base_uri": "https://localhost:8080/",
     "height": 17
    },
    "colab_type": "code",
    "id": "Hg1AMh6iLGtf",
    "outputId": "c37e3276-3e89-4388-a04c-c2c96226f07b"
   },
   "outputs": [],
   "source": [
    "x_train = preprocessing.sequence.pad_sequences(x_train, maxlen=max_len)\n",
    "x_test = preprocessing.sequence.pad_sequences(x_test, maxlen=max_len)"
   ]
  },
  {
   "cell_type": "markdown",
   "metadata": {
    "colab_type": "text",
    "id": "UNocEcjnLf6Z"
   },
   "source": [
    "### Build Model"
   ]
  },
  {
   "cell_type": "code",
   "execution_count": 48,
   "metadata": {
    "colab": {
     "base_uri": "https://localhost:8080/",
     "height": 17
    },
    "colab_type": "code",
    "id": "LZUN6GKXLklu",
    "outputId": "a51df72b-6a1c-44c7-b5b4-e75ee74c6be9"
   },
   "outputs": [],
   "source": [
    "model = Sequential()\n",
    "model.add(Embedding(10000, 8, input_length=max_len))\n",
    "model.add(Flatten())\n",
    "model.add(Dense(1, activation='sigmoid'))\n"
   ]
  },
  {
   "cell_type": "code",
   "execution_count": 49,
   "metadata": {
    "colab": {
     "base_uri": "https://localhost:8080/",
     "height": 17
    },
    "colab_type": "code",
    "id": "fR7Nrx5PLnWM",
    "outputId": "b7a73401-1501-4497-e694-b7dbaebc674b"
   },
   "outputs": [],
   "source": [
    "model.compile(optimizer='rmsprop', loss='binary_crossentropy', metrics=['acc'])"
   ]
  },
  {
   "cell_type": "code",
   "execution_count": 50,
   "metadata": {
    "colab": {
     "base_uri": "https://localhost:8080/",
     "height": 238
    },
    "colab_type": "code",
    "id": "sQqp8bdkL9sg",
    "outputId": "507ac0ab-c226-4163-d0ca-6a531c494b95"
   },
   "outputs": [
    {
     "name": "stdout",
     "output_type": "stream",
     "text": [
      "_________________________________________________________________\n",
      "Layer (type)                 Output Shape              Param #   \n",
      "=================================================================\n",
      "embedding (Embedding)        (None, 20, 8)             80000     \n",
      "_________________________________________________________________\n",
      "flatten (Flatten)            (None, 160)               0         \n",
      "_________________________________________________________________\n",
      "dense_6 (Dense)              (None, 1)                 161       \n",
      "=================================================================\n",
      "Total params: 80,161\n",
      "Trainable params: 80,161\n",
      "Non-trainable params: 0\n",
      "_________________________________________________________________\n"
     ]
    }
   ],
   "source": [
    "model.summary()"
   ]
  },
  {
   "cell_type": "code",
   "execution_count": 51,
   "metadata": {
    "colab": {
     "base_uri": "https://localhost:8080/",
     "height": 428
    },
    "colab_type": "code",
    "id": "16v8vxPkL_uS",
    "outputId": "d637afca-9844-4bd4-a5ab-2a93029886f0"
   },
   "outputs": [
    {
     "name": "stderr",
     "output_type": "stream",
     "text": [
      "/usr/local/lib/python3.6/dist-packages/tensorflow/python/ops/gradients_impl.py:100: UserWarning: Converting sparse IndexedSlices to a dense Tensor of unknown shape. This may consume a large amount of memory.\n",
      "  \"Converting sparse IndexedSlices to a dense Tensor of unknown shape. \"\n"
     ]
    },
    {
     "name": "stdout",
     "output_type": "stream",
     "text": [
      "Train on 20000 samples, validate on 5000 samples\n",
      "Epoch 1/10\n",
      "20000/20000 [==============================] - 3s 163us/step - loss: 0.7070 - acc: 0.5097 - val_loss: 0.6997 - val_acc: 0.5134\n",
      "Epoch 2/10\n",
      "20000/20000 [==============================] - 3s 163us/step - loss: 0.6852 - acc: 0.5498 - val_loss: 0.6860 - val_acc: 0.5562\n",
      "Epoch 3/10\n",
      "20000/20000 [==============================] - 3s 166us/step - loss: 0.6566 - acc: 0.6109 - val_loss: 0.6588 - val_acc: 0.5994\n",
      "Epoch 4/10\n",
      "20000/20000 [==============================] - 3s 165us/step - loss: 0.6100 - acc: 0.6699 - val_loss: 0.6163 - val_acc: 0.6512\n",
      "Epoch 5/10\n",
      " 7744/20000 [==========>...................] - ETA: 1s - loss: 0.5673 - acc: 0.712320000/20000 [==============================] - 3s 163us/step - loss: 0.5572 - acc: 0.7162 - val_loss: 0.5805 - val_acc: 0.6802\n",
      "Epoch 6/10\n",
      "20000/20000 [==============================] - 3s 163us/step - loss: 0.5153 - acc: 0.7429 - val_loss: 0.5615 - val_acc: 0.6938\n",
      "Epoch 7/10\n",
      "20000/20000 [==============================] - 3s 165us/step - loss: 0.4839 - acc: 0.7645 - val_loss: 0.5513 - val_acc: 0.7118\n",
      "Epoch 8/10\n",
      "20000/20000 [==============================] - 3s 165us/step - loss: 0.4600 - acc: 0.7810 - val_loss: 0.5369 - val_acc: 0.7204\n",
      "Epoch 9/10\n",
      "16736/20000 [========================>.....] - ETA: 0s - loss: 0.4402 - acc: 0.791520000/20000 [==============================] - 3s 166us/step - loss: 0.4404 - acc: 0.7927 - val_loss: 0.5314 - val_acc: 0.7246\n",
      "Epoch 10/10\n",
      "20000/20000 [==============================] - 3s 165us/step - loss: 0.4234 - acc: 0.8033 - val_loss: 0.5292 - val_acc: 0.7312\n"
     ]
    }
   ],
   "source": [
    "model_history = model.fit(x_train, y_train,\n",
    "                      epochs=10,\n",
    "                      batch_size=32,\n",
    "                      validation_split=0.2)"
   ]
  },
  {
   "cell_type": "markdown",
   "metadata": {
    "colab_type": "text",
    "id": "tauFShEGMJUL"
   },
   "source": [
    "### Using Glove Pretrained Word Vector"
   ]
  },
  {
   "cell_type": "markdown",
   "metadata": {
    "colab_type": "text",
    "id": "tWoml63YRvuA"
   },
   "source": [
    "#### Download Raw Imdb Dataset"
   ]
  },
  {
   "cell_type": "code",
   "execution_count": 53,
   "metadata": {
    "colab": {
     "base_uri": "https://localhost:8080/",
     "height": 306
    },
    "colab_type": "code",
    "id": "d3UfEhQFR2AH",
    "outputId": "92167527-79ee-4767-ca1b-5331c778cfab"
   },
   "outputs": [
    {
     "name": "stdout",
     "output_type": "stream",
     "text": [
      "--2018-07-09 13:44:13--  http://ai.stanford.edu/~amaas/data/sentiment/aclImdb_v1.tar.gz\n",
      "Resolving ai.stanford.edu (ai.stanford.edu)... 171.64.68.10\n",
      "Connecting to ai.stanford.edu (ai.stanford.edu)|171.64.68.10|:80... connected.\n",
      "HTTP request sent, awaiting response... 200 OK\n",
      "Length: 84125825 (80M) [application/x-gzip]\n",
      "Saving to: ‘aclImdb_v1.tar.gz’\n",
      "\n",
      "aclImdb_v1.tar.gz   100%[===================>]  80.23M  19.2MB/s    in 6.8s    \n",
      "\n",
      "2018-07-09 13:44:20 (11.8 MB/s) - ‘aclImdb_v1.tar.gz’ saved [84125825/84125825]\n",
      "\n",
      "--2018-07-09 13:44:20--  http://./\n",
      "Resolving . (.)... failed: No address associated with hostname.\n",
      "wget: unable to resolve host address ‘.’\n",
      "FINISHED --2018-07-09 13:44:20--\n",
      "Total wall clock time: 7.2s\n",
      "Downloaded: 1 files, 80M in 6.8s (11.8 MB/s)\n"
     ]
    }
   ],
   "source": [
    "!wget http://ai.stanford.edu/~amaas/data/sentiment/aclImdb_v1.tar.gz ."
   ]
  },
  {
   "cell_type": "code",
   "execution_count": 55,
   "metadata": {
    "colab": {
     "base_uri": "https://localhost:8080/",
     "height": 17
    },
    "colab_type": "code",
    "id": "0FEb-KjfSU5X",
    "outputId": "9b374c24-3d8f-4fe5-8e60-b8e05fc2d0e9"
   },
   "outputs": [],
   "source": [
    "!mkdir -p data/imdb"
   ]
  },
  {
   "cell_type": "code",
   "execution_count": 56,
   "metadata": {
    "colab": {
     "base_uri": "https://localhost:8080/",
     "height": 34
    },
    "colab_type": "code",
    "id": "M6Rv8IDsSn0-",
    "outputId": "90c816e7-63b3-4792-8a4b-b52565509c05"
   },
   "outputs": [
    {
     "name": "stdout",
     "output_type": "stream",
     "text": [
      "aclImdb_v1.tar.gz  data  datalab\r\n"
     ]
    }
   ],
   "source": [
    "!ls"
   ]
  },
  {
   "cell_type": "code",
   "execution_count": 0,
   "metadata": {
    "colab": {},
    "colab_type": "code",
    "id": "GkpPoOsWSjga"
   },
   "outputs": [],
   "source": [
    "!tar zxvf aclImdb_v1.tar.gz -C /content/data/imdb/\n"
   ]
  },
  {
   "cell_type": "code",
   "execution_count": 59,
   "metadata": {
    "colab": {
     "base_uri": "https://localhost:8080/",
     "height": 17
    },
    "colab_type": "code",
    "id": "TMmlaHj1Sv-y",
    "outputId": "ed405559-3ffb-4a38-b17c-6c93078cfa9b"
   },
   "outputs": [],
   "source": [
    "imdb_dir = '/content/data/imdb/aclImdb'\n",
    "train_dir = os.path.join(imdb_dir, 'train')"
   ]
  },
  {
   "cell_type": "code",
   "execution_count": 60,
   "metadata": {
    "colab": {
     "base_uri": "https://localhost:8080/",
     "height": 17
    },
    "colab_type": "code",
    "id": "4733vRS-TPTG",
    "outputId": "7bb6ec7b-dc16-48e3-9ba5-018458f846db"
   },
   "outputs": [],
   "source": [
    "labels = []\n",
    "texts = []"
   ]
  },
  {
   "cell_type": "code",
   "execution_count": 63,
   "metadata": {
    "colab": {
     "base_uri": "https://localhost:8080/",
     "height": 17
    },
    "colab_type": "code",
    "id": "lbLWQ2UVTTDx",
    "outputId": "a1ae21a1-41e0-44ee-8d5b-a986a695232e"
   },
   "outputs": [],
   "source": [
    "for label in ['neg', 'pos']:\n",
    "  dir_name = os.path.join(train_dir, label)\n",
    "  for f_name in os.listdir(dir_name):\n",
    "    if f_name[-4:] == '.txt':\n",
    "      f = open(os.path.join(dir_name, f_name))\n",
    "      texts.append(f.read())\n",
    "      f.close()\n",
    "      if label == 'neg':\n",
    "        labels.append(0)\n",
    "      else:\n",
    "        labels.append(1)"
   ]
  },
  {
   "cell_type": "markdown",
   "metadata": {
    "colab_type": "text",
    "id": "AOXbs7tsUNgG"
   },
   "source": [
    "#### Data Processing -- Tokenization"
   ]
  },
  {
   "cell_type": "code",
   "execution_count": 66,
   "metadata": {
    "colab": {
     "base_uri": "https://localhost:8080/",
     "height": 17
    },
    "colab_type": "code",
    "id": "NJ0_k2KBUYXr",
    "outputId": "9573b684-656d-4ec7-ea6b-fbb60c712fce"
   },
   "outputs": [],
   "source": [
    "max_len = 100"
   ]
  },
  {
   "cell_type": "code",
   "execution_count": 67,
   "metadata": {
    "colab": {
     "base_uri": "https://localhost:8080/",
     "height": 17
    },
    "colab_type": "code",
    "id": "s3oLEuTDZrH5",
    "outputId": "0510558c-2352-4eba-f717-afeab2048048"
   },
   "outputs": [],
   "source": [
    "training_samples = 200"
   ]
  },
  {
   "cell_type": "code",
   "execution_count": 68,
   "metadata": {
    "colab": {
     "base_uri": "https://localhost:8080/",
     "height": 17
    },
    "colab_type": "code",
    "id": "J0gceOH9Zwem",
    "outputId": "9584d2d3-f3ae-4585-86f6-24adf448bd0c"
   },
   "outputs": [],
   "source": [
    "validation_samples = 10000"
   ]
  },
  {
   "cell_type": "code",
   "execution_count": 69,
   "metadata": {
    "colab": {
     "base_uri": "https://localhost:8080/",
     "height": 17
    },
    "colab_type": "code",
    "id": "P99-7saIZ1CY",
    "outputId": "066e6b91-8606-456f-bf44-ed190af3812c"
   },
   "outputs": [],
   "source": [
    "max_words = 10000"
   ]
  },
  {
   "cell_type": "code",
   "execution_count": 72,
   "metadata": {
    "colab": {
     "base_uri": "https://localhost:8080/",
     "height": 17
    },
    "colab_type": "code",
    "id": "57GpRSkwZ6t8",
    "outputId": "b25ec86b-ba7f-4015-e6b4-41165143ce4f"
   },
   "outputs": [],
   "source": [
    "tokenizer = preprocessing.text.Tokenizer(num_words=max_words)\n",
    "tokenizer.fit_on_texts(texts)\n",
    "sequences = tokenizer.texts_to_sequences(texts)"
   ]
  },
  {
   "cell_type": "code",
   "execution_count": 73,
   "metadata": {
    "colab": {
     "base_uri": "https://localhost:8080/",
     "height": 17
    },
    "colab_type": "code",
    "id": "N9_16BLZaCSv",
    "outputId": "e703e843-96a3-4388-e199-e1e13d56b7ac"
   },
   "outputs": [],
   "source": [
    "word_idx = tokenizer.word_index"
   ]
  },
  {
   "cell_type": "code",
   "execution_count": 74,
   "metadata": {
    "colab": {
     "base_uri": "https://localhost:8080/",
     "height": 34
    },
    "colab_type": "code",
    "id": "Vi6JEszHaRzA",
    "outputId": "aa2d7354-da76-4e6d-90a6-5570bfbb0d2c"
   },
   "outputs": [
    {
     "data": {
      "text/plain": [
       "88582"
      ]
     },
     "execution_count": 74,
     "metadata": {
      "tags": []
     },
     "output_type": "execute_result"
    }
   ],
   "source": [
    "len(word_idx)"
   ]
  },
  {
   "cell_type": "code",
   "execution_count": 75,
   "metadata": {
    "colab": {
     "base_uri": "https://localhost:8080/",
     "height": 17
    },
    "colab_type": "code",
    "id": "N_c0pJaCaUpr",
    "outputId": "58f151bc-1ce8-4133-e688-bca3e1cd1009"
   },
   "outputs": [],
   "source": [
    "data = preprocessing.sequence.pad_sequences(sequences, maxlen=max_len)"
   ]
  },
  {
   "cell_type": "code",
   "execution_count": 76,
   "metadata": {
    "colab": {
     "base_uri": "https://localhost:8080/",
     "height": 17
    },
    "colab_type": "code",
    "id": "E-kRkvSda5dB",
    "outputId": "0ff07b5a-c24c-4101-867b-ef979913e2a7"
   },
   "outputs": [],
   "source": [
    "labels = np.asarray(labels)"
   ]
  },
  {
   "cell_type": "code",
   "execution_count": 77,
   "metadata": {
    "colab": {
     "base_uri": "https://localhost:8080/",
     "height": 34
    },
    "colab_type": "code",
    "id": "n7nbNCoebDiR",
    "outputId": "ad2465a1-f92e-46d4-b28d-e6cb8ff37efd"
   },
   "outputs": [
    {
     "data": {
      "text/plain": [
       "((25000, 100), (25000,))"
      ]
     },
     "execution_count": 77,
     "metadata": {
      "tags": []
     },
     "output_type": "execute_result"
    }
   ],
   "source": [
    "data.shape, labels.shape"
   ]
  },
  {
   "cell_type": "code",
   "execution_count": 79,
   "metadata": {
    "colab": {
     "base_uri": "https://localhost:8080/",
     "height": 17
    },
    "colab_type": "code",
    "id": "n_X4SjixbHNH",
    "outputId": "4f1796ac-e45f-4ff0-a073-cc6d9ab983b8"
   },
   "outputs": [],
   "source": [
    "indices = np.arange(data.shape[0])"
   ]
  },
  {
   "cell_type": "code",
   "execution_count": 80,
   "metadata": {
    "colab": {
     "base_uri": "https://localhost:8080/",
     "height": 17
    },
    "colab_type": "code",
    "id": "9E1HodpnbUgx",
    "outputId": "95a89210-5f42-45c1-b91c-6817a4a93bf4"
   },
   "outputs": [],
   "source": [
    "np.random.shuffle(indices)"
   ]
  },
  {
   "cell_type": "code",
   "execution_count": 81,
   "metadata": {
    "colab": {
     "base_uri": "https://localhost:8080/",
     "height": 17
    },
    "colab_type": "code",
    "id": "QZx-IePxbaCI",
    "outputId": "baece045-1a86-4f08-ffbe-d78d76105f74"
   },
   "outputs": [],
   "source": [
    "data = data[indices]"
   ]
  },
  {
   "cell_type": "code",
   "execution_count": 82,
   "metadata": {
    "colab": {
     "base_uri": "https://localhost:8080/",
     "height": 17
    },
    "colab_type": "code",
    "id": "iuujhoC8bd5-",
    "outputId": "677a0421-300d-409f-8e8b-da21c1520a29"
   },
   "outputs": [],
   "source": [
    "labels = labels[indices]"
   ]
  },
  {
   "cell_type": "code",
   "execution_count": 83,
   "metadata": {
    "colab": {
     "base_uri": "https://localhost:8080/",
     "height": 17
    },
    "colab_type": "code",
    "id": "SYtRFEE_bipv",
    "outputId": "ecbe828f-c5c9-498b-edd1-77efade8806f"
   },
   "outputs": [],
   "source": [
    "x_train = data[:training_samples]\n",
    "y_train = labels[:training_samples]\n",
    "\n",
    "x_val = data[training_samples: training_samples + validation_samples]\n",
    "y_val = labels[training_samples: training_samples + validation_samples]"
   ]
  },
  {
   "cell_type": "markdown",
   "metadata": {
    "colab_type": "text",
    "id": "gucByqpCcBeL"
   },
   "source": [
    "#### Download the glove embeddings"
   ]
  },
  {
   "cell_type": "code",
   "execution_count": 85,
   "metadata": {
    "colab": {
     "base_uri": "https://localhost:8080/",
     "height": 394
    },
    "colab_type": "code",
    "id": "P0y3Y6V9cGke",
    "outputId": "26b3ec28-572b-4888-aaff-04f781edaf4a"
   },
   "outputs": [
    {
     "name": "stdout",
     "output_type": "stream",
     "text": [
      "--2018-07-09 14:29:46--  http://nlp.stanford.edu/data/glove.6B.zip\n",
      "Resolving nlp.stanford.edu (nlp.stanford.edu)... 171.64.67.140\n",
      "Connecting to nlp.stanford.edu (nlp.stanford.edu)|171.64.67.140|:80... connected.\n",
      "HTTP request sent, awaiting response... 302 Found\n",
      "Location: https://nlp.stanford.edu/data/glove.6B.zip [following]\n",
      "--2018-07-09 14:29:47--  https://nlp.stanford.edu/data/glove.6B.zip\n",
      "Connecting to nlp.stanford.edu (nlp.stanford.edu)|171.64.67.140|:443... connected.\n",
      "HTTP request sent, awaiting response... 200 OK\n",
      "Length: 862182613 (822M) [application/zip]\n",
      "Saving to: ‘glove.6B.zip’\n",
      "\n",
      "glove.6B.zip         49%[========>           ] 406.32M  17.1MB/s    eta 34s    glove.6B.zip        100%[===================>] 822.24M  20.2MB/s    in 53s     \n",
      "\n",
      "2018-07-09 14:30:40 (15.5 MB/s) - ‘glove.6B.zip’ saved [862182613/862182613]\n",
      "\n",
      "--2018-07-09 14:30:40--  http://./\n",
      "Resolving . (.)... failed: No address associated with hostname.\n",
      "wget: unable to resolve host address ‘.’\n",
      "FINISHED --2018-07-09 14:30:40--\n",
      "Total wall clock time: 54s\n",
      "Downloaded: 1 files, 822M in 53s (15.5 MB/s)\n"
     ]
    }
   ],
   "source": [
    "!wget http://nlp.stanford.edu/data/glove.6B.zip ."
   ]
  },
  {
   "cell_type": "code",
   "execution_count": 91,
   "metadata": {
    "colab": {
     "base_uri": "https://localhost:8080/",
     "height": 102
    },
    "colab_type": "code",
    "id": "A1jh-eqQcsS3",
    "outputId": "e0cc3b52-0e6a-46b1-ccb7-88ff43164974"
   },
   "outputs": [
    {
     "name": "stdout",
     "output_type": "stream",
     "text": [
      "Archive:  glove.6B.zip\n",
      "  inflating: data/glove/glove.6B.50d.txt  \n",
      "  inflating: data/glove/glove.6B.100d.txt  \n",
      "  inflating: data/glove/glove.6B.200d.txt  \n",
      "  inflating: data/glove/glove.6B.300d.txt  \n"
     ]
    }
   ],
   "source": [
    "!mkdir -p data/glove && unzip glove.6B.zip -d data/glove/"
   ]
  },
  {
   "cell_type": "code",
   "execution_count": 92,
   "metadata": {
    "colab": {
     "base_uri": "https://localhost:8080/",
     "height": 17
    },
    "colab_type": "code",
    "id": "yFbnJAUidNLh",
    "outputId": "8a16d378-d126-4ca3-b63b-64d851c7af69"
   },
   "outputs": [],
   "source": [
    "glove_dir = '/content/data/glove/'"
   ]
  },
  {
   "cell_type": "code",
   "execution_count": 93,
   "metadata": {
    "colab": {
     "base_uri": "https://localhost:8080/",
     "height": 17
    },
    "colab_type": "code",
    "id": "8CTNq8P2d1oT",
    "outputId": "7c91d540-a307-4e05-a409-56c836e35d60"
   },
   "outputs": [],
   "source": [
    "embedding_idx = {}"
   ]
  },
  {
   "cell_type": "code",
   "execution_count": 94,
   "metadata": {
    "colab": {
     "base_uri": "https://localhost:8080/",
     "height": 17
    },
    "colab_type": "code",
    "id": "EDnvhxqzd47D",
    "outputId": "e29762df-e2cf-4f3b-af24-4c53f483705a"
   },
   "outputs": [],
   "source": [
    "f = open(os.path.join(glove_dir, 'glove.6B.100d.txt'))"
   ]
  },
  {
   "cell_type": "code",
   "execution_count": 95,
   "metadata": {
    "colab": {
     "base_uri": "https://localhost:8080/",
     "height": 17
    },
    "colab_type": "code",
    "id": "eZTm2gnIdR7S",
    "outputId": "5b8df3ad-ae8c-470b-e814-8ec4c001507e"
   },
   "outputs": [],
   "source": [
    "for l in f:\n",
    "  vals = l.split()\n",
    "  word = vals[0]\n",
    "  coefs = np.asarray(vals[1:], dtype='float32')\n",
    "  embedding_idx[word] = coefs\n",
    "f.close()  "
   ]
  },
  {
   "cell_type": "code",
   "execution_count": 96,
   "metadata": {
    "colab": {
     "base_uri": "https://localhost:8080/",
     "height": 34
    },
    "colab_type": "code",
    "id": "WJcTmXNmdYzC",
    "outputId": "6d5d0e94-7a8a-40bc-c94d-180dd7ba000f"
   },
   "outputs": [
    {
     "data": {
      "text/plain": [
       "400000"
      ]
     },
     "execution_count": 96,
     "metadata": {
      "tags": []
     },
     "output_type": "execute_result"
    }
   ],
   "source": [
    "len(embedding_idx)"
   ]
  },
  {
   "cell_type": "code",
   "execution_count": 97,
   "metadata": {
    "colab": {
     "base_uri": "https://localhost:8080/",
     "height": 17
    },
    "colab_type": "code",
    "id": "bkCFSGAqeiUK",
    "outputId": "21628ac4-465f-48b3-f93d-22ea2efde96c"
   },
   "outputs": [],
   "source": [
    "embedding_dim = 100\n",
    "embedding_mat = np.zeros((max_words, embedding_dim))"
   ]
  },
  {
   "cell_type": "code",
   "execution_count": 99,
   "metadata": {
    "colab": {
     "base_uri": "https://localhost:8080/",
     "height": 17
    },
    "colab_type": "code",
    "id": "PaC5nJLues-q",
    "outputId": "78f8b3bb-fea4-4121-9130-5407f42a60ae"
   },
   "outputs": [],
   "source": [
    "for word, idx in word_idx.items():\n",
    "  embedding_vector = embedding_idx.get(word)\n",
    "  if idx < max_words:\n",
    "    if embedding_vector is not None:\n",
    "      embedding_mat[idx] = embedding_vector"
   ]
  },
  {
   "cell_type": "markdown",
   "metadata": {
    "colab_type": "text",
    "id": "6MKcszAMfWcN"
   },
   "source": [
    "#### Build Model"
   ]
  },
  {
   "cell_type": "code",
   "execution_count": 102,
   "metadata": {
    "colab": {
     "base_uri": "https://localhost:8080/",
     "height": 17
    },
    "colab_type": "code",
    "id": "sCEOggFlfm67",
    "outputId": "4dde85b9-c892-44b9-e519-801e627f6013"
   },
   "outputs": [],
   "source": [
    "model = Sequential()\n",
    "model.add(Embedding(max_words, embedding_dim, input_length=max_len))\n",
    "model.add(Flatten())\n",
    "model.add(Dense(32, activation='relu'))\n",
    "model.add(Dense(1, activation='sigmoid'))"
   ]
  },
  {
   "cell_type": "code",
   "execution_count": 103,
   "metadata": {
    "colab": {
     "base_uri": "https://localhost:8080/",
     "height": 272
    },
    "colab_type": "code",
    "id": "U9ely42bfsA3",
    "outputId": "6c685e73-197b-4dd2-c47e-68f70c0cac66"
   },
   "outputs": [
    {
     "name": "stdout",
     "output_type": "stream",
     "text": [
      "_________________________________________________________________\n",
      "Layer (type)                 Output Shape              Param #   \n",
      "=================================================================\n",
      "embedding_1 (Embedding)      (None, 100, 100)          1000000   \n",
      "_________________________________________________________________\n",
      "flatten_1 (Flatten)          (None, 10000)             0         \n",
      "_________________________________________________________________\n",
      "dense_7 (Dense)              (None, 32)                320032    \n",
      "_________________________________________________________________\n",
      "dense_8 (Dense)              (None, 1)                 33        \n",
      "=================================================================\n",
      "Total params: 1,320,065\n",
      "Trainable params: 1,320,065\n",
      "Non-trainable params: 0\n",
      "_________________________________________________________________\n"
     ]
    }
   ],
   "source": [
    "model.summary()"
   ]
  },
  {
   "cell_type": "markdown",
   "metadata": {
    "colab_type": "text",
    "id": "Lnkaxy6Ff2j8"
   },
   "source": [
    "#### Load Glove Embedding in the model"
   ]
  },
  {
   "cell_type": "code",
   "execution_count": 105,
   "metadata": {
    "colab": {
     "base_uri": "https://localhost:8080/",
     "height": 17
    },
    "colab_type": "code",
    "id": "fCGCvhzpgDBz",
    "outputId": "ee55fed6-ed69-4fa1-a0cf-1ca10dd9d8f3"
   },
   "outputs": [],
   "source": [
    "model.layers[0].set_weights([embedding_mat])\n",
    "model.layers[0].trainable = False"
   ]
  },
  {
   "cell_type": "code",
   "execution_count": 106,
   "metadata": {
    "colab": {
     "base_uri": "https://localhost:8080/",
     "height": 17
    },
    "colab_type": "code",
    "id": "x94UT0L3gMAd",
    "outputId": "58533f7e-1ca2-4573-be99-8b9618d94b94"
   },
   "outputs": [],
   "source": [
    "model.compile(optimizer='rmsprop', loss='binary_crossentropy', metrics=['acc'])"
   ]
  },
  {
   "cell_type": "code",
   "execution_count": 107,
   "metadata": {
    "colab": {
     "base_uri": "https://localhost:8080/",
     "height": 394
    },
    "colab_type": "code",
    "id": "nq973QLygZGD",
    "outputId": "812ddad7-1c58-42c0-c779-c70e424a8156"
   },
   "outputs": [
    {
     "name": "stdout",
     "output_type": "stream",
     "text": [
      "Train on 200 samples, validate on 10000 samples\n",
      "Epoch 1/10\n",
      "200/200 [==============================] - 1s 5ms/step - loss: 2.3128 - acc: 0.5350 - val_loss: 0.8434 - val_acc: 0.4941\n",
      "Epoch 2/10\n",
      "200/200 [==============================] - 1s 3ms/step - loss: 0.7260 - acc: 0.7350 - val_loss: 1.5885 - val_acc: 0.5063\n",
      "Epoch 3/10\n",
      "200/200 [==============================] - 1s 3ms/step - loss: 0.4584 - acc: 0.8450 - val_loss: 1.3966 - val_acc: 0.4935\n",
      "Epoch 4/10\n",
      "200/200 [==============================] - 1s 3ms/step - loss: 0.2851 - acc: 0.9250 - val_loss: 1.5846 - val_acc: 0.5066\n",
      "Epoch 5/10\n",
      "200/200 [==============================] - 1s 3ms/step - loss: 0.3801 - acc: 0.8300 - val_loss: 0.7834 - val_acc: 0.5365\n",
      "Epoch 6/10\n",
      "200/200 [==============================] - 1s 3ms/step - loss: 0.1692 - acc: 0.9650 - val_loss: 0.9715 - val_acc: 0.5064\n",
      "Epoch 7/10\n",
      "200/200 [==============================] - 1s 3ms/step - loss: 0.1019 - acc: 0.9900 - val_loss: 1.1879 - val_acc: 0.5001\n",
      "Epoch 8/10\n",
      "200/200 [==============================] - 1s 3ms/step - loss: 0.0505 - acc: 1.0000 - val_loss: 0.8169 - val_acc: 0.5588\n",
      "Epoch 9/10\n",
      "200/200 [==============================] - 1s 3ms/step - loss: 0.3792 - acc: 0.8400 - val_loss: 1.6344 - val_acc: 0.4934\n",
      "Epoch 10/10\n",
      "200/200 [==============================] - 1s 3ms/step - loss: 0.0588 - acc: 0.9950 - val_loss: 0.7893 - val_acc: 0.5492\n"
     ]
    }
   ],
   "source": [
    "model_history = model.fit(x_train, y_train,\n",
    "                    epochs=10,\n",
    "                    batch_size=32,\n",
    "                    validation_data=(x_val, y_val))"
   ]
  },
  {
   "cell_type": "code",
   "execution_count": 109,
   "metadata": {
    "colab": {
     "base_uri": "https://localhost:8080/",
     "height": 17
    },
    "colab_type": "code",
    "id": "25W3Au6hgen3",
    "outputId": "11ea7454-b4a9-4e8a-f9a7-762f9122d510"
   },
   "outputs": [],
   "source": [
    "model.save_weights('pre_trained_glove_model.h5')"
   ]
  },
  {
   "cell_type": "code",
   "execution_count": 0,
   "metadata": {
    "colab": {},
    "colab_type": "code",
    "id": "MPJ6vKs8hn9r"
   },
   "outputs": [],
   "source": []
  }
 ],
 "metadata": {
  "accelerator": "GPU",
  "colab": {
   "collapsed_sections": [],
   "include_colab_link": true,
   "name": "naive-classification-imdb-reviews.ipynb",
   "provenance": [],
   "toc_visible": true,
   "version": "0.3.2"
  },
  "kernelspec": {
   "display_name": "Python 3",
   "language": "python",
   "name": "python3"
  },
  "language_info": {
   "codemirror_mode": {
    "name": "ipython",
    "version": 3
   },
   "file_extension": ".py",
   "mimetype": "text/x-python",
   "name": "python",
   "nbconvert_exporter": "python",
   "pygments_lexer": "ipython3",
   "version": "3.6.4"
  }
 },
 "nbformat": 4,
 "nbformat_minor": 1
}

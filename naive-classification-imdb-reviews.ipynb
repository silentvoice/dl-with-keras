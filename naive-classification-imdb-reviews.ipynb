{
 "cells": [
  {
   "cell_type": "markdown",
   "metadata": {
    "colab_type": "text",
    "id": "rCxHTcOHpnjj"
   },
   "source": [
    "# Imdb Reviews Classification"
   ]
  },
  {
   "cell_type": "markdown",
   "metadata": {
    "colab_type": "text",
    "id": "2UlCGg0IpzTW"
   },
   "source": [
    "## Check Tensorflow Version"
   ]
  },
  {
   "cell_type": "code",
   "execution_count": 0,
   "metadata": {
    "colab": {
     "autoexec": {
      "startup": false,
      "wait_interval": 0
     }
    },
    "colab_type": "code",
    "id": "GN9C5Hh3pXS0"
   },
   "outputs": [],
   "source": [
    "import tensorflow as tf"
   ]
  },
  {
   "cell_type": "code",
   "execution_count": 5,
   "metadata": {
    "colab": {
     "autoexec": {
      "startup": false,
      "wait_interval": 0
     },
     "base_uri": "https://localhost:8080/",
     "height": 34
    },
    "colab_type": "code",
    "executionInfo": {
     "elapsed": 1326,
     "status": "ok",
     "timestamp": 1530605946597,
     "user": {
      "displayName": "Ankur Bohra",
      "photoUrl": "https://lh3.googleusercontent.com/a/default-user=s128",
      "userId": "117047164520804439545"
     },
     "user_tz": -330
    },
    "id": "hz8_FKF1nBZM",
    "outputId": "4a3a8c28-3580-4ac7-b888-5b6969e60eec"
   },
   "outputs": [
    {
     "data": {
      "text/plain": [
       "'/device:GPU:0'"
      ]
     },
     "execution_count": 5,
     "metadata": {
      "tags": []
     },
     "output_type": "execute_result"
    }
   ],
   "source": [
    "tf.test.gpu_device_name()"
   ]
  },
  {
   "cell_type": "code",
   "execution_count": 6,
   "metadata": {
    "colab": {
     "autoexec": {
      "startup": false,
      "wait_interval": 0
     },
     "base_uri": "https://localhost:8080/",
     "height": 34
    },
    "colab_type": "code",
    "executionInfo": {
     "elapsed": 1226,
     "status": "ok",
     "timestamp": 1530605948040,
     "user": {
      "displayName": "Ankur Bohra",
      "photoUrl": "https://lh3.googleusercontent.com/a/default-user=s128",
      "userId": "117047164520804439545"
     },
     "user_tz": -330
    },
    "id": "NBO8e2kHoFSI",
    "outputId": "229256b0-d054-40cf-bfb6-5b79dbd0c19b"
   },
   "outputs": [
    {
     "data": {
      "text/plain": [
       "'1.9.0-rc1'"
      ]
     },
     "execution_count": 6,
     "metadata": {
      "tags": []
     },
     "output_type": "execute_result"
    }
   ],
   "source": [
    "tf.__version__"
   ]
  },
  {
   "cell_type": "markdown",
   "metadata": {
    "colab_type": "text",
    "id": "JFlI4hFYpNBo"
   },
   "source": [
    "## Imports"
   ]
  },
  {
   "cell_type": "code",
   "execution_count": 0,
   "metadata": {
    "colab": {
     "autoexec": {
      "startup": false,
      "wait_interval": 0
     }
    },
    "colab_type": "code",
    "id": "QEIfV4L5qMZP"
   },
   "outputs": [],
   "source": [
    "from tensorflow import keras\n",
    "from tensorflow.python.keras.datasets import imdb"
   ]
  },
  {
   "cell_type": "markdown",
   "metadata": {
    "colab_type": "text",
    "id": "FX1hYnllqQDI"
   },
   "source": [
    "## Load Imdb dataset"
   ]
  },
  {
   "cell_type": "code",
   "execution_count": 8,
   "metadata": {
    "colab": {
     "autoexec": {
      "startup": false,
      "wait_interval": 0
     },
     "base_uri": "https://localhost:8080/",
     "height": 51
    },
    "colab_type": "code",
    "executionInfo": {
     "elapsed": 10547,
     "status": "ok",
     "timestamp": 1530605960007,
     "user": {
      "displayName": "Ankur Bohra",
      "photoUrl": "https://lh3.googleusercontent.com/a/default-user=s128",
      "userId": "117047164520804439545"
     },
     "user_tz": -330
    },
    "id": "FWLu6M9bqxcx",
    "outputId": "0b316aac-5acd-43a6-eabc-954dd77c65e9"
   },
   "outputs": [
    {
     "name": "stdout",
     "output_type": "stream",
     "text": [
      "Downloading data from https://s3.amazonaws.com/text-datasets/imdb.npz\n",
      "17465344/17464789 [==============================] - 4s 0us/step\n"
     ]
    }
   ],
   "source": [
    "# Use top 10000 frequently used words from the dataset only, discard the rest\n",
    "(train_data, train_labels), (test_data, test_labels) = imdb.load_data(num_words=10000)"
   ]
  },
  {
   "cell_type": "code",
   "execution_count": 9,
   "metadata": {
    "colab": {
     "autoexec": {
      "startup": false,
      "wait_interval": 0
     },
     "base_uri": "https://localhost:8080/",
     "height": 34
    },
    "colab_type": "code",
    "executionInfo": {
     "elapsed": 1229,
     "status": "ok",
     "timestamp": 1530605961290,
     "user": {
      "displayName": "Ankur Bohra",
      "photoUrl": "https://lh3.googleusercontent.com/a/default-user=s128",
      "userId": "117047164520804439545"
     },
     "user_tz": -330
    },
    "id": "y0Cox0a0rxf2",
    "outputId": "2524268f-8b71-424e-dd26-c516c6cc8aba"
   },
   "outputs": [
    {
     "data": {
      "text/plain": [
       "(25000,)"
      ]
     },
     "execution_count": 9,
     "metadata": {
      "tags": []
     },
     "output_type": "execute_result"
    }
   ],
   "source": [
    "train_data.shape"
   ]
  },
  {
   "cell_type": "code",
   "execution_count": 10,
   "metadata": {
    "colab": {
     "autoexec": {
      "startup": false,
      "wait_interval": 0
     },
     "base_uri": "https://localhost:8080/",
     "height": 3723
    },
    "colab_type": "code",
    "executionInfo": {
     "elapsed": 915,
     "status": "ok",
     "timestamp": 1530605962448,
     "user": {
      "displayName": "Ankur Bohra",
      "photoUrl": "https://lh3.googleusercontent.com/a/default-user=s128",
      "userId": "117047164520804439545"
     },
     "user_tz": -330
    },
    "id": "BMyd1YXDsICl",
    "outputId": "a1d33421-3640-42ce-fe62-7bad17818056"
   },
   "outputs": [
    {
     "data": {
      "text/plain": [
       "[1,\n",
       " 14,\n",
       " 22,\n",
       " 16,\n",
       " 43,\n",
       " 530,\n",
       " 973,\n",
       " 1622,\n",
       " 1385,\n",
       " 65,\n",
       " 458,\n",
       " 4468,\n",
       " 66,\n",
       " 3941,\n",
       " 4,\n",
       " 173,\n",
       " 36,\n",
       " 256,\n",
       " 5,\n",
       " 25,\n",
       " 100,\n",
       " 43,\n",
       " 838,\n",
       " 112,\n",
       " 50,\n",
       " 670,\n",
       " 2,\n",
       " 9,\n",
       " 35,\n",
       " 480,\n",
       " 284,\n",
       " 5,\n",
       " 150,\n",
       " 4,\n",
       " 172,\n",
       " 112,\n",
       " 167,\n",
       " 2,\n",
       " 336,\n",
       " 385,\n",
       " 39,\n",
       " 4,\n",
       " 172,\n",
       " 4536,\n",
       " 1111,\n",
       " 17,\n",
       " 546,\n",
       " 38,\n",
       " 13,\n",
       " 447,\n",
       " 4,\n",
       " 192,\n",
       " 50,\n",
       " 16,\n",
       " 6,\n",
       " 147,\n",
       " 2025,\n",
       " 19,\n",
       " 14,\n",
       " 22,\n",
       " 4,\n",
       " 1920,\n",
       " 4613,\n",
       " 469,\n",
       " 4,\n",
       " 22,\n",
       " 71,\n",
       " 87,\n",
       " 12,\n",
       " 16,\n",
       " 43,\n",
       " 530,\n",
       " 38,\n",
       " 76,\n",
       " 15,\n",
       " 13,\n",
       " 1247,\n",
       " 4,\n",
       " 22,\n",
       " 17,\n",
       " 515,\n",
       " 17,\n",
       " 12,\n",
       " 16,\n",
       " 626,\n",
       " 18,\n",
       " 2,\n",
       " 5,\n",
       " 62,\n",
       " 386,\n",
       " 12,\n",
       " 8,\n",
       " 316,\n",
       " 8,\n",
       " 106,\n",
       " 5,\n",
       " 4,\n",
       " 2223,\n",
       " 5244,\n",
       " 16,\n",
       " 480,\n",
       " 66,\n",
       " 3785,\n",
       " 33,\n",
       " 4,\n",
       " 130,\n",
       " 12,\n",
       " 16,\n",
       " 38,\n",
       " 619,\n",
       " 5,\n",
       " 25,\n",
       " 124,\n",
       " 51,\n",
       " 36,\n",
       " 135,\n",
       " 48,\n",
       " 25,\n",
       " 1415,\n",
       " 33,\n",
       " 6,\n",
       " 22,\n",
       " 12,\n",
       " 215,\n",
       " 28,\n",
       " 77,\n",
       " 52,\n",
       " 5,\n",
       " 14,\n",
       " 407,\n",
       " 16,\n",
       " 82,\n",
       " 2,\n",
       " 8,\n",
       " 4,\n",
       " 107,\n",
       " 117,\n",
       " 5952,\n",
       " 15,\n",
       " 256,\n",
       " 4,\n",
       " 2,\n",
       " 7,\n",
       " 3766,\n",
       " 5,\n",
       " 723,\n",
       " 36,\n",
       " 71,\n",
       " 43,\n",
       " 530,\n",
       " 476,\n",
       " 26,\n",
       " 400,\n",
       " 317,\n",
       " 46,\n",
       " 7,\n",
       " 4,\n",
       " 2,\n",
       " 1029,\n",
       " 13,\n",
       " 104,\n",
       " 88,\n",
       " 4,\n",
       " 381,\n",
       " 15,\n",
       " 297,\n",
       " 98,\n",
       " 32,\n",
       " 2071,\n",
       " 56,\n",
       " 26,\n",
       " 141,\n",
       " 6,\n",
       " 194,\n",
       " 7486,\n",
       " 18,\n",
       " 4,\n",
       " 226,\n",
       " 22,\n",
       " 21,\n",
       " 134,\n",
       " 476,\n",
       " 26,\n",
       " 480,\n",
       " 5,\n",
       " 144,\n",
       " 30,\n",
       " 5535,\n",
       " 18,\n",
       " 51,\n",
       " 36,\n",
       " 28,\n",
       " 224,\n",
       " 92,\n",
       " 25,\n",
       " 104,\n",
       " 4,\n",
       " 226,\n",
       " 65,\n",
       " 16,\n",
       " 38,\n",
       " 1334,\n",
       " 88,\n",
       " 12,\n",
       " 16,\n",
       " 283,\n",
       " 5,\n",
       " 16,\n",
       " 4472,\n",
       " 113,\n",
       " 103,\n",
       " 32,\n",
       " 15,\n",
       " 16,\n",
       " 5345,\n",
       " 19,\n",
       " 178,\n",
       " 32]"
      ]
     },
     "execution_count": 10,
     "metadata": {
      "tags": []
     },
     "output_type": "execute_result"
    }
   ],
   "source": [
    "train_data[0]"
   ]
  },
  {
   "cell_type": "code",
   "execution_count": 11,
   "metadata": {
    "colab": {
     "autoexec": {
      "startup": false,
      "wait_interval": 0
     },
     "base_uri": "https://localhost:8080/",
     "height": 34
    },
    "colab_type": "code",
    "executionInfo": {
     "elapsed": 1319,
     "status": "ok",
     "timestamp": 1530605963965,
     "user": {
      "displayName": "Ankur Bohra",
      "photoUrl": "https://lh3.googleusercontent.com/a/default-user=s128",
      "userId": "117047164520804439545"
     },
     "user_tz": -330
    },
    "id": "2qZgCLo_sK52",
    "outputId": "7fcef173-1fa8-4e24-ca80-2c8119151ecb"
   },
   "outputs": [
    {
     "data": {
      "text/plain": [
       "(25000,)"
      ]
     },
     "execution_count": 11,
     "metadata": {
      "tags": []
     },
     "output_type": "execute_result"
    }
   ],
   "source": [
    "train_labels.shape"
   ]
  },
  {
   "cell_type": "code",
   "execution_count": 12,
   "metadata": {
    "colab": {
     "autoexec": {
      "startup": false,
      "wait_interval": 0
     },
     "base_uri": "https://localhost:8080/",
     "height": 34
    },
    "colab_type": "code",
    "executionInfo": {
     "elapsed": 1043,
     "status": "ok",
     "timestamp": 1530605965143,
     "user": {
      "displayName": "Ankur Bohra",
      "photoUrl": "https://lh3.googleusercontent.com/a/default-user=s128",
      "userId": "117047164520804439545"
     },
     "user_tz": -330
    },
    "id": "VmsspVwosSA6",
    "outputId": "25284c1a-4ff3-43a3-aba4-71e32ec9e7a4"
   },
   "outputs": [
    {
     "data": {
      "text/plain": [
       "1"
      ]
     },
     "execution_count": 12,
     "metadata": {
      "tags": []
     },
     "output_type": "execute_result"
    }
   ],
   "source": [
    "train_labels[0]"
   ]
  },
  {
   "cell_type": "code",
   "execution_count": 13,
   "metadata": {
    "colab": {
     "autoexec": {
      "startup": false,
      "wait_interval": 0
     },
     "base_uri": "https://localhost:8080/",
     "height": 51
    },
    "colab_type": "code",
    "executionInfo": {
     "elapsed": 2650,
     "status": "ok",
     "timestamp": 1530605967937,
     "user": {
      "displayName": "Ankur Bohra",
      "photoUrl": "https://lh3.googleusercontent.com/a/default-user=s128",
      "userId": "117047164520804439545"
     },
     "user_tz": -330
    },
    "id": "V3GI1g8MsTni",
    "outputId": "b39b7373-b2a7-4805-bb66-350dcf4fcf3c"
   },
   "outputs": [
    {
     "name": "stdout",
     "output_type": "stream",
     "text": [
      "Downloading data from https://s3.amazonaws.com/text-datasets/imdb_word_index.json\n",
      "1646592/1641221 [==============================] - 1s 1us/step\n"
     ]
    }
   ],
   "source": [
    "wrdtoidx = imdb.get_word_index()"
   ]
  },
  {
   "cell_type": "code",
   "execution_count": 0,
   "metadata": {
    "colab": {
     "autoexec": {
      "startup": false,
      "wait_interval": 0
     }
    },
    "colab_type": "code",
    "id": "a6ODsojRyLh0"
   },
   "outputs": [],
   "source": [
    "idxtowrd = dict([(value, key) for (key, value) in wrdtoidx.items()])"
   ]
  },
  {
   "cell_type": "code",
   "execution_count": 0,
   "metadata": {
    "colab": {
     "autoexec": {
      "startup": false,
      "wait_interval": 0
     }
    },
    "colab_type": "code",
    "id": "Q-eBueQ9yawR"
   },
   "outputs": [],
   "source": [
    "sample_review = ' '.join([idxtowrd.get(idx) for idx in train_data[0]])"
   ]
  },
  {
   "cell_type": "code",
   "execution_count": 16,
   "metadata": {
    "colab": {
     "autoexec": {
      "startup": false,
      "wait_interval": 0
     },
     "base_uri": "https://localhost:8080/",
     "height": 54
    },
    "colab_type": "code",
    "executionInfo": {
     "elapsed": 1041,
     "status": "ok",
     "timestamp": 1530605972071,
     "user": {
      "displayName": "Ankur Bohra",
      "photoUrl": "https://lh3.googleusercontent.com/a/default-user=s128",
      "userId": "117047164520804439545"
     },
     "user_tz": -330
    },
    "id": "9FkllOIM0PE-",
    "outputId": "0f94c807-ea4d-42af-fac7-eaf8682718fa"
   },
   "outputs": [
    {
     "data": {
      "text/plain": [
       "\"the as you with out themselves powerful lets loves their becomes reaching had journalist of lot from anyone to have after out atmosphere never more room and it so heart shows to years of every never going and help moments or of every chest visual movie except her was several of enough more with is now current film as you of mine potentially unfortunately of you than him that with out themselves her get for was camp of you movie sometimes movie that with scary but and to story wonderful that in seeing in character to of 70s musicians with heart had shadows they of here that with her serious to have does when from why what have critics they is you that isn't one will very to as itself with other and in of seen over landed for anyone of and br show's to whether from than out themselves history he name half some br of and odd was two most of mean for 1 any an boat she he should is thought frog but of script you not while history he heart to real at barrel but when from one bit then have two of script their with her nobody most that with wasn't to with armed acting watch an for with heartfelt film want an\""
      ]
     },
     "execution_count": 16,
     "metadata": {
      "tags": []
     },
     "output_type": "execute_result"
    }
   ],
   "source": [
    "sample_review"
   ]
  },
  {
   "cell_type": "markdown",
   "metadata": {
    "colab_type": "text",
    "id": "JI26BqkP0Qwg"
   },
   "source": [
    "## Data Preparation"
   ]
  },
  {
   "cell_type": "code",
   "execution_count": 0,
   "metadata": {
    "colab": {
     "autoexec": {
      "startup": false,
      "wait_interval": 0
     }
    },
    "colab_type": "code",
    "id": "d1FshZ5u0eWY"
   },
   "outputs": [],
   "source": [
    "import numpy as np"
   ]
  },
  {
   "cell_type": "code",
   "execution_count": 0,
   "metadata": {
    "colab": {
     "autoexec": {
      "startup": false,
      "wait_interval": 0
     }
    },
    "colab_type": "code",
    "id": "fxN_Lngl1fqz"
   },
   "outputs": [],
   "source": [
    "def one_hot_encoder(samples, no_features):\n",
    "  output_tensor = np.zeros((len(samples), no_features))\n",
    "  for idx, sample in enumerate(samples):\n",
    "    output_tensor[idx, sample] = 1\n",
    "  return output_tensor"
   ]
  },
  {
   "cell_type": "code",
   "execution_count": 0,
   "metadata": {
    "colab": {
     "autoexec": {
      "startup": false,
      "wait_interval": 0
     }
    },
    "colab_type": "code",
    "id": "83Icrv904CPo"
   },
   "outputs": [],
   "source": [
    "x_train = one_hot_encoder(train_data, 10000)\n",
    "x_test = one_hot_encoder(test_data, 10000)"
   ]
  },
  {
   "cell_type": "code",
   "execution_count": 20,
   "metadata": {
    "colab": {
     "autoexec": {
      "startup": false,
      "wait_interval": 0
     },
     "base_uri": "https://localhost:8080/",
     "height": 34
    },
    "colab_type": "code",
    "executionInfo": {
     "elapsed": 1033,
     "status": "ok",
     "timestamp": 1530605980757,
     "user": {
      "displayName": "Ankur Bohra",
      "photoUrl": "https://lh3.googleusercontent.com/a/default-user=s128",
      "userId": "117047164520804439545"
     },
     "user_tz": -330
    },
    "id": "bc8rr4ot4SnU",
    "outputId": "fa6f26b9-e878-4490-fbca-3dfafc8baf10"
   },
   "outputs": [
    {
     "data": {
      "text/plain": [
       "array([0., 1., 1., ..., 0., 0., 0.])"
      ]
     },
     "execution_count": 20,
     "metadata": {
      "tags": []
     },
     "output_type": "execute_result"
    }
   ],
   "source": [
    "x_train[0]"
   ]
  },
  {
   "cell_type": "code",
   "execution_count": 0,
   "metadata": {
    "colab": {
     "autoexec": {
      "startup": false,
      "wait_interval": 0
     }
    },
    "colab_type": "code",
    "id": "uSHAySCO4rEx"
   },
   "outputs": [],
   "source": [
    "y_train = np.asarray(train_labels).astype('float32')\n",
    "y_test = np.asarray(test_labels).astype('float32')"
   ]
  },
  {
   "cell_type": "markdown",
   "metadata": {
    "colab_type": "text",
    "id": "8yH3NVPi5XWZ"
   },
   "source": [
    "## Model"
   ]
  },
  {
   "cell_type": "code",
   "execution_count": 0,
   "metadata": {
    "colab": {
     "autoexec": {
      "startup": false,
      "wait_interval": 0
     }
    },
    "colab_type": "code",
    "id": "4jayeWfl6GqK"
   },
   "outputs": [],
   "source": [
    "model = keras.models.Sequential()"
   ]
  },
  {
   "cell_type": "code",
   "execution_count": 0,
   "metadata": {
    "colab": {
     "autoexec": {
      "startup": false,
      "wait_interval": 0
     }
    },
    "colab_type": "code",
    "id": "SWcI74Ly6QeL"
   },
   "outputs": [],
   "source": [
    "model.add(keras.layers.Dense(16, activation= 'relu',input_shape = (10000,)))"
   ]
  },
  {
   "cell_type": "code",
   "execution_count": 0,
   "metadata": {
    "colab": {
     "autoexec": {
      "startup": false,
      "wait_interval": 0
     }
    },
    "colab_type": "code",
    "id": "Lh8u1XVp6rUY"
   },
   "outputs": [],
   "source": [
    "model.add(keras.layers.Dense(16, activation= 'relu'))"
   ]
  },
  {
   "cell_type": "code",
   "execution_count": 0,
   "metadata": {
    "colab": {
     "autoexec": {
      "startup": false,
      "wait_interval": 0
     }
    },
    "colab_type": "code",
    "id": "JtSBDx9w7GbU"
   },
   "outputs": [],
   "source": [
    "model.add(keras.layers.Dense(1, activation= 'sigmoid'))"
   ]
  },
  {
   "cell_type": "code",
   "execution_count": 0,
   "metadata": {
    "colab": {
     "autoexec": {
      "startup": false,
      "wait_interval": 0
     }
    },
    "colab_type": "code",
    "id": "jzHPAfFa7K8b"
   },
   "outputs": [],
   "source": [
    "model.compile(optimizer=keras.optimizers.RMSprop(lr=0.001),\n",
    "              loss='binary_crossentropy', \n",
    "              metrics=['accuracy'])"
   ]
  },
  {
   "cell_type": "markdown",
   "metadata": {
    "colab_type": "text",
    "id": "DuSQnWXf7m4S"
   },
   "source": [
    "## Create a dummy validation set"
   ]
  },
  {
   "cell_type": "code",
   "execution_count": 0,
   "metadata": {
    "colab": {
     "autoexec": {
      "startup": false,
      "wait_interval": 0
     }
    },
    "colab_type": "code",
    "id": "q1Sz_mx5shrf"
   },
   "outputs": [],
   "source": [
    "x_val_set = x_train[:10000]\n",
    "x_train_set = x_train[10000:]"
   ]
  },
  {
   "cell_type": "code",
   "execution_count": 0,
   "metadata": {
    "colab": {
     "autoexec": {
      "startup": false,
      "wait_interval": 0
     }
    },
    "colab_type": "code",
    "id": "HidQrxZbs38I"
   },
   "outputs": [],
   "source": [
    "y_val_set = y_train[:10000]\n",
    "y_train_set = y_train[10000:]"
   ]
  },
  {
   "cell_type": "markdown",
   "metadata": {
    "colab_type": "text",
    "id": "uixguYE-tUGh"
   },
   "source": [
    "## Train model using training data set"
   ]
  },
  {
   "cell_type": "code",
   "execution_count": 29,
   "metadata": {
    "colab": {
     "autoexec": {
      "startup": false,
      "wait_interval": 0
     },
     "base_uri": "https://localhost:8080/",
     "height": 734
    },
    "colab_type": "code",
    "executionInfo": {
     "elapsed": 27253,
     "status": "ok",
     "timestamp": 1530606018800,
     "user": {
      "displayName": "Ankur Bohra",
      "photoUrl": "https://lh3.googleusercontent.com/a/default-user=s128",
      "userId": "117047164520804439545"
     },
     "user_tz": -330
    },
    "id": "REMoGhAYtdVA",
    "outputId": "a8525d14-fe92-47eb-d779-2598973ed113"
   },
   "outputs": [
    {
     "name": "stdout",
     "output_type": "stream",
     "text": [
      "Train on 15000 samples, validate on 10000 samples\n",
      "Epoch 1/20\n",
      "15000/15000 [==============================] - 2s 108us/step - loss: 0.5441 - acc: 0.7849 - val_loss: 0.4245 - val_acc: 0.8568\n",
      "Epoch 2/20\n",
      "15000/15000 [==============================] - 1s 85us/step - loss: 0.3385 - acc: 0.8963 - val_loss: 0.3224 - val_acc: 0.8862\n",
      "Epoch 3/20\n",
      "15000/15000 [==============================] - 1s 85us/step - loss: 0.2463 - acc: 0.9207 - val_loss: 0.2851 - val_acc: 0.8898\n",
      "Epoch 4/20\n",
      "15000/15000 [==============================] - 1s 86us/step - loss: 0.1927 - acc: 0.9367 - val_loss: 0.2734 - val_acc: 0.8910\n",
      "Epoch 5/20\n",
      "15000/15000 [==============================] - 1s 84us/step - loss: 0.1557 - acc: 0.9495 - val_loss: 0.2735 - val_acc: 0.8883\n",
      "Epoch 6/20\n",
      "15000/15000 [==============================] - 1s 84us/step - loss: 0.1305 - acc: 0.9589 - val_loss: 0.2883 - val_acc: 0.8875\n",
      "Epoch 7/20\n",
      "15000/15000 [==============================] - 1s 84us/step - loss: 0.1062 - acc: 0.9691 - val_loss: 0.3000 - val_acc: 0.8842\n",
      "Epoch 8/20\n",
      "15000/15000 [==============================] - 1s 85us/step - loss: 0.0896 - acc: 0.9747 - val_loss: 0.3178 - val_acc: 0.8835\n",
      "Epoch 9/20\n",
      "14848/15000 [============================>.] - ETA: 0s - loss: 0.0743 - acc: 0.979015000/15000 [==============================] - 1s 85us/step - loss: 0.0744 - acc: 0.9789 - val_loss: 0.3671 - val_acc: 0.8734\n",
      "Epoch 10/20\n",
      "15000/15000 [==============================] - 1s 84us/step - loss: 0.0618 - acc: 0.9833 - val_loss: 0.3786 - val_acc: 0.8765\n",
      "Epoch 11/20\n",
      "15000/15000 [==============================] - 1s 83us/step - loss: 0.0493 - acc: 0.9876 - val_loss: 0.3955 - val_acc: 0.8774\n",
      "Epoch 12/20\n",
      "15000/15000 [==============================] - 1s 84us/step - loss: 0.0415 - acc: 0.9902 - val_loss: 0.4154 - val_acc: 0.8749\n",
      "Epoch 13/20\n",
      "15000/15000 [==============================] - 1s 85us/step - loss: 0.0334 - acc: 0.9927 - val_loss: 0.4413 - val_acc: 0.8749\n",
      "Epoch 14/20\n",
      "15000/15000 [==============================] - 1s 83us/step - loss: 0.0261 - acc: 0.9950 - val_loss: 0.4739 - val_acc: 0.8729\n",
      "Epoch 15/20\n",
      "15000/15000 [==============================] - 1s 84us/step - loss: 0.0205 - acc: 0.9968 - val_loss: 0.5793 - val_acc: 0.8612\n",
      "Epoch 16/20\n",
      "15000/15000 [==============================] - 1s 83us/step - loss: 0.0154 - acc: 0.9985 - val_loss: 0.5352 - val_acc: 0.8716\n",
      "Epoch 17/20\n",
      "15000/15000 [==============================] - 1s 84us/step - loss: 0.0143 - acc: 0.9977 - val_loss: 0.5643 - val_acc: 0.8707\n",
      "Epoch 18/20\n",
      " 5632/15000 [==========>...................] - ETA: 0s - loss: 0.0068 - acc: 0.999815000/15000 [==============================] - 1s 83us/step - loss: 0.0083 - acc: 0.9993 - val_loss: 0.6605 - val_acc: 0.8556\n",
      "Epoch 19/20\n",
      "15000/15000 [==============================] - 1s 84us/step - loss: 0.0082 - acc: 0.9991 - val_loss: 0.6315 - val_acc: 0.8683\n",
      "Epoch 20/20\n",
      "15000/15000 [==============================] - 1s 83us/step - loss: 0.0043 - acc: 0.9999 - val_loss: 0.6805 - val_acc: 0.8648\n"
     ]
    }
   ],
   "source": [
    "history = model.fit(x_train_set,\n",
    "          y_train_set,\n",
    "          epochs=20,\n",
    "          batch_size=512,\n",
    "          validation_data=(x_val_set, y_val_set))"
   ]
  },
  {
   "cell_type": "code",
   "execution_count": 30,
   "metadata": {
    "colab": {
     "autoexec": {
      "startup": false,
      "wait_interval": 0
     },
     "base_uri": "https://localhost:8080/",
     "height": 34
    },
    "colab_type": "code",
    "executionInfo": {
     "elapsed": 1140,
     "status": "ok",
     "timestamp": 1530606019968,
     "user": {
      "displayName": "Ankur Bohra",
      "photoUrl": "https://lh3.googleusercontent.com/a/default-user=s128",
      "userId": "117047164520804439545"
     },
     "user_tz": -330
    },
    "id": "panqV2hWt_XH",
    "outputId": "57477d88-8141-442b-d3b9-185508724b90"
   },
   "outputs": [
    {
     "data": {
      "text/plain": [
       "dict_keys(['val_loss', 'val_acc', 'loss', 'acc'])"
      ]
     },
     "execution_count": 30,
     "metadata": {
      "tags": []
     },
     "output_type": "execute_result"
    }
   ],
   "source": [
    "history.history.keys()"
   ]
  },
  {
   "cell_type": "markdown",
   "metadata": {
    "colab_type": "text",
    "id": "wJII3mz0uVkD"
   },
   "source": [
    "## Plot the training and validation loss and accuracy"
   ]
  },
  {
   "cell_type": "code",
   "execution_count": 0,
   "metadata": {
    "colab": {
     "autoexec": {
      "startup": false,
      "wait_interval": 0
     }
    },
    "colab_type": "code",
    "id": "-zK6eYWgutqe"
   },
   "outputs": [],
   "source": [
    "import matplotlib.pyplot as plt"
   ]
  },
  {
   "cell_type": "code",
   "execution_count": 0,
   "metadata": {
    "colab": {
     "autoexec": {
      "startup": false,
      "wait_interval": 0
     }
    },
    "colab_type": "code",
    "id": "rKeR-gfVu0mw"
   },
   "outputs": [],
   "source": [
    "train_acc = history.history['acc']\n",
    "val_acc = history.history['val_acc']\n",
    "train_loss = history.history['loss']\n",
    "val_loss = history.history['val_loss']"
   ]
  },
  {
   "cell_type": "code",
   "execution_count": 0,
   "metadata": {
    "colab": {
     "autoexec": {
      "startup": false,
      "wait_interval": 0
     }
    },
    "colab_type": "code",
    "id": "TbFMBF9KvIIQ"
   },
   "outputs": [],
   "source": [
    "epochs = range(1, len(train_acc) + 1)"
   ]
  },
  {
   "cell_type": "code",
   "execution_count": 34,
   "metadata": {
    "colab": {
     "autoexec": {
      "startup": false,
      "wait_interval": 0
     },
     "base_uri": "https://localhost:8080/",
     "height": 393
    },
    "colab_type": "code",
    "executionInfo": {
     "elapsed": 1631,
     "status": "ok",
     "timestamp": 1530606994080,
     "user": {
      "displayName": "Ankur Bohra",
      "photoUrl": "https://lh3.googleusercontent.com/a/default-user=s128",
      "userId": "117047164520804439545"
     },
     "user_tz": -330
    },
    "id": "2iTVxb6vviUb",
    "outputId": "778bc3fa-f331-465c-bd19-9caff550b638"
   },
   "outputs": [
    {
     "data": {
      "text/plain": [
       "Text(0,0.5,'Loss')"
      ]
     },
     "execution_count": 34,
     "metadata": {
      "tags": []
     },
     "output_type": "execute_result"
    },
    {
     "data": {
      "image/png": "[encoded data removed]",
      "text/plain": [
       "<matplotlib.figure.Figure at 0x7fd09d319940>"
      ]
     },
     "metadata": {
      "tags": []
     },
     "output_type": "display_data"
    }
   ],
   "source": [
    "plt.plot(epochs, train_loss, 'ro', label='Training Loss')\n",
    "plt.plot(epochs, val_loss, 'g', label='Validation Loss')\n",
    "plt.title('Training and Validation Loss')\n",
    "plt.xlabel('Epoch')\n",
    "plt.ylabel('Loss')"
   ]
  },
  {
   "cell_type": "code",
   "execution_count": 36,
   "metadata": {
    "colab": {
     "autoexec": {
      "startup": false,
      "wait_interval": 0
     },
     "base_uri": "https://localhost:8080/",
     "height": 393
    },
    "colab_type": "code",
    "executionInfo": {
     "elapsed": 798,
     "status": "ok",
     "timestamp": 1530607077505,
     "user": {
      "displayName": "Ankur Bohra",
      "photoUrl": "https://lh3.googleusercontent.com/a/default-user=s128",
      "userId": "117047164520804439545"
     },
     "user_tz": -330
    },
    "id": "bTmaqyCrOOWt",
    "outputId": "ec6c67ba-a987-4b34-d27e-4fae55a424b7"
   },
   "outputs": [
    {
     "data": {
      "text/plain": [
       "Text(0,0.5,'Accuracy')"
      ]
     },
     "execution_count": 36,
     "metadata": {
      "tags": []
     },
     "output_type": "execute_result"
    },
    {
     "data": {
      "image/png": "[encoded data removed]",
      "text/plain": [
       "<matplotlib.figure.Figure at 0x7fd09d10a5f8>"
      ]
     },
     "metadata": {
      "tags": []
     },
     "output_type": "display_data"
    }
   ],
   "source": [
    "plt.clf()\n",
    "plt.plot(epochs, train_acc, 'ro', label='Training Accuracy')\n",
    "plt.plot(epochs, val_acc, 'g', label='Validation Accuracy')\n",
    "plt.title('Training and Validation Accuracy')\n",
    "plt.xlabel('Epoch')\n",
    "plt.ylabel('Accuracy')"
   ]
  },
  {
   "cell_type": "markdown",
   "metadata": {
    "colab_type": "text",
    "id": "qaoX1DHtTqkI"
   },
   "source": [
    "## Retrain the entire model for 3 epochs"
   ]
  },
  {
   "cell_type": "code",
   "execution_count": 39,
   "metadata": {
    "colab": {
     "autoexec": {
      "startup": false,
      "wait_interval": 0
     },
     "base_uri": "https://localhost:8080/",
     "height": 136
    },
    "colab_type": "code",
    "executionInfo": {
     "elapsed": 8393,
     "status": "ok",
     "timestamp": 1530607473623,
     "user": {
      "displayName": "Ankur Bohra",
      "photoUrl": "https://lh3.googleusercontent.com/a/default-user=s128",
      "userId": "117047164520804439545"
     },
     "user_tz": -330
    },
    "id": "XPtHfaufSixn",
    "outputId": "7574da9d-5d3a-404a-9088-4b656a867630"
   },
   "outputs": [
    {
     "name": "stdout",
     "output_type": "stream",
     "text": [
      "Epoch 1/3\n",
      "25000/25000 [==============================] - 2s 62us/step - loss: 0.4883 - acc: 0.7925\n",
      "Epoch 2/3\n",
      "25000/25000 [==============================] - 1s 54us/step - loss: 0.2790 - acc: 0.9056\n",
      "Epoch 3/3\n",
      "25000/25000 [==============================] - 1s 55us/step - loss: 0.2082 - acc: 0.9284\n",
      "25000/25000 [==============================] - 3s 113us/step\n"
     ]
    }
   ],
   "source": [
    "model = keras.models.Sequential()\n",
    "model.add(keras.layers.Dense(16, activation='relu', input_shape=(10000,)))\n",
    "model.add(keras.layers.Dense(16, activation='relu'))\n",
    "model.add(keras.layers.Dense(1, activation='sigmoid'))\n",
    "model.compile(optimizer='rmsprop',\n",
    "              loss='binary_crossentropy',\n",
    "              metrics=['accuracy'])\n",
    "model.fit(x_train, y_train, epochs=3, batch_size=512)\n",
    "results = model.evaluate(x_test, y_test)"
   ]
  },
  {
   "cell_type": "code",
   "execution_count": 40,
   "metadata": {
    "colab": {
     "autoexec": {
      "startup": false,
      "wait_interval": 0
     },
     "base_uri": "https://localhost:8080/",
     "height": 34
    },
    "colab_type": "code",
    "executionInfo": {
     "elapsed": 2334,
     "status": "ok",
     "timestamp": 1530607476015,
     "user": {
      "displayName": "Ankur Bohra",
      "photoUrl": "https://lh3.googleusercontent.com/a/default-user=s128",
      "userId": "117047164520804439545"
     },
     "user_tz": -330
    },
    "id": "Svl5rzigUHJ9",
    "outputId": "3678553f-b968-4bc4-ea9f-ba9ba8e1e218"
   },
   "outputs": [
    {
     "data": {
      "text/plain": [
       "[0.2985367108249664, 0.88192]"
      ]
     },
     "execution_count": 40,
     "metadata": {
      "tags": []
     },
     "output_type": "execute_result"
    }
   ],
   "source": [
    "results"
   ]
  },
  {
   "cell_type": "markdown",
   "metadata": {
    "colab_type": "text",
    "id": "PGfMzvi-T3_h"
   },
   "source": [
    "## Predict on test set"
   ]
  },
  {
   "cell_type": "code",
   "execution_count": 41,
   "metadata": {
    "colab": {
     "autoexec": {
      "startup": false,
      "wait_interval": 0
     },
     "base_uri": "https://localhost:8080/",
     "height": 136
    },
    "colab_type": "code",
    "executionInfo": {
     "elapsed": 3332,
     "status": "ok",
     "timestamp": 1530607778581,
     "user": {
      "displayName": "Ankur Bohra",
      "photoUrl": "https://lh3.googleusercontent.com/a/default-user=s128",
      "userId": "117047164520804439545"
     },
     "user_tz": -330
    },
    "id": "dQKkobcXVPWw",
    "outputId": "07913078-a6fe-4550-c3ff-0f7ae6b44a66"
   },
   "outputs": [
    {
     "data": {
      "text/plain": [
       "array([[0.3072699 ],\n",
       "       [0.9999734 ],\n",
       "       [0.9881009 ],\n",
       "       ...,\n",
       "       [0.24560508],\n",
       "       [0.20542961],\n",
       "       [0.6527755 ]], dtype=float32)"
      ]
     },
     "execution_count": 41,
     "metadata": {
      "tags": []
     },
     "output_type": "execute_result"
    }
   ],
   "source": [
    "model.predict(x_test)"
   ]
  },
  {
   "cell_type": "code",
   "execution_count": 0,
   "metadata": {
    "colab": {
     "autoexec": {
      "startup": false,
      "wait_interval": 0
     }
    },
    "colab_type": "code",
    "id": "5qLgO6muVS2R"
   },
   "outputs": [],
   "source": []
  }
 ],
 "metadata": {
  "accelerator": "GPU",
  "colab": {
   "collapsed_sections": [],
   "default_view": {},
   "name": "naive-classification-imdb-reviews.ipynb",
   "provenance": [],
   "toc_visible": true,
   "version": "0.3.2",
   "views": {}
  },
  "kernelspec": {
   "display_name": "Python 3",
   "language": "python",
   "name": "python3"
  },
  "language_info": {
   "codemirror_mode": {
    "name": "ipython",
    "version": 3
   },
   "file_extension": ".py",
   "mimetype": "text/x-python",
   "name": "python",
   "nbconvert_exporter": "python",
   "pygments_lexer": "ipython3",
   "version": "3.6.4"
  }
 },
 "nbformat": 4,
 "nbformat_minor": 1
}

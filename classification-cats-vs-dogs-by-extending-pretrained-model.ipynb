{
 "cells": [
  {
   "cell_type": "markdown",
   "metadata": {
    "colab_type": "text",
    "id": "view-in-github"
   },
   "source": [
    "[View in Colaboratory](https://colab.research.google.com/github/silentvoice/dl-with-keras/blob/master/classification-cats-vs-dogs-by-extending-pretrained-model.ipynb)"
   ]
  },
  {
   "cell_type": "markdown",
   "metadata": {
    "colab_type": "text",
    "id": "rCxHTcOHpnjj"
   },
   "source": [
    "# Classification Cats Vs Dogs Using Pre-trained Model"
   ]
  },
  {
   "cell_type": "code",
   "execution_count": 0,
   "metadata": {
    "colab": {},
    "colab_type": "code",
    "id": "QjipQwLwN3ue"
   },
   "outputs": [],
   "source": [
    "# this resets the state of the machine (e.g. if you want to re-install from scratch  # this  \n",
    "# or reset memory usage in this instance)\n",
    "# wait a minute after running it and then reload the page\n",
    "!kill -9 -1"
   ]
  },
  {
   "cell_type": "markdown",
   "metadata": {
    "colab_type": "text",
    "id": "2UlCGg0IpzTW"
   },
   "source": [
    "## Check Tensorflow Version"
   ]
  },
  {
   "cell_type": "code",
   "execution_count": 0,
   "metadata": {
    "colab": {},
    "colab_type": "code",
    "id": "GN9C5Hh3pXS0"
   },
   "outputs": [],
   "source": [
    "import tensorflow as tf"
   ]
  },
  {
   "cell_type": "code",
   "execution_count": 2,
   "metadata": {
    "colab": {
     "base_uri": "https://localhost:8080/",
     "height": 34
    },
    "colab_type": "code",
    "id": "hz8_FKF1nBZM",
    "outputId": "f47c98de-3648-45db-c6b1-28d672b7f815"
   },
   "outputs": [
    {
     "data": {
      "text/plain": [
       "'/device:GPU:0'"
      ]
     },
     "execution_count": 2,
     "metadata": {
      "tags": []
     },
     "output_type": "execute_result"
    }
   ],
   "source": [
    "tf.test.gpu_device_name()"
   ]
  },
  {
   "cell_type": "code",
   "execution_count": 3,
   "metadata": {
    "colab": {
     "base_uri": "https://localhost:8080/",
     "height": 34
    },
    "colab_type": "code",
    "id": "NBO8e2kHoFSI",
    "outputId": "c4174044-19c6-434d-b090-81c65b56de00"
   },
   "outputs": [
    {
     "data": {
      "text/plain": [
       "'1.9.0-rc2'"
      ]
     },
     "execution_count": 3,
     "metadata": {
      "tags": []
     },
     "output_type": "execute_result"
    }
   ],
   "source": [
    "tf.__version__"
   ]
  },
  {
   "cell_type": "markdown",
   "metadata": {
    "colab_type": "text",
    "id": "JFlI4hFYpNBo"
   },
   "source": [
    "## Imports"
   ]
  },
  {
   "cell_type": "code",
   "execution_count": 0,
   "metadata": {
    "colab": {},
    "colab_type": "code",
    "id": "QEIfV4L5qMZP"
   },
   "outputs": [],
   "source": [
    "from tensorflow import keras\n",
    "from tensorflow.python.keras import layers, models, optimizers\n",
    "from tensorflow.python.keras.preprocessing import image\n",
    "from tensorflow.python.keras.preprocessing.image import ImageDataGenerator\n",
    "from tensorflow.python.keras.applications import VGG16\n",
    "import numpy as np\n",
    "import matplotlib.pyplot as plt\n",
    "import os, shutil\n"
   ]
  },
  {
   "cell_type": "markdown",
   "metadata": {
    "colab_type": "text",
    "id": "FX1hYnllqQDI"
   },
   "source": [
    "## Load Kaggle Dogs Dataset"
   ]
  },
  {
   "cell_type": "code",
   "execution_count": 0,
   "metadata": {
    "colab": {},
    "colab_type": "code",
    "id": "a_PIk31fPBcX"
   },
   "outputs": [],
   "source": [
    "# Run this cell and select the kaggle.json file downloaded\n",
    "# from the Kaggle account settings page.\n",
    "from google.colab import files\n",
    "files.upload()"
   ]
  },
  {
   "cell_type": "code",
   "execution_count": 7,
   "metadata": {
    "colab": {
     "base_uri": "https://localhost:8080/",
     "height": 34
    },
    "colab_type": "code",
    "id": "m0SpgzOVPqrZ",
    "outputId": "90e0ebcd-c8a8-4651-e00e-5a66a8cf518a"
   },
   "outputs": [
    {
     "name": "stdout",
     "output_type": "stream",
     "text": [
      "-rw-r--r-- 1 root root 66 Jul  6 15:36 kaggle.json\r\n"
     ]
    }
   ],
   "source": [
    "# Check if the kaggle.json file is present.\n",
    "!ls -lha kaggle.json"
   ]
  },
  {
   "cell_type": "code",
   "execution_count": 0,
   "metadata": {
    "colab": {},
    "colab_type": "code",
    "id": "jDE5mwC3P5dm"
   },
   "outputs": [],
   "source": [
    "# Install the Kaggle API client.\n",
    "!pip install -q kaggle"
   ]
  },
  {
   "cell_type": "code",
   "execution_count": 0,
   "metadata": {
    "colab": {},
    "colab_type": "code",
    "id": "IzGKadvVP-zJ"
   },
   "outputs": [],
   "source": [
    "# The Kaggle API client expects this file to be in ~/.kaggle,\n",
    "# so move it there.\n",
    "!mkdir -p ~/.kaggle\n",
    "!cp kaggle.json ~/.kaggle/\n",
    "\n",
    "# This permissions change avoids a warning on Kaggle tool startup.\n",
    "!chmod 600 /content/.kaggle/kaggle.json"
   ]
  },
  {
   "cell_type": "code",
   "execution_count": 10,
   "metadata": {
    "colab": {
     "base_uri": "https://localhost:8080/",
     "height": 170
    },
    "colab_type": "code",
    "id": "0S-fE4FsQHOg",
    "outputId": "21536c73-38d7-4ad8-8990-fce83363cd93"
   },
   "outputs": [
    {
     "name": "stdout",
     "output_type": "stream",
     "text": [
      "Downloading sampleSubmission.csv to data/cats-vs-dogs\r\n",
      "\r",
      "  0%|                                               | 0.00/86.8k [00:00<?, ?B/s]\r\n",
      "100%|██████████████████████████████████████| 86.8k/86.8k [00:00<00:00, 31.0MB/s]\n",
      "Downloading test1.zip to data/cats-vs-dogs\n",
      " 99%|████████████████████████████████████████▌| 268M/271M [00:02<00:00, 161MB/s]\n",
      "100%|█████████████████████████████████████████| 271M/271M [00:02<00:00, 123MB/s]\n",
      "Downloading train.zip to data/cats-vs-dogs\n",
      " 98%|████████████████████████████████████████▏| 532M/543M [00:03<00:00, 147MB/s]\n",
      "100%|█████████████████████████████████████████| 543M/543M [00:03<00:00, 157MB/s]\n"
     ]
    }
   ],
   "source": [
    "# Download dataset from kaggle\n",
    "!mkdir -p data/cats-vs-dogs && kaggle competitions download -c dogs-vs-cats -p data/cats-vs-dogs/"
   ]
  },
  {
   "cell_type": "code",
   "execution_count": 0,
   "metadata": {
    "colab": {},
    "colab_type": "code",
    "id": "ZZZZGCmSmZW_"
   },
   "outputs": [],
   "source": [
    "!mkdir data/cats-vs-dogs/orig_data && unzip data/cats-vs-dogs/train.zip -d data/cats-vs-dogs/orig_data/"
   ]
  },
  {
   "cell_type": "code",
   "execution_count": 0,
   "metadata": {
    "colab": {},
    "colab_type": "code",
    "id": "uz_GR2xZtKHE"
   },
   "outputs": [],
   "source": [
    "orig_data_dir = '/content/data/cats-vs-dogs/orig_data/train'"
   ]
  },
  {
   "cell_type": "code",
   "execution_count": 0,
   "metadata": {
    "colab": {},
    "colab_type": "code",
    "id": "HCpcC9YCtcHM"
   },
   "outputs": [],
   "source": [
    "base_dir = '/content/data/small-cats-vs-dogs'\n",
    "os.mkdir(base_dir)"
   ]
  },
  {
   "cell_type": "code",
   "execution_count": 0,
   "metadata": {
    "colab": {},
    "colab_type": "code",
    "id": "w3hby9COt0dv"
   },
   "outputs": [],
   "source": [
    "# Create Train, Validation and Test folders\n",
    "train_dir = os.path.join(base_dir, 'train')\n",
    "os.mkdir(train_dir)\n",
    "validation_dir = os.path.join(base_dir, 'validation')\n",
    "os.mkdir(validation_dir)\n",
    "test_dir = os.path.join(base_dir, 'test')\n",
    "os.mkdir(test_dir)"
   ]
  },
  {
   "cell_type": "code",
   "execution_count": 0,
   "metadata": {
    "colab": {},
    "colab_type": "code",
    "id": "8oCT25botvsy"
   },
   "outputs": [],
   "source": [
    "# Prepare folders for cats and dogs  \n",
    "train_cats_dir = os.path.join(train_dir, 'cats')\n",
    "os.mkdir(train_cats_dir)\n",
    "train_dogs_dir = os.path.join(train_dir, 'dogs')\n",
    "os.mkdir(train_dogs_dir)\n",
    "\n",
    "validation_cats_dir = os.path.join(validation_dir, 'cats')\n",
    "os.mkdir(validation_cats_dir)\n",
    "validation_dogs_dir = os.path.join(validation_dir, 'dogs')\n",
    "os.mkdir(validation_dogs_dir)\n",
    "\n",
    "test_cats_dir = os.path.join(test_dir, 'cats')\n",
    "os.mkdir(test_cats_dir)\n",
    "test_dogs_dir = os.path.join(test_dir, 'dogs')\n",
    "os.mkdir(test_dogs_dir)"
   ]
  },
  {
   "cell_type": "code",
   "execution_count": 16,
   "metadata": {
    "colab": {
     "base_uri": "https://localhost:8080/",
     "height": 204
    },
    "colab_type": "code",
    "id": "B5Skq-bhxrJF",
    "outputId": "6589d1fe-e550-48a0-ebd8-1f269d67aede"
   },
   "outputs": [
    {
     "name": "stdout",
     "output_type": "stream",
     "text": [
      "cat.0.jpg\r\n",
      "cat.10000.jpg\r\n",
      "cat.10001.jpg\r\n",
      "cat.10002.jpg\r\n",
      "cat.10003.jpg\r\n",
      "cat.10004.jpg\r\n",
      "cat.10005.jpg\r\n",
      "cat.10006.jpg\r\n",
      "cat.10007.jpg\r\n",
      "cat.10008.jpg\r\n",
      "ls: write error: Broken pipe\r\n"
     ]
    }
   ],
   "source": [
    "!ls data/cats-vs-dogs/orig_data/train | head\n"
   ]
  },
  {
   "cell_type": "code",
   "execution_count": 0,
   "metadata": {
    "colab": {},
    "colab_type": "code",
    "id": "EiTF18GZ2QS4"
   },
   "outputs": [],
   "source": [
    "# create a smaller train, validation and test dataset from orig_data\n",
    "train_cat_f_names = ['cat.{}.jpg'.format(i) for i in range(1000)]\n",
    "train_dog_f_names = ['dog.{}.jpg'.format(i) for i in range(1000)]\n",
    "\n",
    "val_cat_f_names = ['cat.{}.jpg'.format(i) for i in range(1000, 1500)]\n",
    "val_dog_f_names = ['dog.{}.jpg'.format(i) for i in range(1000, 1500)]\n",
    "\n",
    "test_cat_f_names = ['cat.{}.jpg'.format(i) for i in range(1500, 2000)]\n",
    "test_dog_f_names = ['dog.{}.jpg'.format(i) for i in range(1500, 2000)]"
   ]
  },
  {
   "cell_type": "code",
   "execution_count": 0,
   "metadata": {
    "colab": {},
    "colab_type": "code",
    "id": "NIruC4Pc3Z7d"
   },
   "outputs": [],
   "source": [
    "for f_name in train_cat_f_names:\n",
    "  src = os.path.join(orig_data_dir, f_name)\n",
    "  dst = os.path.join(train_cats_dir, f_name)\n",
    "  shutil.copyfile(src, dst)\n",
    "  \n",
    "for f_name in val_cat_f_names:\n",
    "  src = os.path.join(orig_data_dir, f_name)\n",
    "  dst = os.path.join(validation_cats_dir, f_name)\n",
    "  shutil.copyfile(src, dst)\n",
    "  \n",
    "for f_name in test_cat_f_names:\n",
    "  src = os.path.join(orig_data_dir, f_name)\n",
    "  dst = os.path.join(test_cats_dir, f_name)\n",
    "  shutil.copyfile(src, dst)\n",
    "\n",
    "for f_name in train_dog_f_names:\n",
    "  src = os.path.join(orig_data_dir, f_name)\n",
    "  dst = os.path.join(train_dogs_dir, f_name)\n",
    "  shutil.copyfile(src, dst)\n",
    "  \n",
    "for f_name in val_dog_f_names:\n",
    "  src = os.path.join(orig_data_dir, f_name)\n",
    "  dst = os.path.join(validation_dogs_dir, f_name)\n",
    "  shutil.copyfile(src, dst)\n",
    "  \n",
    "for f_name in test_dog_f_names:\n",
    "  src = os.path.join(orig_data_dir, f_name)\n",
    "  dst = os.path.join(test_dogs_dir, f_name)\n",
    "  shutil.copyfile(src, dst) "
   ]
  },
  {
   "cell_type": "code",
   "execution_count": 0,
   "metadata": {
    "colab": {
     "base_uri": "https://localhost:8080/",
     "height": 34
    },
    "colab_type": "code",
    "id": "e4bVUVeI4swx",
    "outputId": "100c1bde-66a1-4a80-9da3-6f06936c13d9"
   },
   "outputs": [
    {
     "data": {
      "text/plain": [
       "1000"
      ]
     },
     "execution_count": 91,
     "metadata": {
      "tags": []
     },
     "output_type": "execute_result"
    }
   ],
   "source": [
    "len(os.listdir(train_cats_dir))"
   ]
  },
  {
   "cell_type": "code",
   "execution_count": 21,
   "metadata": {
    "colab": {
     "base_uri": "https://localhost:8080/",
     "height": 34
    },
    "colab_type": "code",
    "id": "3onVFA0c5DDx",
    "outputId": "cb4a3262-5e2f-44cc-b96a-5c07975a3809"
   },
   "outputs": [
    {
     "data": {
      "text/plain": [
       "1000"
      ]
     },
     "execution_count": 21,
     "metadata": {
      "tags": []
     },
     "output_type": "execute_result"
    }
   ],
   "source": [
    "len(os.listdir(train_dogs_dir))"
   ]
  },
  {
   "cell_type": "markdown",
   "metadata": {
    "colab_type": "text",
    "id": "MIckwLvf7BLD"
   },
   "source": [
    "## Data Preparation \n"
   ]
  },
  {
   "cell_type": "code",
   "execution_count": 23,
   "metadata": {
    "colab": {
     "base_uri": "https://localhost:8080/",
     "height": 51
    },
    "colab_type": "code",
    "id": "G4OAPDoF7g3b",
    "outputId": "043e5801-fa45-448a-cd41-c5719b78e557"
   },
   "outputs": [
    {
     "name": "stdout",
     "output_type": "stream",
     "text": [
      "Found 2000 images belonging to 2 classes.\n",
      "Found 1000 images belonging to 2 classes.\n"
     ]
    }
   ],
   "source": [
    "train_data_gen = ImageDataGenerator(rescale=1./255,\n",
    "                                    rotation_range=40,\n",
    "                                    width_shift_range=0.2,\n",
    "                                    height_shift_range=0.2,\n",
    "                                    shear_range=0.2,\n",
    "                                    zoom_range=0.2,\n",
    "                                    horizontal_flip=True,\n",
    "                                    fill_mode='nearest')\n",
    "\n",
    "val_data_gen = ImageDataGenerator(rescale=1./255)\n",
    "\n",
    "train_generator = train_data_gen.flow_from_directory(train_dir,\n",
    "                                                    target_size=(150, 150),\n",
    "                                                    batch_size=20,\n",
    "                                                    class_mode='binary')\n",
    "\n",
    "validation_generator = val_data_gen.flow_from_directory(\n",
    "        validation_dir,\n",
    "        target_size=(150, 150),\n",
    "        batch_size=20,\n",
    "        class_mode='binary')"
   ]
  },
  {
   "cell_type": "markdown",
   "metadata": {
    "colab_type": "text",
    "id": "8yH3NVPi5XWZ"
   },
   "source": [
    "## VGG16 Resnet Base Model"
   ]
  },
  {
   "cell_type": "code",
   "execution_count": 24,
   "metadata": {
    "colab": {
     "base_uri": "https://localhost:8080/",
     "height": 71
    },
    "colab_type": "code",
    "id": "NKG9eMUqzBET",
    "outputId": "c9ceb24e-5f63-40f1-a876-51704f38ea8f"
   },
   "outputs": [
    {
     "name": "stdout",
     "output_type": "stream",
     "text": [
      "Downloading data from https://github.com/fchollet/deep-learning-models/releases/download/v0.1/vgg16_weights_tf_dim_ordering_tf_kernels_notop.h5\n",
      "58892288/58889256 [==============================] - 2s 0us/step\n"
     ]
    }
   ],
   "source": [
    "conv_base = VGG16(weights='imagenet',\n",
    "                    include_top=False,\n",
    "                    input_shape=(150, 150, 3))"
   ]
  },
  {
   "cell_type": "code",
   "execution_count": 25,
   "metadata": {
    "colab": {
     "base_uri": "https://localhost:8080/",
     "height": 782
    },
    "colab_type": "code",
    "id": "6OasEo-hzqst",
    "outputId": "2281462d-0b85-4096-8f79-4b26f0f73650"
   },
   "outputs": [
    {
     "name": "stdout",
     "output_type": "stream",
     "text": [
      "_________________________________________________________________\n",
      "Layer (type)                 Output Shape              Param #   \n",
      "=================================================================\n",
      "input_1 (InputLayer)         (None, 150, 150, 3)       0         \n",
      "_________________________________________________________________\n",
      "block1_conv1 (Conv2D)        (None, 150, 150, 64)      1792      \n",
      "_________________________________________________________________\n",
      "block1_conv2 (Conv2D)        (None, 150, 150, 64)      36928     \n",
      "_________________________________________________________________\n",
      "block1_pool (MaxPooling2D)   (None, 75, 75, 64)        0         \n",
      "_________________________________________________________________\n",
      "block2_conv1 (Conv2D)        (None, 75, 75, 128)       73856     \n",
      "_________________________________________________________________\n",
      "block2_conv2 (Conv2D)        (None, 75, 75, 128)       147584    \n",
      "_________________________________________________________________\n",
      "block2_pool (MaxPooling2D)   (None, 37, 37, 128)       0         \n",
      "_________________________________________________________________\n",
      "block3_conv1 (Conv2D)        (None, 37, 37, 256)       295168    \n",
      "_________________________________________________________________\n",
      "block3_conv2 (Conv2D)        (None, 37, 37, 256)       590080    \n",
      "_________________________________________________________________\n",
      "block3_conv3 (Conv2D)        (None, 37, 37, 256)       590080    \n",
      "_________________________________________________________________\n",
      "block3_pool (MaxPooling2D)   (None, 18, 18, 256)       0         \n",
      "_________________________________________________________________\n",
      "block4_conv1 (Conv2D)        (None, 18, 18, 512)       1180160   \n",
      "_________________________________________________________________\n",
      "block4_conv2 (Conv2D)        (None, 18, 18, 512)       2359808   \n",
      "_________________________________________________________________\n",
      "block4_conv3 (Conv2D)        (None, 18, 18, 512)       2359808   \n",
      "_________________________________________________________________\n",
      "block4_pool (MaxPooling2D)   (None, 9, 9, 512)         0         \n",
      "_________________________________________________________________\n",
      "block5_conv1 (Conv2D)        (None, 9, 9, 512)         2359808   \n",
      "_________________________________________________________________\n",
      "block5_conv2 (Conv2D)        (None, 9, 9, 512)         2359808   \n",
      "_________________________________________________________________\n",
      "block5_conv3 (Conv2D)        (None, 9, 9, 512)         2359808   \n",
      "_________________________________________________________________\n",
      "block5_pool (MaxPooling2D)   (None, 4, 4, 512)         0         \n",
      "=================================================================\n",
      "Total params: 14,714,688\n",
      "Trainable params: 14,714,688\n",
      "Non-trainable params: 0\n",
      "_________________________________________________________________\n"
     ]
    }
   ],
   "source": [
    "conv_base.summary()"
   ]
  },
  {
   "cell_type": "markdown",
   "metadata": {
    "colab_type": "text",
    "id": "_B8Rz9V7-Uas"
   },
   "source": [
    "## Extend the base model"
   ]
  },
  {
   "cell_type": "code",
   "execution_count": 0,
   "metadata": {
    "colab": {},
    "colab_type": "code",
    "id": "4BbqBG3cgkPc"
   },
   "outputs": [],
   "source": [
    "model = models.Sequential()\n",
    "\n",
    "model.add(conv_base)\n",
    "model.add(layers.Flatten())\n",
    "model.add(layers.Dropout(0.5))\n",
    "model.add(layers.Dense(256, activation='relu'))\n",
    "model.add(layers.Dense(1, activation='sigmoid'))"
   ]
  },
  {
   "cell_type": "code",
   "execution_count": 0,
   "metadata": {
    "colab": {},
    "colab_type": "code",
    "id": "rAbNvznSLmBj"
   },
   "outputs": [],
   "source": [
    "conv_base.trainable = False"
   ]
  },
  {
   "cell_type": "code",
   "execution_count": 0,
   "metadata": {
    "colab": {},
    "colab_type": "code",
    "id": "mvXyHlr7LlQd"
   },
   "outputs": [],
   "source": [
    "model.compile(optimizer=optimizers.RMSprop(lr=2e-5),\n",
    "              loss='binary_crossentropy',\n",
    "              metrics=['acc'])\n"
   ]
  },
  {
   "cell_type": "code",
   "execution_count": 29,
   "metadata": {
    "colab": {
     "base_uri": "https://localhost:8080/",
     "height": 306
    },
    "colab_type": "code",
    "id": "QL36FeP-7Y6g",
    "outputId": "c470f527-1447-4a77-fead-bac57f1880c3"
   },
   "outputs": [
    {
     "name": "stdout",
     "output_type": "stream",
     "text": [
      "_________________________________________________________________\n",
      "Layer (type)                 Output Shape              Param #   \n",
      "=================================================================\n",
      "vgg16 (Model)                (None, 4, 4, 512)         14714688  \n",
      "_________________________________________________________________\n",
      "flatten (Flatten)            (None, 8192)              0         \n",
      "_________________________________________________________________\n",
      "dropout (Dropout)            (None, 8192)              0         \n",
      "_________________________________________________________________\n",
      "dense (Dense)                (None, 256)               2097408   \n",
      "_________________________________________________________________\n",
      "dense_1 (Dense)              (None, 1)                 257       \n",
      "=================================================================\n",
      "Total params: 16,812,353\n",
      "Trainable params: 2,097,665\n",
      "Non-trainable params: 14,714,688\n",
      "_________________________________________________________________\n"
     ]
    }
   ],
   "source": [
    "model.summary()"
   ]
  },
  {
   "cell_type": "markdown",
   "metadata": {
    "colab_type": "text",
    "id": "DuSQnWXf7m4S"
   },
   "source": [
    "## Train the Model"
   ]
  },
  {
   "cell_type": "code",
   "execution_count": 30,
   "metadata": {
    "colab": {
     "base_uri": "https://localhost:8080/",
     "height": 1037
    },
    "colab_type": "code",
    "id": "3PPbdUhx7YMT",
    "outputId": "e25d4d57-b41c-40f1-be97-095c28f3ca0a"
   },
   "outputs": [
    {
     "name": "stdout",
     "output_type": "stream",
     "text": [
      "Epoch 1/30\n",
      " - 32s - loss: 0.6724 - acc: 0.5880 - val_loss: 0.5107 - val_acc: 0.8030\n",
      "Epoch 2/30\n",
      " - 28s - loss: 0.5743 - acc: 0.6875 - val_loss: 0.4519 - val_acc: 0.7960\n",
      "Epoch 3/30\n",
      " - 28s - loss: 0.5215 - acc: 0.7495 - val_loss: 0.3867 - val_acc: 0.8490\n",
      "Epoch 4/30\n",
      " - 29s - loss: 0.4937 - acc: 0.7720 - val_loss: 0.3764 - val_acc: 0.8150\n",
      "Epoch 5/30\n",
      " - 29s - loss: 0.4654 - acc: 0.7685 - val_loss: 0.3497 - val_acc: 0.8330\n",
      "Epoch 6/30\n",
      " - 29s - loss: 0.4406 - acc: 0.7910 - val_loss: 0.3160 - val_acc: 0.8840\n",
      "Epoch 7/30\n",
      " - 29s - loss: 0.4283 - acc: 0.7995 - val_loss: 0.3095 - val_acc: 0.8680\n",
      "Epoch 8/30\n",
      " - 29s - loss: 0.4245 - acc: 0.8085 - val_loss: 0.2948 - val_acc: 0.8860\n",
      "Epoch 9/30\n",
      " - 29s - loss: 0.4003 - acc: 0.8165 - val_loss: 0.2871 - val_acc: 0.8870\n",
      "Epoch 10/30\n",
      " - 29s - loss: 0.4012 - acc: 0.8090 - val_loss: 0.2813 - val_acc: 0.8940\n",
      "Epoch 11/30\n",
      " - 28s - loss: 0.3804 - acc: 0.8345 - val_loss: 0.2827 - val_acc: 0.8820\n",
      "Epoch 12/30\n",
      " - 28s - loss: 0.3752 - acc: 0.8365 - val_loss: 0.2880 - val_acc: 0.8790\n",
      "Epoch 13/30\n",
      " - 29s - loss: 0.3873 - acc: 0.8225 - val_loss: 0.2722 - val_acc: 0.8880\n",
      "Epoch 14/30\n",
      " - 28s - loss: 0.3731 - acc: 0.8365 - val_loss: 0.2701 - val_acc: 0.8900\n",
      "Epoch 15/30\n",
      " - 28s - loss: 0.3912 - acc: 0.8200 - val_loss: 0.2684 - val_acc: 0.8890\n",
      "Epoch 16/30\n",
      " - 29s - loss: 0.3657 - acc: 0.8395 - val_loss: 0.2641 - val_acc: 0.8920\n",
      "Epoch 17/30\n",
      " - 29s - loss: 0.3711 - acc: 0.8340 - val_loss: 0.2617 - val_acc: 0.8930\n",
      "Epoch 18/30\n",
      " - 29s - loss: 0.3645 - acc: 0.8355 - val_loss: 0.2688 - val_acc: 0.8900\n",
      "Epoch 19/30\n",
      " - 29s - loss: 0.3659 - acc: 0.8405 - val_loss: 0.2599 - val_acc: 0.8970\n",
      "Epoch 20/30\n",
      " - 28s - loss: 0.3427 - acc: 0.8520 - val_loss: 0.2593 - val_acc: 0.8940\n",
      "Epoch 21/30\n",
      " - 28s - loss: 0.3621 - acc: 0.8295 - val_loss: 0.2549 - val_acc: 0.8960\n",
      "Epoch 22/30\n",
      " - 29s - loss: 0.3584 - acc: 0.8380 - val_loss: 0.2632 - val_acc: 0.8910\n",
      "Epoch 23/30\n",
      " - 29s - loss: 0.3701 - acc: 0.8250 - val_loss: 0.2508 - val_acc: 0.8960\n",
      "Epoch 24/30\n",
      " - 29s - loss: 0.3489 - acc: 0.8405 - val_loss: 0.2486 - val_acc: 0.9000\n",
      "Epoch 25/30\n",
      " - 29s - loss: 0.3551 - acc: 0.8455 - val_loss: 0.2686 - val_acc: 0.8890\n",
      "Epoch 26/30\n",
      " - 29s - loss: 0.3514 - acc: 0.8380 - val_loss: 0.2479 - val_acc: 0.9040\n",
      "Epoch 27/30\n",
      " - 29s - loss: 0.3376 - acc: 0.8450 - val_loss: 0.2475 - val_acc: 0.8990\n",
      "Epoch 28/30\n",
      " - 29s - loss: 0.3559 - acc: 0.8335 - val_loss: 0.2539 - val_acc: 0.8970\n",
      "Epoch 29/30\n",
      " - 29s - loss: 0.3492 - acc: 0.8415 - val_loss: 0.2470 - val_acc: 0.9010\n",
      "Epoch 30/30\n",
      " - 29s - loss: 0.3396 - acc: 0.8495 - val_loss: 0.2638 - val_acc: 0.8930\n"
     ]
    }
   ],
   "source": [
    "model_history = model.fit_generator(train_generator,\n",
    "                                    steps_per_epoch=100,\n",
    "                                    epochs=30,\n",
    "                                    validation_data=validation_generator,\n",
    "                                    validation_steps=50,\n",
    "                                    verbose=2)"
   ]
  },
  {
   "cell_type": "code",
   "execution_count": 0,
   "metadata": {
    "colab": {},
    "colab_type": "code",
    "id": "5ZjCGIJsDO28"
   },
   "outputs": [],
   "source": [
    "model.save('small-cats-vs-dogs-vgg16-extended.h5')"
   ]
  },
  {
   "cell_type": "markdown",
   "metadata": {
    "colab_type": "text",
    "id": "cDRtGy3GDY3g"
   },
   "source": [
    "## Plot Train and Validation loss and accuracy"
   ]
  },
  {
   "cell_type": "code",
   "execution_count": 0,
   "metadata": {
    "colab": {},
    "colab_type": "code",
    "id": "29lw9GS7Dl1-"
   },
   "outputs": [],
   "source": [
    "train_acc = model_history.history['acc']\n",
    "val_acc = model_history.history['val_acc']\n",
    "train_loss = model_history.history['loss']\n",
    "val_loss = model_history.history['val_loss']"
   ]
  },
  {
   "cell_type": "code",
   "execution_count": 33,
   "metadata": {
    "colab": {
     "base_uri": "https://localhost:8080/",
     "height": 393
    },
    "colab_type": "code",
    "id": "P0y_FVYaD6Zh",
    "outputId": "44db0ef8-e0f7-46d7-989a-ee4d143f72cd"
   },
   "outputs": [
    {
     "data": {
      "text/plain": [
       "<matplotlib.legend.Legend at 0x7f71c6f94630>"
      ]
     },
     "execution_count": 33,
     "metadata": {
      "tags": []
     },
     "output_type": "execute_result"
    },
    {
     "data": {
      "image/png": "[encoded data removed]",
      "text/plain": [
       "<matplotlib.figure.Figure at 0x7f71b572aa90>"
      ]
     },
     "metadata": {
      "tags": []
     },
     "output_type": "display_data"
    }
   ],
   "source": [
    "epochs = range(len(train_acc))\n",
    "plt.plot(epochs, train_acc, 'r', label='Training accuracy')\n",
    "plt.plot(epochs, val_acc, 'b', label='Validation accuracy')\n",
    "plt.title('Training and Validation Accuracy')\n",
    "plt.xlabel('Epoch')\n",
    "plt.ylabel('Accuracy')\n",
    "plt.legend()"
   ]
  },
  {
   "cell_type": "code",
   "execution_count": 34,
   "metadata": {
    "colab": {
     "base_uri": "https://localhost:8080/",
     "height": 393
    },
    "colab_type": "code",
    "id": "ncqLLVwYEgUg",
    "outputId": "69fc1bab-e49c-4179-f40d-53a73d6b1d64"
   },
   "outputs": [
    {
     "data": {
      "text/plain": [
       "<matplotlib.legend.Legend at 0x7f71cd3128d0>"
      ]
     },
     "execution_count": 34,
     "metadata": {
      "tags": []
     },
     "output_type": "execute_result"
    },
    {
     "data": {
      "image/png": "[encoded data removed]",
      "text/plain": [
       "<matplotlib.figure.Figure at 0x7f71b5715b70>"
      ]
     },
     "metadata": {
      "tags": []
     },
     "output_type": "display_data"
    }
   ],
   "source": [
    "plt.plot(epochs, train_loss, 'r', label='Training Loss')\n",
    "plt.plot(epochs, val_loss, 'b', label='Validation Loss')\n",
    "plt.title('Training and Validation Loss')\n",
    "plt.xlabel('Epoch')\n",
    "plt.ylabel('Loss')\n",
    "plt.legend()"
   ]
  },
  {
   "cell_type": "markdown",
   "metadata": {
    "colab_type": "text",
    "id": "6xAB1hVeUq-Q"
   },
   "source": [
    "## Fine-tune the top layers of conv_base to improve accuracy"
   ]
  },
  {
   "cell_type": "code",
   "execution_count": 35,
   "metadata": {
    "colab": {
     "base_uri": "https://localhost:8080/",
     "height": 782
    },
    "colab_type": "code",
    "id": "T08iHyT8ezhH",
    "outputId": "1ad1809f-96e2-4181-decf-7f2e0e8d3f7a"
   },
   "outputs": [
    {
     "name": "stdout",
     "output_type": "stream",
     "text": [
      "_________________________________________________________________\n",
      "Layer (type)                 Output Shape              Param #   \n",
      "=================================================================\n",
      "input_1 (InputLayer)         (None, 150, 150, 3)       0         \n",
      "_________________________________________________________________\n",
      "block1_conv1 (Conv2D)        (None, 150, 150, 64)      1792      \n",
      "_________________________________________________________________\n",
      "block1_conv2 (Conv2D)        (None, 150, 150, 64)      36928     \n",
      "_________________________________________________________________\n",
      "block1_pool (MaxPooling2D)   (None, 75, 75, 64)        0         \n",
      "_________________________________________________________________\n",
      "block2_conv1 (Conv2D)        (None, 75, 75, 128)       73856     \n",
      "_________________________________________________________________\n",
      "block2_conv2 (Conv2D)        (None, 75, 75, 128)       147584    \n",
      "_________________________________________________________________\n",
      "block2_pool (MaxPooling2D)   (None, 37, 37, 128)       0         \n",
      "_________________________________________________________________\n",
      "block3_conv1 (Conv2D)        (None, 37, 37, 256)       295168    \n",
      "_________________________________________________________________\n",
      "block3_conv2 (Conv2D)        (None, 37, 37, 256)       590080    \n",
      "_________________________________________________________________\n",
      "block3_conv3 (Conv2D)        (None, 37, 37, 256)       590080    \n",
      "_________________________________________________________________\n",
      "block3_pool (MaxPooling2D)   (None, 18, 18, 256)       0         \n",
      "_________________________________________________________________\n",
      "block4_conv1 (Conv2D)        (None, 18, 18, 512)       1180160   \n",
      "_________________________________________________________________\n",
      "block4_conv2 (Conv2D)        (None, 18, 18, 512)       2359808   \n",
      "_________________________________________________________________\n",
      "block4_conv3 (Conv2D)        (None, 18, 18, 512)       2359808   \n",
      "_________________________________________________________________\n",
      "block4_pool (MaxPooling2D)   (None, 9, 9, 512)         0         \n",
      "_________________________________________________________________\n",
      "block5_conv1 (Conv2D)        (None, 9, 9, 512)         2359808   \n",
      "_________________________________________________________________\n",
      "block5_conv2 (Conv2D)        (None, 9, 9, 512)         2359808   \n",
      "_________________________________________________________________\n",
      "block5_conv3 (Conv2D)        (None, 9, 9, 512)         2359808   \n",
      "_________________________________________________________________\n",
      "block5_pool (MaxPooling2D)   (None, 4, 4, 512)         0         \n",
      "=================================================================\n",
      "Total params: 14,714,688\n",
      "Trainable params: 0\n",
      "Non-trainable params: 14,714,688\n",
      "_________________________________________________________________\n"
     ]
    }
   ],
   "source": [
    "conv_base.summary()"
   ]
  },
  {
   "cell_type": "code",
   "execution_count": 0,
   "metadata": {
    "colab": {},
    "colab_type": "code",
    "id": "UMjdEVUme1sW"
   },
   "outputs": [],
   "source": [
    "conv_base.trainable = True"
   ]
  },
  {
   "cell_type": "code",
   "execution_count": 0,
   "metadata": {
    "colab": {},
    "colab_type": "code",
    "id": "pJCoOKVIfD1r"
   },
   "outputs": [],
   "source": [
    "set_trainable = False"
   ]
  },
  {
   "cell_type": "code",
   "execution_count": 0,
   "metadata": {
    "colab": {},
    "colab_type": "code",
    "id": "kIuj5kIxfGzb"
   },
   "outputs": [],
   "source": [
    "for layer in conv_base.layers:\n",
    "  if layer.name == 'block5_conv1':\n",
    "    set_trainable = True\n",
    "  if set_trainable:\n",
    "    layer.trainable = True\n",
    "  else:\n",
    "    layer.trainable = False"
   ]
  },
  {
   "cell_type": "code",
   "execution_count": 0,
   "metadata": {
    "colab": {},
    "colab_type": "code",
    "id": "t6B0XIEyf0vN"
   },
   "outputs": [],
   "source": [
    "model.compile(loss='binary_crossentropy',\n",
    "              optimizer=optimizers.RMSprop(lr=1e-5),\n",
    "              metrics=['acc'])"
   ]
  },
  {
   "cell_type": "code",
   "execution_count": 40,
   "metadata": {
    "colab": {
     "base_uri": "https://localhost:8080/",
     "height": 1037
    },
    "colab_type": "code",
    "id": "CDfg5x9If43S",
    "outputId": "c2f6c650-6e03-46be-99d2-a34f71bc6232"
   },
   "outputs": [
    {
     "name": "stdout",
     "output_type": "stream",
     "text": [
      "Epoch 1/30\n",
      " - 31s - loss: 0.3452 - acc: 0.8450 - val_loss: 0.2462 - val_acc: 0.9040\n",
      "Epoch 2/30\n",
      " - 30s - loss: 0.3165 - acc: 0.8600 - val_loss: 0.2082 - val_acc: 0.9200\n",
      "Epoch 3/30\n",
      " - 29s - loss: 0.2854 - acc: 0.8800 - val_loss: 0.2258 - val_acc: 0.9150\n",
      "Epoch 4/30\n",
      " - 29s - loss: 0.2578 - acc: 0.8960 - val_loss: 0.2081 - val_acc: 0.9170\n",
      "Epoch 5/30\n",
      " - 30s - loss: 0.2391 - acc: 0.9010 - val_loss: 0.1918 - val_acc: 0.9240\n",
      "Epoch 6/30\n",
      " - 29s - loss: 0.2183 - acc: 0.9135 - val_loss: 0.2074 - val_acc: 0.9120\n",
      "Epoch 7/30\n",
      " - 29s - loss: 0.2139 - acc: 0.9090 - val_loss: 0.2046 - val_acc: 0.9210\n",
      "Epoch 8/30\n",
      " - 29s - loss: 0.2089 - acc: 0.9125 - val_loss: 0.1924 - val_acc: 0.9260\n",
      "Epoch 9/30\n",
      " - 29s - loss: 0.2024 - acc: 0.9125 - val_loss: 0.1938 - val_acc: 0.9260\n",
      "Epoch 10/30\n",
      " - 29s - loss: 0.1735 - acc: 0.9265 - val_loss: 0.2086 - val_acc: 0.9250\n",
      "Epoch 11/30\n",
      " - 29s - loss: 0.1857 - acc: 0.9210 - val_loss: 0.1844 - val_acc: 0.9320\n",
      "Epoch 12/30\n",
      " - 30s - loss: 0.1806 - acc: 0.9320 - val_loss: 0.1919 - val_acc: 0.9320\n",
      "Epoch 13/30\n",
      " - 29s - loss: 0.1875 - acc: 0.9225 - val_loss: 0.2038 - val_acc: 0.9190\n",
      "Epoch 14/30\n",
      " - 29s - loss: 0.1599 - acc: 0.9355 - val_loss: 0.1969 - val_acc: 0.9360\n",
      "Epoch 15/30\n",
      " - 29s - loss: 0.1710 - acc: 0.9300 - val_loss: 0.1744 - val_acc: 0.9320\n",
      "Epoch 16/30\n",
      " - 29s - loss: 0.1484 - acc: 0.9425 - val_loss: 0.3290 - val_acc: 0.8990\n",
      "Epoch 17/30\n",
      " - 29s - loss: 0.1431 - acc: 0.9430 - val_loss: 0.1840 - val_acc: 0.9370\n",
      "Epoch 18/30\n",
      " - 29s - loss: 0.1258 - acc: 0.9475 - val_loss: 0.2168 - val_acc: 0.9350\n",
      "Epoch 19/30\n",
      " - 29s - loss: 0.1252 - acc: 0.9480 - val_loss: 0.2031 - val_acc: 0.9310\n",
      "Epoch 20/30\n",
      " - 29s - loss: 0.1225 - acc: 0.9515 - val_loss: 0.2000 - val_acc: 0.9340\n",
      "Epoch 21/30\n",
      " - 29s - loss: 0.1238 - acc: 0.9530 - val_loss: 0.1800 - val_acc: 0.9360\n",
      "Epoch 22/30\n",
      " - 29s - loss: 0.1236 - acc: 0.9500 - val_loss: 0.1873 - val_acc: 0.9350\n",
      "Epoch 23/30\n",
      " - 30s - loss: 0.1099 - acc: 0.9545 - val_loss: 0.1800 - val_acc: 0.9390\n",
      "Epoch 24/30\n",
      " - 30s - loss: 0.1272 - acc: 0.9495 - val_loss: 0.1895 - val_acc: 0.9350\n",
      "Epoch 25/30\n",
      " - 30s - loss: 0.1212 - acc: 0.9445 - val_loss: 0.1919 - val_acc: 0.9380\n",
      "Epoch 26/30\n",
      " - 30s - loss: 0.1048 - acc: 0.9610 - val_loss: 0.1897 - val_acc: 0.9360\n",
      "Epoch 27/30\n",
      " - 30s - loss: 0.0967 - acc: 0.9655 - val_loss: 0.1901 - val_acc: 0.9380\n",
      "Epoch 28/30\n",
      " - 30s - loss: 0.0906 - acc: 0.9680 - val_loss: 0.2019 - val_acc: 0.9390\n",
      "Epoch 29/30\n",
      " - 30s - loss: 0.1020 - acc: 0.9565 - val_loss: 0.2456 - val_acc: 0.9330\n",
      "Epoch 30/30\n",
      " - 30s - loss: 0.1006 - acc: 0.9620 - val_loss: 0.1854 - val_acc: 0.9360\n"
     ]
    }
   ],
   "source": [
    "model_history = model.fit_generator(train_generator,\n",
    "                                    steps_per_epoch=100,\n",
    "                                    epochs=30,\n",
    "                                    validation_data=validation_generator,\n",
    "                                    validation_steps=50,\n",
    "                                    verbose=2)"
   ]
  },
  {
   "cell_type": "code",
   "execution_count": 0,
   "metadata": {
    "colab": {},
    "colab_type": "code",
    "id": "lgYO71MagOoF"
   },
   "outputs": [],
   "source": [
    "model.save('small-cats-vs-dogs-vgg16-extended-fine-tuned.h5')"
   ]
  },
  {
   "cell_type": "code",
   "execution_count": 0,
   "metadata": {
    "colab": {},
    "colab_type": "code",
    "id": "h8hkDZYKgcjA"
   },
   "outputs": [],
   "source": [
    "train_acc = model_history.history['acc']\n",
    "val_acc = model_history.history['val_acc']\n",
    "train_loss = model_history.history['loss']\n",
    "val_loss = model_history.history['val_loss']"
   ]
  },
  {
   "cell_type": "code",
   "execution_count": 43,
   "metadata": {
    "colab": {
     "base_uri": "https://localhost:8080/",
     "height": 393
    },
    "colab_type": "code",
    "id": "qXuGgk-IgvZC",
    "outputId": "b3de3a7b-d04f-4e59-fdf5-6384eeb51d19"
   },
   "outputs": [
    {
     "data": {
      "text/plain": [
       "<matplotlib.legend.Legend at 0x7f71b57687b8>"
      ]
     },
     "execution_count": 43,
     "metadata": {
      "tags": []
     },
     "output_type": "execute_result"
    },
    {
     "data": {
      "image/png": "[encoded data removed]",
      "text/plain": [
       "<matplotlib.figure.Figure at 0x7f71cd362e80>"
      ]
     },
     "metadata": {
      "tags": []
     },
     "output_type": "display_data"
    }
   ],
   "source": [
    "epochs = range(len(train_acc))\n",
    "plt.plot(epochs, train_acc, 'r', label='Training accuracy')\n",
    "plt.plot(epochs, val_acc, 'b', label='Validation accuracy')\n",
    "plt.title('Training and Validation Accuracy')\n",
    "plt.xlabel('Epoch')\n",
    "plt.ylabel('Accuracy')\n",
    "plt.legend()"
   ]
  },
  {
   "cell_type": "code",
   "execution_count": 44,
   "metadata": {
    "colab": {
     "base_uri": "https://localhost:8080/",
     "height": 393
    },
    "colab_type": "code",
    "id": "VEBQqT7Tg27c",
    "outputId": "f12e919b-4e3f-400b-89fc-3785e50e5645"
   },
   "outputs": [
    {
     "data": {
      "text/plain": [
       "<matplotlib.legend.Legend at 0x7f71c6fc82b0>"
      ]
     },
     "execution_count": 44,
     "metadata": {
      "tags": []
     },
     "output_type": "execute_result"
    },
    {
     "data": {
      "image/png": "[encoded data removed]",
      "text/plain": [
       "<matplotlib.figure.Figure at 0x7f71cd240128>"
      ]
     },
     "metadata": {
      "tags": []
     },
     "output_type": "display_data"
    }
   ],
   "source": [
    "plt.plot(epochs, train_loss, 'r', label='Training Loss')\n",
    "plt.plot(epochs, val_loss, 'b', label='Validation Loss')\n",
    "plt.title('Training and Validation Loss')\n",
    "plt.xlabel('Epoch')\n",
    "plt.ylabel('Loss')\n",
    "plt.legend()"
   ]
  },
  {
   "cell_type": "markdown",
   "metadata": {
    "colab_type": "text",
    "id": "42RXFpGfg6fQ"
   },
   "source": [
    "## Evaluating the model"
   ]
  },
  {
   "cell_type": "code",
   "execution_count": 45,
   "metadata": {
    "colab": {
     "base_uri": "https://localhost:8080/",
     "height": 34
    },
    "colab_type": "code",
    "id": "Oj7fI2smg9Qc",
    "outputId": "8c9710af-9b97-4601-8cbc-e6c73c710bb0"
   },
   "outputs": [
    {
     "name": "stdout",
     "output_type": "stream",
     "text": [
      "Found 1000 images belonging to 2 classes.\n"
     ]
    }
   ],
   "source": [
    "test_generator = val_data_gen.flow_from_directory(\n",
    "        test_dir,\n",
    "        target_size=(150, 150),\n",
    "        batch_size=20,\n",
    "        class_mode='binary')"
   ]
  },
  {
   "cell_type": "code",
   "execution_count": 0,
   "metadata": {
    "colab": {},
    "colab_type": "code",
    "id": "52CVFxD1hX7j"
   },
   "outputs": [],
   "source": [
    "test_loss, test_acc = model.evaluate_generator(test_generator, steps=50)"
   ]
  },
  {
   "cell_type": "code",
   "execution_count": 47,
   "metadata": {
    "colab": {
     "base_uri": "https://localhost:8080/",
     "height": 34
    },
    "colab_type": "code",
    "id": "haND49cDhj3Y",
    "outputId": "9042c07f-3053-4b23-bf0e-97caef41632a"
   },
   "outputs": [
    {
     "data": {
      "text/plain": [
       "(0.20906543563585728, 0.9429999911785125)"
      ]
     },
     "execution_count": 47,
     "metadata": {
      "tags": []
     },
     "output_type": "execute_result"
    }
   ],
   "source": [
    "test_loss, test_acc"
   ]
  },
  {
   "cell_type": "code",
   "execution_count": 0,
   "metadata": {
    "colab": {},
    "colab_type": "code",
    "id": "48LTGAFZjzVN"
   },
   "outputs": [],
   "source": []
  }
 ],
 "metadata": {
  "accelerator": "GPU",
  "colab": {
   "collapsed_sections": [],
   "include_colab_link": true,
   "name": "classification-cats-vs-dogs-by-extending-pretrained-model",
   "provenance": [],
   "toc_visible": true,
   "version": "0.3.2"
  },
  "kernelspec": {
   "display_name": "Python 3",
   "language": "python",
   "name": "python3"
  },
  "language_info": {
   "codemirror_mode": {
    "name": "ipython",
    "version": 3
   },
   "file_extension": ".py",
   "mimetype": "text/x-python",
   "name": "python",
   "nbconvert_exporter": "python",
   "pygments_lexer": "ipython3",
   "version": "3.6.4"
  }
 },
 "nbformat": 4,
 "nbformat_minor": 1
}

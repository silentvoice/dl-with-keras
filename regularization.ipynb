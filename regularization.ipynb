{
 "cells": [
  {
   "cell_type": "markdown",
   "metadata": {
    "colab_type": "text",
    "id": "view-in-github"
   },
   "source": [
    "[View in Colaboratory](https://colab.research.google.com/github/silentvoice/dl-with-keras/blob/master/regularization.ipynb)"
   ]
  },
  {
   "cell_type": "markdown",
   "metadata": {
    "colab_type": "text",
    "id": "rCxHTcOHpnjj"
   },
   "source": [
    "# Regularisation\n"
   ]
  },
  {
   "cell_type": "markdown",
   "metadata": {
    "colab_type": "text",
    "id": "2UlCGg0IpzTW"
   },
   "source": [
    "## Check Tensorflow Version"
   ]
  },
  {
   "cell_type": "code",
   "execution_count": 0,
   "metadata": {
    "colab": {},
    "colab_type": "code",
    "id": "GN9C5Hh3pXS0"
   },
   "outputs": [],
   "source": [
    "import tensorflow as tf"
   ]
  },
  {
   "cell_type": "code",
   "execution_count": 2,
   "metadata": {
    "colab": {
     "base_uri": "https://localhost:8080/",
     "height": 34
    },
    "colab_type": "code",
    "id": "hz8_FKF1nBZM",
    "outputId": "0002f0d6-752e-42ab-acce-404a4e827f85"
   },
   "outputs": [
    {
     "data": {
      "text/plain": [
       "'/device:GPU:0'"
      ]
     },
     "execution_count": 2,
     "metadata": {
      "tags": []
     },
     "output_type": "execute_result"
    }
   ],
   "source": [
    "tf.test.gpu_device_name()"
   ]
  },
  {
   "cell_type": "code",
   "execution_count": 3,
   "metadata": {
    "colab": {
     "base_uri": "https://localhost:8080/",
     "height": 34
    },
    "colab_type": "code",
    "id": "NBO8e2kHoFSI",
    "outputId": "05d4aa94-17f1-4b78-bc9c-c0cfffc1fff2"
   },
   "outputs": [
    {
     "data": {
      "text/plain": [
       "'1.9.0-rc2'"
      ]
     },
     "execution_count": 3,
     "metadata": {
      "tags": []
     },
     "output_type": "execute_result"
    }
   ],
   "source": [
    "tf.__version__"
   ]
  },
  {
   "cell_type": "markdown",
   "metadata": {
    "colab_type": "text",
    "id": "JFlI4hFYpNBo"
   },
   "source": [
    "## Imports"
   ]
  },
  {
   "cell_type": "code",
   "execution_count": 0,
   "metadata": {
    "colab": {},
    "colab_type": "code",
    "id": "QEIfV4L5qMZP"
   },
   "outputs": [],
   "source": [
    "from tensorflow import keras\n",
    "from tensorflow.python.keras.datasets import imdb\n",
    "import numpy as np\n",
    "import matplotlib.pyplot as plt\n",
    "from tensorflow.python.keras import layers, models, regularizers"
   ]
  },
  {
   "cell_type": "markdown",
   "metadata": {
    "colab_type": "text",
    "id": "FX1hYnllqQDI"
   },
   "source": [
    "## Load Imdb dataset"
   ]
  },
  {
   "cell_type": "code",
   "execution_count": 0,
   "metadata": {
    "colab": {},
    "colab_type": "code",
    "id": "FWLu6M9bqxcx"
   },
   "outputs": [],
   "source": [
    "# Use top 10000 frequently used words from the dataset only, discard the rest\n",
    "(train_data, train_labels), (test_data, test_labels) = imdb.load_data(num_words=10000)"
   ]
  },
  {
   "cell_type": "code",
   "execution_count": 6,
   "metadata": {
    "colab": {
     "base_uri": "https://localhost:8080/",
     "height": 34
    },
    "colab_type": "code",
    "id": "y0Cox0a0rxf2",
    "outputId": "af8a4588-ba81-41a8-d1c6-597d65f4ba09"
   },
   "outputs": [
    {
     "data": {
      "text/plain": [
       "(25000,)"
      ]
     },
     "execution_count": 6,
     "metadata": {
      "tags": []
     },
     "output_type": "execute_result"
    }
   ],
   "source": [
    "train_data.shape"
   ]
  },
  {
   "cell_type": "code",
   "execution_count": 8,
   "metadata": {
    "colab": {
     "base_uri": "https://localhost:8080/",
     "height": 34
    },
    "colab_type": "code",
    "id": "2qZgCLo_sK52",
    "outputId": "31458e32-a037-490b-e625-6d0d103a4d16"
   },
   "outputs": [
    {
     "data": {
      "text/plain": [
       "(25000,)"
      ]
     },
     "execution_count": 8,
     "metadata": {
      "tags": []
     },
     "output_type": "execute_result"
    }
   ],
   "source": [
    "train_labels.shape"
   ]
  },
  {
   "cell_type": "code",
   "execution_count": 0,
   "metadata": {
    "colab": {},
    "colab_type": "code",
    "id": "V3GI1g8MsTni"
   },
   "outputs": [],
   "source": [
    "wrdtoidx = imdb.get_word_index()"
   ]
  },
  {
   "cell_type": "code",
   "execution_count": 0,
   "metadata": {
    "colab": {},
    "colab_type": "code",
    "id": "a6ODsojRyLh0"
   },
   "outputs": [],
   "source": [
    "idxtowrd = dict([(value, key) for (key, value) in wrdtoidx.items()])"
   ]
  },
  {
   "cell_type": "code",
   "execution_count": 0,
   "metadata": {
    "colab": {},
    "colab_type": "code",
    "id": "Q-eBueQ9yawR"
   },
   "outputs": [],
   "source": [
    "sample_review = ' '.join([idxtowrd.get(idx) for idx in train_data[0]])"
   ]
  },
  {
   "cell_type": "code",
   "execution_count": 13,
   "metadata": {
    "colab": {
     "base_uri": "https://localhost:8080/",
     "height": 54
    },
    "colab_type": "code",
    "id": "9FkllOIM0PE-",
    "outputId": "1f3139a0-64ea-45ba-b96f-2050af8bcc64"
   },
   "outputs": [
    {
     "data": {
      "text/plain": [
       "\"the as you with out themselves powerful lets loves their becomes reaching had journalist of lot from anyone to have after out atmosphere never more room and it so heart shows to years of every never going and help moments or of every chest visual movie except her was several of enough more with is now current film as you of mine potentially unfortunately of you than him that with out themselves her get for was camp of you movie sometimes movie that with scary but and to story wonderful that in seeing in character to of 70s musicians with heart had shadows they of here that with her serious to have does when from why what have critics they is you that isn't one will very to as itself with other and in of seen over landed for anyone of and br show's to whether from than out themselves history he name half some br of and odd was two most of mean for 1 any an boat she he should is thought frog but of script you not while history he heart to real at barrel but when from one bit then have two of script their with her nobody most that with wasn't to with armed acting watch an for with heartfelt film want an\""
      ]
     },
     "execution_count": 13,
     "metadata": {
      "tags": []
     },
     "output_type": "execute_result"
    }
   ],
   "source": [
    "sample_review"
   ]
  },
  {
   "cell_type": "markdown",
   "metadata": {
    "colab_type": "text",
    "id": "JI26BqkP0Qwg"
   },
   "source": [
    "## Data Preparation"
   ]
  },
  {
   "cell_type": "code",
   "execution_count": 0,
   "metadata": {
    "colab": {},
    "colab_type": "code",
    "id": "fxN_Lngl1fqz"
   },
   "outputs": [],
   "source": [
    "def one_hot_encode(samples, no_features):\n",
    "  output_tensor = np.zeros((len(samples), no_features))\n",
    "  for idx, sample in enumerate(samples):\n",
    "    output_tensor[idx, sample] = 1\n",
    "  return output_tensor"
   ]
  },
  {
   "cell_type": "code",
   "execution_count": 0,
   "metadata": {
    "colab": {},
    "colab_type": "code",
    "id": "83Icrv904CPo"
   },
   "outputs": [],
   "source": [
    "x_train = one_hot_encode(train_data, 10000)\n",
    "x_test = one_hot_encode(test_data, 10000)"
   ]
  },
  {
   "cell_type": "code",
   "execution_count": 16,
   "metadata": {
    "colab": {
     "base_uri": "https://localhost:8080/",
     "height": 34
    },
    "colab_type": "code",
    "id": "bc8rr4ot4SnU",
    "outputId": "6841bf1a-484d-4bfd-faeb-9a0d59ed10e8"
   },
   "outputs": [
    {
     "data": {
      "text/plain": [
       "array([0., 1., 1., ..., 0., 0., 0.])"
      ]
     },
     "execution_count": 16,
     "metadata": {
      "tags": []
     },
     "output_type": "execute_result"
    }
   ],
   "source": [
    "x_train[0]"
   ]
  },
  {
   "cell_type": "code",
   "execution_count": 0,
   "metadata": {
    "colab": {},
    "colab_type": "code",
    "id": "uSHAySCO4rEx"
   },
   "outputs": [],
   "source": [
    "y_train = np.asarray(train_labels).astype('float32')\n",
    "y_test = np.asarray(test_labels).astype('float32')"
   ]
  },
  {
   "cell_type": "markdown",
   "metadata": {
    "colab_type": "text",
    "id": "8yH3NVPi5XWZ"
   },
   "source": [
    "## Compare models with different number of hidden units"
   ]
  },
  {
   "cell_type": "code",
   "execution_count": 0,
   "metadata": {
    "colab": {},
    "colab_type": "code",
    "id": "4jayeWfl6GqK"
   },
   "outputs": [],
   "source": [
    "org_model = models.Sequential()\n",
    "org_model.add(layers.Dense(16, activation= 'relu',input_shape = (10000,)))\n",
    "org_model.add(layers.Dense(16, activation= 'relu'))\n",
    "org_model.add(layers.Dense(1, activation= 'sigmoid'))\n",
    "org_model.compile(optimizer='rmsprop',\n",
    "              loss='binary_crossentropy', \n",
    "              metrics=['accuracy'])"
   ]
  },
  {
   "cell_type": "code",
   "execution_count": 0,
   "metadata": {
    "colab": {},
    "colab_type": "code",
    "id": "6yPmN2Bdg7fc"
   },
   "outputs": [],
   "source": [
    "small_model = models.Sequential()\n",
    "small_model.add(layers.Dense(4, activation= 'relu',input_shape = (10000,)))\n",
    "small_model.add(layers.Dense(4, activation= 'relu'))\n",
    "small_model.add(layers.Dense(1, activation= 'sigmoid'))\n",
    "small_model.compile(optimizer='rmsprop',\n",
    "              loss='binary_crossentropy', \n",
    "              metrics=['accuracy'])"
   ]
  },
  {
   "cell_type": "code",
   "execution_count": 0,
   "metadata": {
    "colab": {},
    "colab_type": "code",
    "id": "fXfHDe6UjOPI"
   },
   "outputs": [],
   "source": [
    "big_model = models.Sequential()\n",
    "big_model.add(layers.Dense(512, activation= 'relu',input_shape = (10000,)))\n",
    "big_model.add(layers.Dense(512, activation= 'relu'))\n",
    "big_model.add(layers.Dense(1, activation= 'sigmoid'))\n",
    "big_model.compile(optimizer='rmsprop',\n",
    "              loss='binary_crossentropy', \n",
    "              metrics=['accuracy'])"
   ]
  },
  {
   "cell_type": "code",
   "execution_count": 21,
   "metadata": {
    "colab": {
     "base_uri": "https://localhost:8080/",
     "height": 734
    },
    "colab_type": "code",
    "id": "7KPVuE8GhJEG",
    "outputId": "f3c0fc5a-2ba4-43f4-af1d-f227ccb86982"
   },
   "outputs": [
    {
     "name": "stdout",
     "output_type": "stream",
     "text": [
      "Train on 25000 samples, validate on 25000 samples\n",
      "Epoch 1/20\n",
      "25000/25000 [==============================] - 3s 111us/step - loss: 0.4502 - acc: 0.8193 - val_loss: 0.3628 - val_acc: 0.8577\n",
      "Epoch 2/20\n",
      "25000/25000 [==============================] - 2s 94us/step - loss: 0.2544 - acc: 0.9114 - val_loss: 0.3036 - val_acc: 0.8778\n",
      "Epoch 3/20\n",
      "25000/25000 [==============================] - 2s 91us/step - loss: 0.1982 - acc: 0.9296 - val_loss: 0.2861 - val_acc: 0.8860\n",
      "Epoch 4/20\n",
      "25000/25000 [==============================] - 2s 92us/step - loss: 0.1652 - acc: 0.9411 - val_loss: 0.3303 - val_acc: 0.8701\n",
      "Epoch 5/20\n",
      "25000/25000 [==============================] - 2s 92us/step - loss: 0.1420 - acc: 0.9505 - val_loss: 0.3341 - val_acc: 0.8727\n",
      "Epoch 6/20\n",
      "25000/25000 [==============================] - 2s 91us/step - loss: 0.1244 - acc: 0.9567 - val_loss: 0.3584 - val_acc: 0.8688\n",
      "Epoch 7/20\n",
      "25000/25000 [==============================] - 2s 92us/step - loss: 0.1076 - acc: 0.9639 - val_loss: 0.3642 - val_acc: 0.8718\n",
      "Epoch 8/20\n",
      " 2048/25000 [=>............................] - ETA: 1s - loss: 0.0730 - acc: 0.979525000/25000 [==============================] - 2s 91us/step - loss: 0.0955 - acc: 0.9676 - val_loss: 0.3922 - val_acc: 0.8677\n",
      "Epoch 9/20\n",
      "25000/25000 [==============================] - 2s 94us/step - loss: 0.0835 - acc: 0.9724 - val_loss: 0.4490 - val_acc: 0.8568\n",
      "Epoch 10/20\n",
      "25000/25000 [==============================] - 2s 94us/step - loss: 0.0718 - acc: 0.9774 - val_loss: 0.4464 - val_acc: 0.8643\n",
      "Epoch 11/20\n",
      "25000/25000 [==============================] - 2s 94us/step - loss: 0.0637 - acc: 0.9796 - val_loss: 0.5410 - val_acc: 0.8470\n",
      "Epoch 12/20\n",
      "25000/25000 [==============================] - 2s 92us/step - loss: 0.0530 - acc: 0.9840 - val_loss: 0.5221 - val_acc: 0.8600\n",
      "Epoch 13/20\n",
      "25000/25000 [==============================] - 2s 95us/step - loss: 0.0478 - acc: 0.9860 - val_loss: 0.5452 - val_acc: 0.8594\n",
      "Epoch 14/20\n",
      "25000/25000 [==============================] - 2s 93us/step - loss: 0.0388 - acc: 0.9889 - val_loss: 0.5785 - val_acc: 0.8558\n",
      "Epoch 15/20\n",
      "11776/25000 [=============>................] - ETA: 0s - loss: 0.0291 - acc: 0.993025000/25000 [==============================] - 2s 95us/step - loss: 0.0340 - acc: 0.9904 - val_loss: 0.6127 - val_acc: 0.8556\n",
      "Epoch 16/20\n",
      "25000/25000 [==============================] - 2s 93us/step - loss: 0.0277 - acc: 0.9926 - val_loss: 0.6452 - val_acc: 0.8536\n",
      "Epoch 17/20\n",
      "25000/25000 [==============================] - 2s 96us/step - loss: 0.0226 - acc: 0.9940 - val_loss: 0.6862 - val_acc: 0.8520\n",
      "Epoch 18/20\n",
      "25000/25000 [==============================] - 2s 99us/step - loss: 0.0186 - acc: 0.9954 - val_loss: 0.7751 - val_acc: 0.8480\n",
      "Epoch 19/20\n",
      "25000/25000 [==============================] - 2s 98us/step - loss: 0.0170 - acc: 0.9956 - val_loss: 0.7580 - val_acc: 0.8502\n",
      "Epoch 20/20\n",
      "25000/25000 [==============================] - 3s 102us/step - loss: 0.0119 - acc: 0.9980 - val_loss: 0.8876 - val_acc: 0.8454\n"
     ]
    }
   ],
   "source": [
    "org_model_history = org_model.fit(x_train, \n",
    "                              y_train,\n",
    "                              epochs=20,\n",
    "                              batch_size=512,\n",
    "                              validation_data=(x_test, y_test)\n",
    "                             )"
   ]
  },
  {
   "cell_type": "code",
   "execution_count": 25,
   "metadata": {
    "colab": {
     "base_uri": "https://localhost:8080/",
     "height": 734
    },
    "colab_type": "code",
    "id": "1VqaCTafh1Xm",
    "outputId": "6b751221-c156-4ecf-a8a7-c41e20ff2d62"
   },
   "outputs": [
    {
     "name": "stdout",
     "output_type": "stream",
     "text": [
      "Train on 25000 samples, validate on 25000 samples\n",
      "Epoch 1/20\n",
      "25000/25000 [==============================] - 2s 94us/step - loss: 0.0718 - acc: 0.9794 - val_loss: 0.4386 - val_acc: 0.8665\n",
      "Epoch 2/20\n",
      "25000/25000 [==============================] - 2s 93us/step - loss: 0.0676 - acc: 0.9812 - val_loss: 0.4531 - val_acc: 0.8657\n",
      "Epoch 3/20\n",
      "25000/25000 [==============================] - 2s 93us/step - loss: 0.0638 - acc: 0.9829 - val_loss: 0.4704 - val_acc: 0.8635\n",
      "Epoch 4/20\n",
      "25000/25000 [==============================] - 2s 92us/step - loss: 0.0603 - acc: 0.9839 - val_loss: 0.4876 - val_acc: 0.8624\n",
      "Epoch 5/20\n",
      "25000/25000 [==============================] - 2s 92us/step - loss: 0.0566 - acc: 0.9854 - val_loss: 0.5057 - val_acc: 0.8606\n",
      "Epoch 6/20\n",
      "25000/25000 [==============================] - 2s 93us/step - loss: 0.0532 - acc: 0.9861 - val_loss: 0.5257 - val_acc: 0.8592\n",
      "Epoch 7/20\n",
      "25000/25000 [==============================] - 2s 93us/step - loss: 0.0503 - acc: 0.9875 - val_loss: 0.5422 - val_acc: 0.8594\n",
      "Epoch 8/20\n",
      " 1536/25000 [>.............................] - ETA: 1s - loss: 0.0467 - acc: 0.987025000/25000 [==============================] - 2s 93us/step - loss: 0.0471 - acc: 0.9878 - val_loss: 0.5630 - val_acc: 0.8572\n",
      "Epoch 9/20\n",
      "25000/25000 [==============================] - 2s 93us/step - loss: 0.0443 - acc: 0.9894 - val_loss: 0.5851 - val_acc: 0.8552\n",
      "Epoch 10/20\n",
      "25000/25000 [==============================] - 2s 92us/step - loss: 0.0413 - acc: 0.9905 - val_loss: 0.6034 - val_acc: 0.8549\n",
      "Epoch 11/20\n",
      "25000/25000 [==============================] - 2s 95us/step - loss: 0.0386 - acc: 0.9913 - val_loss: 0.6240 - val_acc: 0.8531\n",
      "Epoch 12/20\n",
      "25000/25000 [==============================] - 2s 95us/step - loss: 0.0365 - acc: 0.9916 - val_loss: 0.6430 - val_acc: 0.8520\n",
      "Epoch 13/20\n",
      "25000/25000 [==============================] - 2s 91us/step - loss: 0.0336 - acc: 0.9927 - val_loss: 0.6666 - val_acc: 0.8505\n",
      "Epoch 14/20\n",
      "25000/25000 [==============================] - 2s 91us/step - loss: 0.0312 - acc: 0.9929 - val_loss: 0.6892 - val_acc: 0.8518\n",
      "Epoch 15/20\n",
      "12288/25000 [=============>................] - ETA: 0s - loss: 0.0279 - acc: 0.993925000/25000 [==============================] - 2s 94us/step - loss: 0.0292 - acc: 0.9933 - val_loss: 0.7057 - val_acc: 0.8510\n",
      "Epoch 16/20\n",
      "25000/25000 [==============================] - 3s 115us/step - loss: 0.0274 - acc: 0.9936 - val_loss: 0.7300 - val_acc: 0.8479\n",
      "Epoch 17/20\n",
      "25000/25000 [==============================] - 2s 99us/step - loss: 0.0247 - acc: 0.9950 - val_loss: 0.7476 - val_acc: 0.8478\n",
      "Epoch 18/20\n",
      "25000/25000 [==============================] - 3s 105us/step - loss: 0.0223 - acc: 0.9956 - val_loss: 0.7768 - val_acc: 0.8458\n",
      "Epoch 19/20\n",
      "25000/25000 [==============================] - 2s 99us/step - loss: 0.0207 - acc: 0.9953 - val_loss: 0.8017 - val_acc: 0.8458\n",
      "Epoch 20/20\n",
      "25000/25000 [==============================] - 3s 103us/step - loss: 0.0186 - acc: 0.9961 - val_loss: 0.8282 - val_acc: 0.8460\n"
     ]
    }
   ],
   "source": [
    "small_model_history = small_model.fit(x_train, \n",
    "                              y_train,\n",
    "                              epochs=20,\n",
    "                              batch_size=512,\n",
    "                              validation_data=(x_test, y_test)\n",
    "                             )"
   ]
  },
  {
   "cell_type": "code",
   "execution_count": 26,
   "metadata": {
    "colab": {
     "base_uri": "https://localhost:8080/",
     "height": 734
    },
    "colab_type": "code",
    "id": "yM_N_HdqjbW7",
    "outputId": "a128407b-8c21-406e-aa47-ced05ffa3886"
   },
   "outputs": [
    {
     "name": "stdout",
     "output_type": "stream",
     "text": [
      "Train on 25000 samples, validate on 25000 samples\n",
      "Epoch 1/20\n",
      "25000/25000 [==============================] - 4s 146us/step - loss: 0.4597 - acc: 0.7931 - val_loss: 0.2829 - val_acc: 0.8890\n",
      "Epoch 2/20\n",
      "25000/25000 [==============================] - 3s 129us/step - loss: 0.2180 - acc: 0.9130 - val_loss: 0.2994 - val_acc: 0.8796\n",
      "Epoch 3/20\n",
      "25000/25000 [==============================] - 3s 128us/step - loss: 0.1268 - acc: 0.9515 - val_loss: 0.4180 - val_acc: 0.8679\n",
      "Epoch 4/20\n",
      "25000/25000 [==============================] - 3s 123us/step - loss: 0.0710 - acc: 0.9778 - val_loss: 0.3616 - val_acc: 0.8819\n",
      "Epoch 5/20\n",
      "25000/25000 [==============================] - 3s 122us/step - loss: 0.0407 - acc: 0.9897 - val_loss: 0.4988 - val_acc: 0.8812\n",
      "Epoch 6/20\n",
      "25000/25000 [==============================] - 3s 120us/step - loss: 0.0023 - acc: 0.9997 - val_loss: 0.6753 - val_acc: 0.8806\n",
      "Epoch 7/20\n",
      "25000/25000 [==============================] - 3s 124us/step - loss: 0.0736 - acc: 0.9902 - val_loss: 0.6395 - val_acc: 0.8803\n",
      "Epoch 8/20\n",
      "25000/25000 [==============================] - 3s 123us/step - loss: 1.8831e-04 - acc: 1.0000 - val_loss: 0.7716 - val_acc: 0.8780\n",
      "Epoch 9/20\n",
      "25000/25000 [==============================] - 3s 124us/step - loss: 3.3792e-05 - acc: 1.0000 - val_loss: 0.8573 - val_acc: 0.8786\n",
      "Epoch 10/20\n",
      "25000/25000 [==============================] - 3s 120us/step - loss: 0.1062 - acc: 0.9906 - val_loss: 0.8313 - val_acc: 0.8794\n",
      "Epoch 11/20\n",
      "25000/25000 [==============================] - 3s 120us/step - loss: 9.3443e-06 - acc: 1.0000 - val_loss: 0.8585 - val_acc: 0.8788\n",
      "Epoch 12/20\n",
      "25000/25000 [==============================] - 3s 120us/step - loss: 3.8145e-06 - acc: 1.0000 - val_loss: 0.8937 - val_acc: 0.8785\n",
      "Epoch 13/20\n",
      "25000/25000 [==============================] - 3s 119us/step - loss: 1.6071e-06 - acc: 1.0000 - val_loss: 0.9498 - val_acc: 0.8779\n",
      "Epoch 14/20\n",
      "25000/25000 [==============================] - 3s 120us/step - loss: 0.1004 - acc: 0.9889 - val_loss: 0.8799 - val_acc: 0.8679\n",
      "Epoch 15/20\n",
      " 6656/25000 [======>.......................] - ETA: 1s - loss: 4.8204e-05 - acc: 1.000025000/25000 [==============================] - 3s 119us/step - loss: 1.2591e-04 - acc: 1.0000 - val_loss: 0.8917 - val_acc: 0.8730\n",
      "Epoch 16/20\n",
      "25000/25000 [==============================] - 3s 120us/step - loss: 0.0645 - acc: 0.9911 - val_loss: 0.9514 - val_acc: 0.8547\n",
      "Epoch 17/20\n",
      "25000/25000 [==============================] - 3s 119us/step - loss: 0.0279 - acc: 0.9940 - val_loss: 0.6797 - val_acc: 0.8769\n",
      "Epoch 18/20\n",
      "25000/25000 [==============================] - 3s 121us/step - loss: 1.0550e-04 - acc: 1.0000 - val_loss: 0.7635 - val_acc: 0.8784\n",
      "Epoch 19/20\n",
      "25000/25000 [==============================] - 3s 121us/step - loss: 1.3774e-05 - acc: 1.0000 - val_loss: 0.8511 - val_acc: 0.8798\n",
      "Epoch 20/20\n",
      "25000/25000 [==============================] - 3s 119us/step - loss: 1.7165e-06 - acc: 1.0000 - val_loss: 0.9285 - val_acc: 0.8798\n"
     ]
    }
   ],
   "source": [
    "big_model_history = big_model.fit(x_train, \n",
    "                              y_train,\n",
    "                              epochs=20,\n",
    "                              batch_size=512,\n",
    "                              validation_data=(x_test, y_test)\n",
    "                             )"
   ]
  },
  {
   "cell_type": "markdown",
   "metadata": {
    "colab_type": "text",
    "id": "wJII3mz0uVkD"
   },
   "source": [
    "## Plot the training and validation losses of the models"
   ]
  },
  {
   "cell_type": "code",
   "execution_count": 0,
   "metadata": {
    "colab": {},
    "colab_type": "code",
    "id": "rKeR-gfVu0mw"
   },
   "outputs": [],
   "source": [
    "\n",
    "org_model_val_loss = org_model_history.history['val_loss']\n",
    "small_model_val_loss = small_model_history.history['val_loss']\n",
    "big_model_val_loss = big_model_history.history['val_loss']"
   ]
  },
  {
   "cell_type": "code",
   "execution_count": 0,
   "metadata": {
    "colab": {},
    "colab_type": "code",
    "id": "erI8gt1Tl9uu"
   },
   "outputs": [],
   "source": [
    "org_model_train_loss = org_model_history.history['loss']\n",
    "small_model_train_loss = small_model_history.history['loss']\n",
    "big_model_train_loss = big_model_history.history['loss']"
   ]
  },
  {
   "cell_type": "code",
   "execution_count": 0,
   "metadata": {
    "colab": {},
    "colab_type": "code",
    "id": "TbFMBF9KvIIQ"
   },
   "outputs": [],
   "source": [
    "epochs = range(1, 20 + 1)"
   ]
  },
  {
   "cell_type": "code",
   "execution_count": 50,
   "metadata": {
    "colab": {
     "base_uri": "https://localhost:8080/",
     "height": 393
    },
    "colab_type": "code",
    "id": "2iTVxb6vviUb",
    "outputId": "2107adae-d78d-49dc-eb1f-0f9d8c12a4b7"
   },
   "outputs": [
    {
     "data": {
      "text/plain": [
       "<matplotlib.legend.Legend at 0x7f4347ea34e0>"
      ]
     },
     "execution_count": 50,
     "metadata": {
      "tags": []
     },
     "output_type": "execute_result"
    },
    {
     "data": {
      "image/png": "[encoded data removed]",
      "text/plain": [
       "<matplotlib.figure.Figure at 0x7f4347f0e240>"
      ]
     },
     "metadata": {
      "tags": []
     },
     "output_type": "display_data"
    }
   ],
   "source": [
    "plt.plot(epochs, org_model_val_loss, 'r', label='Org Model')\n",
    "plt.plot(epochs, small_model_val_loss, 'b', label='Small Model')\n",
    "plt.plot(epochs, big_model_val_loss, 'g', label='Big Model')\n",
    "plt.title('Model Losses')\n",
    "plt.xlabel('Epoch')\n",
    "plt.ylabel('Validation Loss')\n",
    "plt.legend()"
   ]
  },
  {
   "cell_type": "code",
   "execution_count": 49,
   "metadata": {
    "colab": {
     "base_uri": "https://localhost:8080/",
     "height": 393
    },
    "colab_type": "code",
    "id": "-LcoDUKBmTFu",
    "outputId": "6e740936-c3bf-4483-9c0a-8af2d6659001"
   },
   "outputs": [
    {
     "data": {
      "text/plain": [
       "<matplotlib.legend.Legend at 0x7f4347eb4390>"
      ]
     },
     "execution_count": 49,
     "metadata": {
      "tags": []
     },
     "output_type": "execute_result"
    },
    {
     "data": {
      "image/png": "[encoded data removed]",
      "text/plain": [
       "<matplotlib.figure.Figure at 0x7f4347f58470>"
      ]
     },
     "metadata": {
      "tags": []
     },
     "output_type": "display_data"
    }
   ],
   "source": [
    "plt.plot(epochs, org_model_train_loss, 'r', label='Org Model')\n",
    "plt.plot(epochs, small_model_train_loss, 'b', label='Small Model')\n",
    "plt.plot(epochs, big_model_train_loss, 'g', label='Big Model')\n",
    "plt.title('Model Losses')\n",
    "plt.xlabel('Epoch')\n",
    "plt.ylabel('Training Loss')\n",
    "plt.legend()"
   ]
  },
  {
   "cell_type": "markdown",
   "metadata": {
    "colab_type": "text",
    "id": "qaoX1DHtTqkI"
   },
   "source": [
    "## Regularize the model"
   ]
  },
  {
   "cell_type": "markdown",
   "metadata": {
    "colab_type": "text",
    "id": "CMgVXyhLncI5"
   },
   "source": [
    "### L2 Regularization"
   ]
  },
  {
   "cell_type": "code",
   "execution_count": 42,
   "metadata": {
    "colab": {
     "base_uri": "https://localhost:8080/",
     "height": 734
    },
    "colab_type": "code",
    "id": "XPtHfaufSixn",
    "outputId": "0e621ee8-8635-441d-bc1e-516a35df7ed8"
   },
   "outputs": [
    {
     "name": "stdout",
     "output_type": "stream",
     "text": [
      "Train on 25000 samples, validate on 25000 samples\n",
      "Epoch 1/20\n",
      "25000/25000 [==============================] - 3s 108us/step - loss: 0.4906 - acc: 0.8224 - val_loss: 0.3861 - val_acc: 0.8758\n",
      "Epoch 2/20\n",
      "25000/25000 [==============================] - 2s 94us/step - loss: 0.3145 - acc: 0.9068 - val_loss: 0.3435 - val_acc: 0.8820\n",
      "Epoch 3/20\n",
      "25000/25000 [==============================] - 2s 97us/step - loss: 0.2709 - acc: 0.9182 - val_loss: 0.3396 - val_acc: 0.8822\n",
      "Epoch 4/20\n",
      "25000/25000 [==============================] - 2s 95us/step - loss: 0.2478 - acc: 0.9283 - val_loss: 0.3384 - val_acc: 0.8855\n",
      "Epoch 5/20\n",
      "25000/25000 [==============================] - 2s 98us/step - loss: 0.2326 - acc: 0.9352 - val_loss: 0.3658 - val_acc: 0.8728\n",
      "Epoch 6/20\n",
      "25000/25000 [==============================] - 3s 101us/step - loss: 0.2253 - acc: 0.9390 - val_loss: 0.3796 - val_acc: 0.8718\n",
      "Epoch 7/20\n",
      "25000/25000 [==============================] - 2s 99us/step - loss: 0.2185 - acc: 0.9393 - val_loss: 0.3594 - val_acc: 0.8790\n",
      "Epoch 8/20\n",
      " 1536/25000 [>.............................] - ETA: 1s - loss: 0.1694 - acc: 0.968125000/25000 [==============================] - 2s 98us/step - loss: 0.2109 - acc: 0.9453 - val_loss: 0.4020 - val_acc: 0.8644\n",
      "Epoch 9/20\n",
      "25000/25000 [==============================] - 3s 100us/step - loss: 0.2098 - acc: 0.9431 - val_loss: 0.3697 - val_acc: 0.8771\n",
      "Epoch 10/20\n",
      "25000/25000 [==============================] - 3s 101us/step - loss: 0.2077 - acc: 0.9462 - val_loss: 0.3851 - val_acc: 0.8733\n",
      "Epoch 11/20\n",
      "25000/25000 [==============================] - 2s 93us/step - loss: 0.2021 - acc: 0.9470 - val_loss: 0.4347 - val_acc: 0.8568\n",
      "Epoch 12/20\n",
      "25000/25000 [==============================] - 2s 93us/step - loss: 0.1985 - acc: 0.9488 - val_loss: 0.3925 - val_acc: 0.8718\n",
      "Epoch 13/20\n",
      "25000/25000 [==============================] - 2s 93us/step - loss: 0.1981 - acc: 0.9474 - val_loss: 0.4541 - val_acc: 0.8521\n",
      "Epoch 14/20\n",
      "25000/25000 [==============================] - 2s 92us/step - loss: 0.1903 - acc: 0.9521 - val_loss: 0.4184 - val_acc: 0.8640\n",
      "Epoch 15/20\n",
      "10752/25000 [===========>..................] - ETA: 0s - loss: 0.1776 - acc: 0.958125000/25000 [==============================] - 2s 95us/step - loss: 0.1909 - acc: 0.9514 - val_loss: 0.4120 - val_acc: 0.8691\n",
      "Epoch 16/20\n",
      "25000/25000 [==============================] - 3s 105us/step - loss: 0.1861 - acc: 0.9521 - val_loss: 0.4194 - val_acc: 0.8679\n",
      "Epoch 17/20\n",
      "25000/25000 [==============================] - 3s 101us/step - loss: 0.1807 - acc: 0.9567 - val_loss: 0.4156 - val_acc: 0.8692\n",
      "Epoch 18/20\n",
      "25000/25000 [==============================] - 3s 101us/step - loss: 0.1820 - acc: 0.9551 - val_loss: 0.4495 - val_acc: 0.8628\n",
      "Epoch 19/20\n",
      "25000/25000 [==============================] - 3s 101us/step - loss: 0.1824 - acc: 0.9531 - val_loss: 0.4438 - val_acc: 0.8608\n",
      "Epoch 20/20\n",
      "25000/25000 [==============================] - 3s 101us/step - loss: 0.1755 - acc: 0.9571 - val_loss: 0.5197 - val_acc: 0.8390\n"
     ]
    }
   ],
   "source": [
    "l2_regul_model = models.Sequential()\n",
    "l2_regul_model.add(layers.Dense(16, activation= 'relu',input_shape = (10000,),\n",
    "                          kernel_regularizer=regularizers.l2(l=0.001)))\n",
    "l2_regul_model.add(layers.Dense(16, activation= 'relu',\n",
    "                         kernel_regularizer=regularizers.l2(l=0.001)))\n",
    "l2_regul_model.add(layers.Dense(1, activation= 'sigmoid'))\n",
    "l2_regul_model.compile(optimizer='rmsprop',\n",
    "              loss='binary_crossentropy', \n",
    "              metrics=['accuracy'])\n",
    "l2_regul_model_history = l2_regul_model.fit(x_train, \n",
    "                                            y_train,\n",
    "                                            epochs=20,\n",
    "                                            batch_size=512,\n",
    "                                            validation_data=(x_test, y_test))"
   ]
  },
  {
   "cell_type": "markdown",
   "metadata": {
    "colab_type": "text",
    "id": "wl40B8PHpEQk"
   },
   "source": [
    "### Dropout Method"
   ]
  },
  {
   "cell_type": "code",
   "execution_count": 45,
   "metadata": {
    "colab": {
     "base_uri": "https://localhost:8080/",
     "height": 734
    },
    "colab_type": "code",
    "id": "ugXvTgwCpAsQ",
    "outputId": "64bd08e9-67bb-4844-97e1-ab99c36e7a4b"
   },
   "outputs": [
    {
     "name": "stdout",
     "output_type": "stream",
     "text": [
      "Train on 25000 samples, validate on 25000 samples\n",
      "Epoch 1/20\n",
      "25000/25000 [==============================] - 3s 118us/step - loss: 0.5773 - acc: 0.6986 - val_loss: 0.4252 - val_acc: 0.8615\n",
      "Epoch 2/20\n",
      "25000/25000 [==============================] - 2s 94us/step - loss: 0.4224 - acc: 0.8250 - val_loss: 0.3356 - val_acc: 0.8717\n",
      "Epoch 3/20\n",
      "25000/25000 [==============================] - 2s 93us/step - loss: 0.3404 - acc: 0.8712 - val_loss: 0.2854 - val_acc: 0.8886\n",
      "Epoch 4/20\n",
      "25000/25000 [==============================] - 2s 94us/step - loss: 0.2899 - acc: 0.8941 - val_loss: 0.2745 - val_acc: 0.8903\n",
      "Epoch 5/20\n",
      "25000/25000 [==============================] - 2s 94us/step - loss: 0.2549 - acc: 0.9093 - val_loss: 0.2784 - val_acc: 0.8895\n",
      "Epoch 6/20\n",
      "25000/25000 [==============================] - 2s 94us/step - loss: 0.2281 - acc: 0.9187 - val_loss: 0.2965 - val_acc: 0.8847\n",
      "Epoch 7/20\n",
      "25000/25000 [==============================] - 2s 95us/step - loss: 0.2060 - acc: 0.9267 - val_loss: 0.3038 - val_acc: 0.8883\n",
      "Epoch 8/20\n",
      "  512/25000 [..............................] - ETA: 1s - loss: 0.1563 - acc: 0.947325000/25000 [==============================] - 2s 95us/step - loss: 0.1970 - acc: 0.9322 - val_loss: 0.3154 - val_acc: 0.8860\n",
      "Epoch 9/20\n",
      "25000/25000 [==============================] - 2s 96us/step - loss: 0.1755 - acc: 0.9361 - val_loss: 0.3442 - val_acc: 0.8852\n",
      "Epoch 10/20\n",
      "25000/25000 [==============================] - 2s 94us/step - loss: 0.1665 - acc: 0.9404 - val_loss: 0.3696 - val_acc: 0.8812\n",
      "Epoch 11/20\n",
      "25000/25000 [==============================] - 2s 96us/step - loss: 0.1624 - acc: 0.9404 - val_loss: 0.3801 - val_acc: 0.8829\n",
      "Epoch 12/20\n",
      "25000/25000 [==============================] - 2s 96us/step - loss: 0.1501 - acc: 0.9475 - val_loss: 0.3944 - val_acc: 0.8815\n",
      "Epoch 13/20\n",
      "25000/25000 [==============================] - 2s 98us/step - loss: 0.1460 - acc: 0.9475 - val_loss: 0.4295 - val_acc: 0.8786\n",
      "Epoch 14/20\n",
      "25000/25000 [==============================] - 3s 101us/step - loss: 0.1378 - acc: 0.9483 - val_loss: 0.4582 - val_acc: 0.8796\n",
      "Epoch 15/20\n",
      "11776/25000 [=============>................] - ETA: 0s - loss: 0.1267 - acc: 0.952325000/25000 [==============================] - 3s 103us/step - loss: 0.1387 - acc: 0.9482 - val_loss: 0.4719 - val_acc: 0.8786\n",
      "Epoch 16/20\n",
      "25000/25000 [==============================] - 3s 102us/step - loss: 0.1321 - acc: 0.9494 - val_loss: 0.4913 - val_acc: 0.8781\n",
      "Epoch 17/20\n",
      "25000/25000 [==============================] - 3s 103us/step - loss: 0.1280 - acc: 0.9534 - val_loss: 0.4928 - val_acc: 0.8760\n",
      "Epoch 18/20\n",
      "25000/25000 [==============================] - 3s 103us/step - loss: 0.1292 - acc: 0.9523 - val_loss: 0.5255 - val_acc: 0.8753\n",
      "Epoch 19/20\n",
      "25000/25000 [==============================] - 2s 99us/step - loss: 0.1230 - acc: 0.9536 - val_loss: 0.5192 - val_acc: 0.8748\n",
      "Epoch 20/20\n",
      "25000/25000 [==============================] - 2s 98us/step - loss: 0.1238 - acc: 0.9526 - val_loss: 0.5307 - val_acc: 0.8735\n"
     ]
    }
   ],
   "source": [
    "dpt_model = models.Sequential()\n",
    "dpt_model.add(layers.Dense(16, activation= 'relu',input_shape = (10000,)))\n",
    "dpt_model.add(layers.Dropout(0.5))\n",
    "dpt_model.add(layers.Dense(16, activation= 'relu'))\n",
    "dpt_model.add(layers.Dropout(0.5))\n",
    "dpt_model.add(layers.Dense(1, activation= 'sigmoid'))\n",
    "dpt_model.compile(optimizer='rmsprop',\n",
    "              loss='binary_crossentropy', \n",
    "              metrics=['accuracy'])\n",
    "dpt_model_history = dpt_model.fit(x_train, \n",
    "                                y_train,\n",
    "                                epochs=20,\n",
    "                                batch_size=512,\n",
    "                                validation_data=(x_test, y_test))"
   ]
  },
  {
   "cell_type": "markdown",
   "metadata": {
    "colab_type": "text",
    "id": "PGfMzvi-T3_h"
   },
   "source": [
    "## Comparing the Validation Loss for regularized models"
   ]
  },
  {
   "cell_type": "code",
   "execution_count": 0,
   "metadata": {
    "colab": {},
    "colab_type": "code",
    "id": "5qLgO6muVS2R"
   },
   "outputs": [],
   "source": [
    "l2_regul_model_val_loss = l2_regul_model_history.history['val_loss']\n",
    "dpt_model_val_loss = dpt_model_history.history['val_loss']"
   ]
  },
  {
   "cell_type": "code",
   "execution_count": 48,
   "metadata": {
    "colab": {
     "base_uri": "https://localhost:8080/",
     "height": 393
    },
    "colab_type": "code",
    "id": "cANJFtQdrZ9e",
    "outputId": "9ba3de5a-b144-44cc-ded5-e6acfe5d2c1d"
   },
   "outputs": [
    {
     "data": {
      "text/plain": [
       "<matplotlib.legend.Legend at 0x7f4347f32b70>"
      ]
     },
     "execution_count": 48,
     "metadata": {
      "tags": []
     },
     "output_type": "execute_result"
    },
    {
     "data": {
      "image/png": "[encoded data removed]",
      "text/plain": [
       "<matplotlib.figure.Figure at 0x7f434868f6a0>"
      ]
     },
     "metadata": {
      "tags": []
     },
     "output_type": "display_data"
    }
   ],
   "source": [
    "epochs = range(1, 20 + 1)\n",
    "plt.plot(epochs, org_model_val_loss, 'r', label='Org Model')\n",
    "plt.plot(epochs, l2_regul_model_val_loss, 'b', label='L2 Regularized Model')\n",
    "plt.plot(epochs, dpt_model_val_loss, 'g', label='Drop out Regularized Model')\n",
    "plt.title('Model Losses')\n",
    "plt.xlabel('Epoch')\n",
    "plt.ylabel('Validation Loss')\n",
    "plt.legend()"
   ]
  },
  {
   "cell_type": "code",
   "execution_count": 0,
   "metadata": {
    "colab": {},
    "colab_type": "code",
    "id": "reUhLk-kruS1"
   },
   "outputs": [],
   "source": []
  }
 ],
 "metadata": {
  "accelerator": "GPU",
  "colab": {
   "collapsed_sections": [],
   "include_colab_link": true,
   "name": "regularization",
   "provenance": [],
   "toc_visible": true,
   "version": "0.3.2"
  },
  "kernelspec": {
   "display_name": "Python 3",
   "language": "python",
   "name": "python3"
  },
  "language_info": {
   "codemirror_mode": {
    "name": "ipython",
    "version": 3
   },
   "file_extension": ".py",
   "mimetype": "text/x-python",
   "name": "python",
   "nbconvert_exporter": "python",
   "pygments_lexer": "ipython3",
   "version": "3.6.4"
  }
 },
 "nbformat": 4,
 "nbformat_minor": 1
}

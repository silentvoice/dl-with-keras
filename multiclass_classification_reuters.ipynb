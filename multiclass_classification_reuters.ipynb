{
  "nbformat": 4,
  "nbformat_minor": 0,
  "metadata": {
    "colab": {
      "name": "multiclass-classification-reuters.ipynb",
      "version": "0.3.2",
      "provenance": [],
      "collapsed_sections": [],
      "toc_visible": true,
      "include_colab_link": true
    },
    "kernelspec": {
      "name": "python3",
      "display_name": "Python 3"
    },
    "accelerator": "GPU"
  },
  "cells": [
    {
      "cell_type": "markdown",
      "metadata": {
        "id": "view-in-github",
        "colab_type": "text"
      },
      "source": [
        "[View in Colaboratory](https://colab.research.google.com/github/silentvoice/dl-with-keras/blob/master/multiclass_classification_reuters.ipynb)"
      ]
    },
    {
      "metadata": {
        "id": "rCxHTcOHpnjj",
        "colab_type": "text"
      },
      "cell_type": "markdown",
      "source": [
        "# Newswires Multi Class Classification"
      ]
    },
    {
      "metadata": {
        "id": "2UlCGg0IpzTW",
        "colab_type": "text"
      },
      "cell_type": "markdown",
      "source": [
        "## Check Tensorflow Version"
      ]
    },
    {
      "metadata": {
        "id": "GN9C5Hh3pXS0",
        "colab_type": "code",
        "colab": {}
      },
      "cell_type": "code",
      "source": [
        "import tensorflow as tf"
      ],
      "execution_count": 0,
      "outputs": []
    },
    {
      "metadata": {
        "id": "hz8_FKF1nBZM",
        "colab_type": "code",
        "colab": {
          "base_uri": "https://localhost:8080/",
          "height": 34
        },
        "outputId": "5c7647e6-7dd5-497f-fbd5-e5c81c146890"
      },
      "cell_type": "code",
      "source": [
        "tf.test.gpu_device_name()"
      ],
      "execution_count": 2,
      "outputs": [
        {
          "output_type": "execute_result",
          "data": {
            "text/plain": [
              "'/device:GPU:0'"
            ]
          },
          "metadata": {
            "tags": []
          },
          "execution_count": 2
        }
      ]
    },
    {
      "metadata": {
        "id": "NBO8e2kHoFSI",
        "colab_type": "code",
        "colab": {
          "base_uri": "https://localhost:8080/",
          "height": 34
        },
        "outputId": "e71b0fc0-43e0-4887-8033-84d86f8c63fe"
      },
      "cell_type": "code",
      "source": [
        "tf.__version__"
      ],
      "execution_count": 3,
      "outputs": [
        {
          "output_type": "execute_result",
          "data": {
            "text/plain": [
              "'1.9.0-rc1'"
            ]
          },
          "metadata": {
            "tags": []
          },
          "execution_count": 3
        }
      ]
    },
    {
      "metadata": {
        "id": "JFlI4hFYpNBo",
        "colab_type": "text"
      },
      "cell_type": "markdown",
      "source": [
        "## Imports"
      ]
    },
    {
      "metadata": {
        "id": "QEIfV4L5qMZP",
        "colab_type": "code",
        "colab": {}
      },
      "cell_type": "code",
      "source": [
        "from tensorflow import keras\n",
        "from tensorflow.python.keras.datasets import reuters"
      ],
      "execution_count": 0,
      "outputs": []
    },
    {
      "metadata": {
        "id": "FX1hYnllqQDI",
        "colab_type": "text"
      },
      "cell_type": "markdown",
      "source": [
        "## Load Reuters dataset"
      ]
    },
    {
      "metadata": {
        "id": "FWLu6M9bqxcx",
        "colab_type": "code",
        "colab": {}
      },
      "cell_type": "code",
      "source": [
        "# Use top 10000 frequently used words from the dataset only, discard the rest\n",
        "(train_data, train_labels), (test_data, test_labels) = reuters.load_data(num_words=10000)"
      ],
      "execution_count": 0,
      "outputs": []
    },
    {
      "metadata": {
        "id": "y0Cox0a0rxf2",
        "colab_type": "code",
        "colab": {
          "base_uri": "https://localhost:8080/",
          "height": 34
        },
        "outputId": "c2454c6d-91d3-488f-edc4-392b3e13b8f2"
      },
      "cell_type": "code",
      "source": [
        "train_data.shape"
      ],
      "execution_count": 33,
      "outputs": [
        {
          "output_type": "execute_result",
          "data": {
            "text/plain": [
              "(8982,)"
            ]
          },
          "metadata": {
            "tags": []
          },
          "execution_count": 33
        }
      ]
    },
    {
      "metadata": {
        "id": "BMyd1YXDsICl",
        "colab_type": "code",
        "colab": {
          "base_uri": "https://localhost:8080/",
          "height": 1496
        },
        "outputId": "19bf8834-2df9-4acf-8669-55acde4a30a5"
      },
      "cell_type": "code",
      "source": [
        "train_data[0]"
      ],
      "execution_count": 34,
      "outputs": [
        {
          "output_type": "execute_result",
          "data": {
            "text/plain": [
              "[1,\n",
              " 2,\n",
              " 2,\n",
              " 8,\n",
              " 43,\n",
              " 10,\n",
              " 447,\n",
              " 5,\n",
              " 25,\n",
              " 207,\n",
              " 270,\n",
              " 5,\n",
              " 3095,\n",
              " 111,\n",
              " 16,\n",
              " 369,\n",
              " 186,\n",
              " 90,\n",
              " 67,\n",
              " 7,\n",
              " 89,\n",
              " 5,\n",
              " 19,\n",
              " 102,\n",
              " 6,\n",
              " 19,\n",
              " 124,\n",
              " 15,\n",
              " 90,\n",
              " 67,\n",
              " 84,\n",
              " 22,\n",
              " 482,\n",
              " 26,\n",
              " 7,\n",
              " 48,\n",
              " 4,\n",
              " 49,\n",
              " 8,\n",
              " 864,\n",
              " 39,\n",
              " 209,\n",
              " 154,\n",
              " 6,\n",
              " 151,\n",
              " 6,\n",
              " 83,\n",
              " 11,\n",
              " 15,\n",
              " 22,\n",
              " 155,\n",
              " 11,\n",
              " 15,\n",
              " 7,\n",
              " 48,\n",
              " 9,\n",
              " 4579,\n",
              " 1005,\n",
              " 504,\n",
              " 6,\n",
              " 258,\n",
              " 6,\n",
              " 272,\n",
              " 11,\n",
              " 15,\n",
              " 22,\n",
              " 134,\n",
              " 44,\n",
              " 11,\n",
              " 15,\n",
              " 16,\n",
              " 8,\n",
              " 197,\n",
              " 1245,\n",
              " 90,\n",
              " 67,\n",
              " 52,\n",
              " 29,\n",
              " 209,\n",
              " 30,\n",
              " 32,\n",
              " 132,\n",
              " 6,\n",
              " 109,\n",
              " 15,\n",
              " 17,\n",
              " 12]"
            ]
          },
          "metadata": {
            "tags": []
          },
          "execution_count": 34
        }
      ]
    },
    {
      "metadata": {
        "id": "2qZgCLo_sK52",
        "colab_type": "code",
        "colab": {
          "base_uri": "https://localhost:8080/",
          "height": 34
        },
        "outputId": "d7190caf-73fd-47f7-85db-0c70133e36b5"
      },
      "cell_type": "code",
      "source": [
        "train_labels.shape"
      ],
      "execution_count": 35,
      "outputs": [
        {
          "output_type": "execute_result",
          "data": {
            "text/plain": [
              "(8982,)"
            ]
          },
          "metadata": {
            "tags": []
          },
          "execution_count": 35
        }
      ]
    },
    {
      "metadata": {
        "id": "VmsspVwosSA6",
        "colab_type": "code",
        "colab": {
          "base_uri": "https://localhost:8080/",
          "height": 34
        },
        "outputId": "097ac44d-aa26-4b8c-a536-3b73018d8958"
      },
      "cell_type": "code",
      "source": [
        "train_labels[0]"
      ],
      "execution_count": 36,
      "outputs": [
        {
          "output_type": "execute_result",
          "data": {
            "text/plain": [
              "3"
            ]
          },
          "metadata": {
            "tags": []
          },
          "execution_count": 36
        }
      ]
    },
    {
      "metadata": {
        "id": "V3GI1g8MsTni",
        "colab_type": "code",
        "colab": {}
      },
      "cell_type": "code",
      "source": [
        "wrdtoidx = reuters.get_word_index()"
      ],
      "execution_count": 0,
      "outputs": []
    },
    {
      "metadata": {
        "id": "a6ODsojRyLh0",
        "colab_type": "code",
        "colab": {}
      },
      "cell_type": "code",
      "source": [
        "idxtowrd = dict([(value, key) for (key, value) in wrdtoidx.items()])"
      ],
      "execution_count": 0,
      "outputs": []
    },
    {
      "metadata": {
        "id": "Q-eBueQ9yawR",
        "colab_type": "code",
        "colab": {}
      },
      "cell_type": "code",
      "source": [
        "sample_newswire = ' '.join([idxtowrd.get(idx) for idx in train_data[0]])"
      ],
      "execution_count": 0,
      "outputs": []
    },
    {
      "metadata": {
        "id": "9FkllOIM0PE-",
        "colab_type": "code",
        "colab": {
          "base_uri": "https://localhost:8080/",
          "height": 54
        },
        "outputId": "902484f2-bc5b-4bf3-ab16-95e1c1ea1bdd"
      },
      "cell_type": "code",
      "source": [
        "sample_newswire"
      ],
      "execution_count": 40,
      "outputs": [
        {
          "output_type": "execute_result",
          "data": {
            "text/plain": [
              "'the of of mln loss for plc said at only ended said commonwealth could 1 traders now april 0 a after said from 1985 and from foreign 000 april 0 prices its account year a but in this mln home an states earlier and rise and revs vs 000 its 16 vs 000 a but 3 psbr oils several and shareholders and dividend vs 000 its all 4 vs 000 1 mln agreed largely april 0 are 2 states will billion total and against 000 pct dlrs'"
            ]
          },
          "metadata": {
            "tags": []
          },
          "execution_count": 40
        }
      ]
    },
    {
      "metadata": {
        "id": "JI26BqkP0Qwg",
        "colab_type": "text"
      },
      "cell_type": "markdown",
      "source": [
        "## Data Preparation"
      ]
    },
    {
      "metadata": {
        "id": "d1FshZ5u0eWY",
        "colab_type": "code",
        "colab": {}
      },
      "cell_type": "code",
      "source": [
        "import numpy as np"
      ],
      "execution_count": 0,
      "outputs": []
    },
    {
      "metadata": {
        "id": "fxN_Lngl1fqz",
        "colab_type": "code",
        "colab": {}
      },
      "cell_type": "code",
      "source": [
        "def one_hot_encoder(samples, no_features):\n",
        "  output_tensor = np.zeros((len(samples), no_features))\n",
        "  for idx, sample in enumerate(samples):\n",
        "    output_tensor[idx, sample] = 1\n",
        "  return output_tensor"
      ],
      "execution_count": 0,
      "outputs": []
    },
    {
      "metadata": {
        "id": "83Icrv904CPo",
        "colab_type": "code",
        "colab": {}
      },
      "cell_type": "code",
      "source": [
        "x_train = one_hot_encoder(train_data, 10000)\n",
        "x_test = one_hot_encoder(test_data, 10000)"
      ],
      "execution_count": 0,
      "outputs": []
    },
    {
      "metadata": {
        "id": "i19TouwKSC9n",
        "colab_type": "code",
        "colab": {}
      },
      "cell_type": "code",
      "source": [
        "y_train = one_hot_encoder(train_labels, 46)\n",
        "y_test = one_hot_encoder(test_labels, 46)"
      ],
      "execution_count": 0,
      "outputs": []
    },
    {
      "metadata": {
        "id": "bc8rr4ot4SnU",
        "colab_type": "code",
        "colab": {
          "base_uri": "https://localhost:8080/",
          "height": 34
        },
        "outputId": "cf2bb2a0-0ed2-4f35-81b8-5f2862881f8e"
      },
      "cell_type": "code",
      "source": [
        "x_train[0]"
      ],
      "execution_count": 57,
      "outputs": [
        {
          "output_type": "execute_result",
          "data": {
            "text/plain": [
              "array([0., 1., 1., ..., 0., 0., 0.])"
            ]
          },
          "metadata": {
            "tags": []
          },
          "execution_count": 57
        }
      ]
    },
    {
      "metadata": {
        "id": "8yH3NVPi5XWZ",
        "colab_type": "text"
      },
      "cell_type": "markdown",
      "source": [
        "## Model"
      ]
    },
    {
      "metadata": {
        "id": "4jayeWfl6GqK",
        "colab_type": "code",
        "colab": {}
      },
      "cell_type": "code",
      "source": [
        "model = keras.models.Sequential()"
      ],
      "execution_count": 0,
      "outputs": []
    },
    {
      "metadata": {
        "id": "SWcI74Ly6QeL",
        "colab_type": "code",
        "colab": {}
      },
      "cell_type": "code",
      "source": [
        "model.add(keras.layers.Dense(64, activation= 'relu',input_shape = (10000,)))"
      ],
      "execution_count": 0,
      "outputs": []
    },
    {
      "metadata": {
        "id": "Lh8u1XVp6rUY",
        "colab_type": "code",
        "colab": {}
      },
      "cell_type": "code",
      "source": [
        "model.add(keras.layers.Dense(64, activation= 'relu'))"
      ],
      "execution_count": 0,
      "outputs": []
    },
    {
      "metadata": {
        "id": "JtSBDx9w7GbU",
        "colab_type": "code",
        "colab": {}
      },
      "cell_type": "code",
      "source": [
        "model.add(keras.layers.Dense(46, activation= 'softmax'))"
      ],
      "execution_count": 0,
      "outputs": []
    },
    {
      "metadata": {
        "id": "jzHPAfFa7K8b",
        "colab_type": "code",
        "colab": {}
      },
      "cell_type": "code",
      "source": [
        "model.compile(optimizer=keras.optimizers.RMSprop(lr=0.001),\n",
        "              loss='categorical_crossentropy', \n",
        "              metrics=['accuracy'])"
      ],
      "execution_count": 0,
      "outputs": []
    },
    {
      "metadata": {
        "id": "DuSQnWXf7m4S",
        "colab_type": "text"
      },
      "cell_type": "markdown",
      "source": [
        "## Create a dummy validation set"
      ]
    },
    {
      "metadata": {
        "id": "q1Sz_mx5shrf",
        "colab_type": "code",
        "colab": {}
      },
      "cell_type": "code",
      "source": [
        "x_val_set = x_train[:1000]\n",
        "x_train_set = x_train[1000:]"
      ],
      "execution_count": 0,
      "outputs": []
    },
    {
      "metadata": {
        "id": "HidQrxZbs38I",
        "colab_type": "code",
        "colab": {}
      },
      "cell_type": "code",
      "source": [
        "y_val_set = y_train[:1000]\n",
        "y_train_set = y_train[1000:]"
      ],
      "execution_count": 0,
      "outputs": []
    },
    {
      "metadata": {
        "id": "uixguYE-tUGh",
        "colab_type": "text"
      },
      "cell_type": "markdown",
      "source": [
        "## Train model using training data set"
      ]
    },
    {
      "metadata": {
        "id": "REMoGhAYtdVA",
        "colab_type": "code",
        "colab": {
          "base_uri": "https://localhost:8080/",
          "height": 734
        },
        "outputId": "48529748-f794-4d36-82c6-a574c50550af"
      },
      "cell_type": "code",
      "source": [
        "history = model.fit(x_train_set,\n",
        "          y_train_set,\n",
        "          epochs=20,\n",
        "          batch_size=512,\n",
        "          validation_data=(x_val_set, y_val_set))"
      ],
      "execution_count": 65,
      "outputs": [
        {
          "output_type": "stream",
          "text": [
            "Train on 7982 samples, validate on 1000 samples\n",
            "Epoch 1/20\n",
            "7982/7982 [==============================] - 1s 145us/step - loss: 2.5906 - acc: 0.5190 - val_loss: 1.7090 - val_acc: 0.6430\n",
            "Epoch 2/20\n",
            "7982/7982 [==============================] - 1s 82us/step - loss: 1.4063 - acc: 0.7068 - val_loss: 1.3125 - val_acc: 0.6970\n",
            "Epoch 3/20\n",
            "7982/7982 [==============================] - 1s 86us/step - loss: 1.0405 - acc: 0.7798 - val_loss: 1.1424 - val_acc: 0.7680\n",
            "Epoch 4/20\n",
            "7982/7982 [==============================] - 1s 78us/step - loss: 0.8109 - acc: 0.8319 - val_loss: 1.0220 - val_acc: 0.7930\n",
            "Epoch 5/20\n",
            "7982/7982 [==============================] - 1s 85us/step - loss: 0.6388 - acc: 0.8685 - val_loss: 0.9650 - val_acc: 0.8070\n",
            "Epoch 6/20\n",
            "7982/7982 [==============================] - 1s 90us/step - loss: 0.5103 - acc: 0.8920 - val_loss: 0.9181 - val_acc: 0.8100\n",
            "Epoch 7/20\n",
            "7982/7982 [==============================] - 1s 82us/step - loss: 0.4115 - acc: 0.9133 - val_loss: 0.8991 - val_acc: 0.8220\n",
            "Epoch 8/20\n",
            "7982/7982 [==============================] - 1s 97us/step - loss: 0.3345 - acc: 0.9302 - val_loss: 0.8964 - val_acc: 0.8160\n",
            "Epoch 9/20\n",
            "7982/7982 [==============================] - 1s 89us/step - loss: 0.2777 - acc: 0.9395 - val_loss: 0.8973 - val_acc: 0.8180\n",
            "Epoch 10/20\n",
            "7982/7982 [==============================] - 1s 85us/step - loss: 0.2324 - acc: 0.9468 - val_loss: 0.9470 - val_acc: 0.7910\n",
            "Epoch 11/20\n",
            "7982/7982 [==============================] - 1s 98us/step - loss: 0.2033 - acc: 0.9506 - val_loss: 0.9235 - val_acc: 0.8200\n",
            "Epoch 12/20\n",
            "1536/7982 [====>.........................] - ETA: 0s - loss: 0.1615 - acc: 0.9590"
          ],
          "name": "stdout"
        },
        {
          "output_type": "stream",
          "text": [
            "7982/7982 [==============================] - 1s 106us/step - loss: 0.1780 - acc: 0.9535 - val_loss: 0.9290 - val_acc: 0.8140\n",
            "Epoch 13/20\n",
            "7982/7982 [==============================] - 1s 98us/step - loss: 0.1645 - acc: 0.9529 - val_loss: 0.9404 - val_acc: 0.8140\n",
            "Epoch 14/20\n",
            "7982/7982 [==============================] - 1s 88us/step - loss: 0.1486 - acc: 0.9560 - val_loss: 0.9935 - val_acc: 0.8060\n",
            "Epoch 15/20\n",
            "7982/7982 [==============================] - 1s 95us/step - loss: 0.1393 - acc: 0.9555 - val_loss: 0.9750 - val_acc: 0.8180\n",
            "Epoch 16/20\n",
            "7982/7982 [==============================] - 1s 100us/step - loss: 0.1287 - acc: 0.9564 - val_loss: 1.0218 - val_acc: 0.8170\n",
            "Epoch 17/20\n",
            "7982/7982 [==============================] - 1s 98us/step - loss: 0.1268 - acc: 0.9563 - val_loss: 1.0603 - val_acc: 0.7970\n",
            "Epoch 18/20\n",
            "7982/7982 [==============================] - 1s 85us/step - loss: 0.1211 - acc: 0.9558 - val_loss: 1.0455 - val_acc: 0.8100\n",
            "Epoch 19/20\n",
            "7982/7982 [==============================] - 1s 83us/step - loss: 0.1191 - acc: 0.9579 - val_loss: 1.0729 - val_acc: 0.8040\n",
            "Epoch 20/20\n",
            "7982/7982 [==============================] - 1s 93us/step - loss: 0.1117 - acc: 0.9583 - val_loss: 1.0463 - val_acc: 0.8060\n"
          ],
          "name": "stdout"
        }
      ]
    },
    {
      "metadata": {
        "id": "panqV2hWt_XH",
        "colab_type": "code",
        "colab": {
          "base_uri": "https://localhost:8080/",
          "height": 34
        },
        "outputId": "f8110b79-2d0d-43d8-e1f9-cc2e08e09925"
      },
      "cell_type": "code",
      "source": [
        "history.history.keys()"
      ],
      "execution_count": 66,
      "outputs": [
        {
          "output_type": "execute_result",
          "data": {
            "text/plain": [
              "dict_keys(['val_loss', 'val_acc', 'loss', 'acc'])"
            ]
          },
          "metadata": {
            "tags": []
          },
          "execution_count": 66
        }
      ]
    },
    {
      "metadata": {
        "id": "wJII3mz0uVkD",
        "colab_type": "text"
      },
      "cell_type": "markdown",
      "source": [
        "## Plot the training and validation loss and accuracy"
      ]
    },
    {
      "metadata": {
        "id": "-zK6eYWgutqe",
        "colab_type": "code",
        "colab": {}
      },
      "cell_type": "code",
      "source": [
        "import matplotlib.pyplot as plt"
      ],
      "execution_count": 0,
      "outputs": []
    },
    {
      "metadata": {
        "id": "rKeR-gfVu0mw",
        "colab_type": "code",
        "colab": {}
      },
      "cell_type": "code",
      "source": [
        "train_acc = history.history['acc']\n",
        "val_acc = history.history['val_acc']\n",
        "train_loss = history.history['loss']\n",
        "val_loss = history.history['val_loss']"
      ],
      "execution_count": 0,
      "outputs": []
    },
    {
      "metadata": {
        "id": "TbFMBF9KvIIQ",
        "colab_type": "code",
        "colab": {}
      },
      "cell_type": "code",
      "source": [
        "epochs = range(1, len(train_acc) + 1)"
      ],
      "execution_count": 0,
      "outputs": []
    },
    {
      "metadata": {
        "id": "2iTVxb6vviUb",
        "colab_type": "code",
        "colab": {
          "base_uri": "https://localhost:8080/",
          "height": 393
        },
        "outputId": "48269923-138e-40d6-c5b2-7d4fad25996c"
      },
      "cell_type": "code",
      "source": [
        "plt.plot(epochs, train_loss, 'ro', label='Training Loss')\n",
        "plt.plot(epochs, val_loss, 'g', label='Validation Loss')\n",
        "plt.title('Training and Validation Loss')\n",
        "plt.xlabel('Epoch')\n",
        "plt.ylabel('Loss')"
      ],
      "execution_count": 70,
      "outputs": [
        {
          "output_type": "execute_result",
          "data": {
            "text/plain": [
              "Text(0,0.5,'Loss')"
            ]
          },
          "metadata": {
            "tags": []
          },
          "execution_count": 70
        },
        {
          "output_type": "display_data",
          "data": {
            "image/png": "[encoded data removed]",
            "text/plain": [
              "<matplotlib.figure.Figure at 0x7fd36738a6d8>"
            ]
          },
          "metadata": {
            "tags": []
          }
        }
      ]
    },
    {
      "metadata": {
        "id": "bTmaqyCrOOWt",
        "colab_type": "code",
        "colab": {
          "base_uri": "https://localhost:8080/",
          "height": 393
        },
        "outputId": "43c81c91-01a4-4ad3-e0a9-3d518241412d"
      },
      "cell_type": "code",
      "source": [
        "plt.clf()\n",
        "plt.plot(epochs, train_acc, 'ro', label='Training Accuracy')\n",
        "plt.plot(epochs, val_acc, 'g', label='Validation Accuracy')\n",
        "plt.title('Training and Validation Accuracy')\n",
        "plt.xlabel('Epoch')\n",
        "plt.ylabel('Accuracy')"
      ],
      "execution_count": 71,
      "outputs": [
        {
          "output_type": "execute_result",
          "data": {
            "text/plain": [
              "Text(0,0.5,'Accuracy')"
            ]
          },
          "metadata": {
            "tags": []
          },
          "execution_count": 71
        },
        {
          "output_type": "display_data",
          "data": {
            "image/png": "[encoded data removed]",
            "text/plain": [
              "<matplotlib.figure.Figure at 0x7fd36721dd30>"
            ]
          },
          "metadata": {
            "tags": []
          }
        }
      ]
    },
    {
      "metadata": {
        "id": "qaoX1DHtTqkI",
        "colab_type": "text"
      },
      "cell_type": "markdown",
      "source": [
        "## Retrain the entire model for 3 epochs"
      ]
    },
    {
      "metadata": {
        "id": "XPtHfaufSixn",
        "colab_type": "code",
        "colab": {
          "base_uri": "https://localhost:8080/",
          "height": 306
        },
        "outputId": "8d2805ef-a45d-41b1-86e5-96a079e16f78"
      },
      "cell_type": "code",
      "source": [
        "model = keras.models.Sequential()\n",
        "model.add(keras.layers.Dense(64, activation='relu', input_shape=(10000,)))\n",
        "model.add(keras.layers.Dense(64, activation='relu'))\n",
        "model.add(keras.layers.Dense(46, activation='softmax'))\n",
        "model.compile(optimizer='rmsprop',\n",
        "              loss='categorical_crossentropy',\n",
        "              metrics=['accuracy'])\n",
        "model.fit(x_train, y_train, epochs=8, batch_size=512)\n",
        "results = model.evaluate(x_test, y_test)"
      ],
      "execution_count": 74,
      "outputs": [
        {
          "output_type": "stream",
          "text": [
            "Epoch 1/8\n",
            "8982/8982 [==============================] - 1s 107us/step - loss: 2.5595 - acc: 0.5424\n",
            "Epoch 2/8\n",
            "8982/8982 [==============================] - 1s 70us/step - loss: 1.3432 - acc: 0.7255\n",
            "Epoch 3/8\n",
            "8982/8982 [==============================] - 1s 63us/step - loss: 0.9796 - acc: 0.8014\n",
            "Epoch 4/8\n",
            "8982/8982 [==============================] - 1s 68us/step - loss: 0.7565 - acc: 0.8456\n",
            "Epoch 5/8\n",
            "8982/8982 [==============================] - 1s 70us/step - loss: 0.5950 - acc: 0.8773\n",
            "Epoch 6/8\n",
            "8982/8982 [==============================] - 1s 70us/step - loss: 0.4654 - acc: 0.9033\n",
            "Epoch 7/8\n",
            "8982/8982 [==============================] - 1s 66us/step - loss: 0.3795 - acc: 0.9233\n",
            "Epoch 8/8\n",
            "8982/8982 [==============================] - 1s 70us/step - loss: 0.3110 - acc: 0.9304\n",
            "2246/2246 [==============================] - 0s 195us/step\n"
          ],
          "name": "stdout"
        }
      ]
    },
    {
      "metadata": {
        "id": "Svl5rzigUHJ9",
        "colab_type": "code",
        "colab": {
          "base_uri": "https://localhost:8080/",
          "height": 34
        },
        "outputId": "8450d32a-f3d4-4406-a834-ffa25b9ae1a0"
      },
      "cell_type": "code",
      "source": [
        "results"
      ],
      "execution_count": 75,
      "outputs": [
        {
          "output_type": "execute_result",
          "data": {
            "text/plain": [
              "[0.9180641751786162, 0.7969723954226221]"
            ]
          },
          "metadata": {
            "tags": []
          },
          "execution_count": 75
        }
      ]
    },
    {
      "metadata": {
        "id": "PGfMzvi-T3_h",
        "colab_type": "text"
      },
      "cell_type": "markdown",
      "source": [
        "## Predict on test set or new data"
      ]
    },
    {
      "metadata": {
        "id": "dQKkobcXVPWw",
        "colab_type": "code",
        "colab": {}
      },
      "cell_type": "code",
      "source": [
        "predictions = model.predict(x_test)"
      ],
      "execution_count": 0,
      "outputs": []
    },
    {
      "metadata": {
        "id": "5qLgO6muVS2R",
        "colab_type": "code",
        "colab": {
          "base_uri": "https://localhost:8080/",
          "height": 34
        },
        "outputId": "e917fe81-a57c-402e-c0c5-3b696f278126"
      },
      "cell_type": "code",
      "source": [
        "predictions[0].shape"
      ],
      "execution_count": 78,
      "outputs": [
        {
          "output_type": "execute_result",
          "data": {
            "text/plain": [
              "(46,)"
            ]
          },
          "metadata": {
            "tags": []
          },
          "execution_count": 78
        }
      ]
    },
    {
      "metadata": {
        "id": "4PUI5l5HVMv6",
        "colab_type": "code",
        "colab": {
          "base_uri": "https://localhost:8080/",
          "height": 34
        },
        "outputId": "7a3a14af-f001-479d-f114-c04467e3c67b"
      },
      "cell_type": "code",
      "source": [
        "np.argmax(predictions[0])"
      ],
      "execution_count": 79,
      "outputs": [
        {
          "output_type": "execute_result",
          "data": {
            "text/plain": [
              "3"
            ]
          },
          "metadata": {
            "tags": []
          },
          "execution_count": 79
        }
      ]
    },
    {
      "metadata": {
        "id": "78mHpbIUVVOr",
        "colab_type": "code",
        "colab": {}
      },
      "cell_type": "code",
      "source": [
        ""
      ],
      "execution_count": 0,
      "outputs": []
    }
  ]
}
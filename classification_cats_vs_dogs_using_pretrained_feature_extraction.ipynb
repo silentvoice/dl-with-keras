{
  "nbformat": 4,
  "nbformat_minor": 0,
  "metadata": {
    "colab": {
      "name": "classification-cats-vs-dogs-using-pretrained-feature-extraction",
      "version": "0.3.2",
      "provenance": [],
      "collapsed_sections": [],
      "toc_visible": true,
      "include_colab_link": true
    },
    "kernelspec": {
      "name": "python3",
      "display_name": "Python 3"
    },
    "accelerator": "GPU"
  },
  "cells": [
    {
      "cell_type": "markdown",
      "metadata": {
        "id": "view-in-github",
        "colab_type": "text"
      },
      "source": [
        "[View in Colaboratory](https://colab.research.google.com/github/silentvoice/dl-with-keras/blob/master/classification_cats_vs_dogs_using_pretrained_feature_extraction.ipynb)"
      ]
    },
    {
      "metadata": {
        "id": "rCxHTcOHpnjj",
        "colab_type": "text"
      },
      "cell_type": "markdown",
      "source": [
        "# Classification Cats Vs Dogs Using Pre-trained features extraction"
      ]
    },
    {
      "metadata": {
        "id": "QjipQwLwN3ue",
        "colab_type": "code",
        "colab": {
          "base_uri": "https://localhost:8080/",
          "height": 37
        },
        "outputId": "bb118c78-7b2c-480c-8c05-c83a4b56e46c"
      },
      "cell_type": "code",
      "source": [
        "# this resets the state of the machine (e.g. if you want to re-install from scratch  # this  \n",
        "# or reset memory usage in this instance)\n",
        "# wait a minute after running it and then reload the page\n",
        "# !kill -9 -1"
      ],
      "execution_count": 1,
      "outputs": []
    },
    {
      "metadata": {
        "id": "2UlCGg0IpzTW",
        "colab_type": "text"
      },
      "cell_type": "markdown",
      "source": [
        "## Check Tensorflow Version"
      ]
    },
    {
      "metadata": {
        "id": "GN9C5Hh3pXS0",
        "colab_type": "code",
        "colab": {
          "base_uri": "https://localhost:8080/",
          "height": 37
        },
        "outputId": "b733dffd-d52d-47de-aa43-ebcecd09c24a"
      },
      "cell_type": "code",
      "source": [
        "import tensorflow as tf"
      ],
      "execution_count": 2,
      "outputs": []
    },
    {
      "metadata": {
        "id": "hz8_FKF1nBZM",
        "colab_type": "code",
        "colab": {
          "base_uri": "https://localhost:8080/",
          "height": 34
        },
        "outputId": "bdc9782e-81d2-4898-cf65-889c961f4fa7"
      },
      "cell_type": "code",
      "source": [
        "tf.test.gpu_device_name()"
      ],
      "execution_count": 3,
      "outputs": [
        {
          "output_type": "execute_result",
          "data": {
            "text/plain": [
              "'/device:GPU:0'"
            ]
          },
          "metadata": {
            "tags": []
          },
          "execution_count": 3
        }
      ]
    },
    {
      "metadata": {
        "id": "NBO8e2kHoFSI",
        "colab_type": "code",
        "colab": {
          "base_uri": "https://localhost:8080/",
          "height": 34
        },
        "outputId": "e2f8f647-f949-4087-d562-0ed8a076c352"
      },
      "cell_type": "code",
      "source": [
        "tf.__version__"
      ],
      "execution_count": 5,
      "outputs": [
        {
          "output_type": "execute_result",
          "data": {
            "text/plain": [
              "'1.9.0-rc2'"
            ]
          },
          "metadata": {
            "tags": []
          },
          "execution_count": 5
        }
      ]
    },
    {
      "metadata": {
        "id": "JFlI4hFYpNBo",
        "colab_type": "text"
      },
      "cell_type": "markdown",
      "source": [
        "## Imports"
      ]
    },
    {
      "metadata": {
        "id": "QEIfV4L5qMZP",
        "colab_type": "code",
        "colab": {
          "base_uri": "https://localhost:8080/",
          "height": 37
        },
        "outputId": "98d815f3-bb80-469d-873b-10ce5895e716"
      },
      "cell_type": "code",
      "source": [
        "from tensorflow import keras\n",
        "from tensorflow.python.keras import layers, models, optimizers\n",
        "from tensorflow.python.keras.preprocessing import image\n",
        "from tensorflow.python.keras.preprocessing.image import ImageDataGenerator\n",
        "from tensorflow.python.keras.applications import VGG16\n",
        "import numpy as np\n",
        "import matplotlib.pyplot as plt\n",
        "import os, shutil\n"
      ],
      "execution_count": 83,
      "outputs": []
    },
    {
      "metadata": {
        "id": "FX1hYnllqQDI",
        "colab_type": "text"
      },
      "cell_type": "markdown",
      "source": [
        "## Load Kaggle Dogs Dataset"
      ]
    },
    {
      "metadata": {
        "id": "a_PIk31fPBcX",
        "colab_type": "code",
        "colab": {}
      },
      "cell_type": "code",
      "source": [
        "# Run this cell and select the kaggle.json file downloaded\n",
        "# from the Kaggle account settings page.\n",
        "from google.colab import files\n",
        "files.upload()"
      ],
      "execution_count": 0,
      "outputs": []
    },
    {
      "metadata": {
        "id": "m0SpgzOVPqrZ",
        "colab_type": "code",
        "colab": {
          "base_uri": "https://localhost:8080/",
          "height": 34
        },
        "outputId": "f4b0b243-060d-477f-cb89-cdee2dfdd705"
      },
      "cell_type": "code",
      "source": [
        "# Check if the kaggle.json file is present.\n",
        "!ls -lha kaggle.json"
      ],
      "execution_count": 9,
      "outputs": [
        {
          "output_type": "stream",
          "text": [
            "-rw-r--r-- 1 root root 66 Jul  6 13:26 kaggle.json\r\n"
          ],
          "name": "stdout"
        }
      ]
    },
    {
      "metadata": {
        "id": "jDE5mwC3P5dm",
        "colab_type": "code",
        "colab": {
          "base_uri": "https://localhost:8080/",
          "height": 37
        },
        "outputId": "33b30acd-7ae5-4e60-9bfd-37de3728e63f"
      },
      "cell_type": "code",
      "source": [
        "# Install the Kaggle API client.\n",
        "!pip install -q kaggle"
      ],
      "execution_count": 10,
      "outputs": []
    },
    {
      "metadata": {
        "id": "IzGKadvVP-zJ",
        "colab_type": "code",
        "colab": {
          "base_uri": "https://localhost:8080/",
          "height": 37
        },
        "outputId": "8a9e7a83-e6a9-4b6c-91fa-d58ad7f95481"
      },
      "cell_type": "code",
      "source": [
        "# The Kaggle API client expects this file to be in ~/.kaggle,\n",
        "# so move it there.\n",
        "!mkdir -p ~/.kaggle\n",
        "!cp kaggle.json ~/.kaggle/\n",
        "\n",
        "# This permissions change avoids a warning on Kaggle tool startup.\n",
        "!chmod 600 /content/.kaggle/kaggle.json"
      ],
      "execution_count": 11,
      "outputs": []
    },
    {
      "metadata": {
        "id": "0S-fE4FsQHOg",
        "colab_type": "code",
        "colab": {
          "base_uri": "https://localhost:8080/",
          "height": 170
        },
        "outputId": "b6abfcd2-3b28-4441-a5db-de7fb8bd9625"
      },
      "cell_type": "code",
      "source": [
        "# Download dataset from kaggle\n",
        "!mkdir -p data/cats-vs-dogs && kaggle competitions download -c dogs-vs-cats -p data/cats-vs-dogs/"
      ],
      "execution_count": 12,
      "outputs": [
        {
          "output_type": "stream",
          "text": [
            "Downloading sampleSubmission.csv to data/cats-vs-dogs\r\n",
            "\r  0%|                                               | 0.00/86.8k [00:00<?, ?B/s]\r\n",
            "100%|██████████████████████████████████████| 86.8k/86.8k [00:00<00:00, 23.2MB/s]\n",
            "Downloading test1.zip to data/cats-vs-dogs\n",
            " 94%|██████████████████████████████████████▋  | 256M/271M [00:03<00:00, 131MB/s]\n",
            "100%|████████████████████████████████████████| 271M/271M [00:03<00:00, 88.1MB/s]\n",
            "Downloading train.zip to data/cats-vs-dogs\n",
            " 98%|████████████████████████████████████████▎| 534M/543M [00:03<00:00, 148MB/s]\n",
            "100%|█████████████████████████████████████████| 543M/543M [00:03<00:00, 155MB/s]\n"
          ],
          "name": "stdout"
        }
      ]
    },
    {
      "metadata": {
        "id": "ZZZZGCmSmZW_",
        "colab_type": "code",
        "colab": {}
      },
      "cell_type": "code",
      "source": [
        "!mkdir data/cats-vs-dogs/orig_data && unzip data/cats-vs-dogs/train.zip -d data/cats-vs-dogs/orig_data/"
      ],
      "execution_count": 0,
      "outputs": []
    },
    {
      "metadata": {
        "id": "uz_GR2xZtKHE",
        "colab_type": "code",
        "colab": {
          "base_uri": "https://localhost:8080/",
          "height": 37
        },
        "outputId": "e0b54bc1-d958-4767-dd44-5bcd556c80e2"
      },
      "cell_type": "code",
      "source": [
        "orig_data_dir = '/content/data/cats-vs-dogs/orig_data/train'"
      ],
      "execution_count": 14,
      "outputs": []
    },
    {
      "metadata": {
        "id": "HCpcC9YCtcHM",
        "colab_type": "code",
        "colab": {
          "base_uri": "https://localhost:8080/",
          "height": 37
        },
        "outputId": "43d00f51-c57b-4f94-8849-92c68252962a"
      },
      "cell_type": "code",
      "source": [
        "base_dir = '/content/data/small-cats-vs-dogs'\n",
        "os.mkdir(base_dir)"
      ],
      "execution_count": 85,
      "outputs": []
    },
    {
      "metadata": {
        "id": "w3hby9COt0dv",
        "colab_type": "code",
        "colab": {
          "base_uri": "https://localhost:8080/",
          "height": 37
        },
        "outputId": "4e733df8-b7df-4bbe-fc31-91f9c8802436"
      },
      "cell_type": "code",
      "source": [
        "# Create Train, Validation and Test folders\n",
        "train_dir = os.path.join(base_dir, 'train')\n",
        "os.mkdir(train_dir)\n",
        "validation_dir = os.path.join(base_dir, 'validation')\n",
        "os.mkdir(validation_dir)\n",
        "test_dir = os.path.join(base_dir, 'test')\n",
        "os.mkdir(test_dir)"
      ],
      "execution_count": 86,
      "outputs": []
    },
    {
      "metadata": {
        "id": "8oCT25botvsy",
        "colab_type": "code",
        "colab": {
          "base_uri": "https://localhost:8080/",
          "height": 37
        },
        "outputId": "fada00b8-c7f0-4287-a09d-643f72cce213"
      },
      "cell_type": "code",
      "source": [
        "# Prepare folders for cats and dogs  \n",
        "train_cats_dir = os.path.join(train_dir, 'cats')\n",
        "os.mkdir(train_cats_dir)\n",
        "train_dogs_dir = os.path.join(train_dir, 'dogs')\n",
        "os.mkdir(train_dogs_dir)\n",
        "\n",
        "validation_cats_dir = os.path.join(validation_dir, 'cats')\n",
        "os.mkdir(validation_cats_dir)\n",
        "validation_dogs_dir = os.path.join(validation_dir, 'dogs')\n",
        "os.mkdir(validation_dogs_dir)\n",
        "\n",
        "test_cats_dir = os.path.join(test_dir, 'cats')\n",
        "os.mkdir(test_cats_dir)\n",
        "test_dogs_dir = os.path.join(test_dir, 'dogs')\n",
        "os.mkdir(test_dogs_dir)"
      ],
      "execution_count": 87,
      "outputs": []
    },
    {
      "metadata": {
        "id": "B5Skq-bhxrJF",
        "colab_type": "code",
        "colab": {
          "base_uri": "https://localhost:8080/",
          "height": 204
        },
        "outputId": "0c9dc460-b9e2-4a22-ee9f-77013ff49d58"
      },
      "cell_type": "code",
      "source": [
        "!ls data/cats-vs-dogs/orig_data/train | head\n"
      ],
      "execution_count": 88,
      "outputs": [
        {
          "output_type": "stream",
          "text": [
            "cat.0.jpg\r\n",
            "cat.10000.jpg\r\n",
            "cat.10001.jpg\r\n",
            "cat.10002.jpg\r\n",
            "cat.10003.jpg\r\n",
            "cat.10004.jpg\r\n",
            "cat.10005.jpg\r\n",
            "cat.10006.jpg\r\n",
            "cat.10007.jpg\r\n",
            "cat.10008.jpg\r\n",
            "ls: write error: Broken pipe\r\n"
          ],
          "name": "stdout"
        }
      ]
    },
    {
      "metadata": {
        "id": "EiTF18GZ2QS4",
        "colab_type": "code",
        "colab": {
          "base_uri": "https://localhost:8080/",
          "height": 37
        },
        "outputId": "cf5159d5-50d1-4319-9a10-d38fd21a5bc9"
      },
      "cell_type": "code",
      "source": [
        "# create a smaller train, validation and test dataset from orig_data\n",
        "train_cat_f_names = ['cat.{}.jpg'.format(i) for i in range(1000)]\n",
        "train_dog_f_names = ['dog.{}.jpg'.format(i) for i in range(1000)]\n",
        "\n",
        "val_cat_f_names = ['cat.{}.jpg'.format(i) for i in range(1000, 1500)]\n",
        "val_dog_f_names = ['dog.{}.jpg'.format(i) for i in range(1000, 1500)]\n",
        "\n",
        "test_cat_f_names = ['cat.{}.jpg'.format(i) for i in range(1500, 2000)]\n",
        "test_dog_f_names = ['dog.{}.jpg'.format(i) for i in range(1500, 2000)]"
      ],
      "execution_count": 89,
      "outputs": []
    },
    {
      "metadata": {
        "id": "NIruC4Pc3Z7d",
        "colab_type": "code",
        "colab": {
          "base_uri": "https://localhost:8080/",
          "height": 37
        },
        "outputId": "b6c83fa0-523d-433a-9b1c-b54777271da9"
      },
      "cell_type": "code",
      "source": [
        "for f_name in train_cat_f_names:\n",
        "  src = os.path.join(orig_data_dir, f_name)\n",
        "  dst = os.path.join(train_cats_dir, f_name)\n",
        "  shutil.copyfile(src, dst)\n",
        "  \n",
        "for f_name in val_cat_f_names:\n",
        "  src = os.path.join(orig_data_dir, f_name)\n",
        "  dst = os.path.join(validation_cats_dir, f_name)\n",
        "  shutil.copyfile(src, dst)\n",
        "  \n",
        "for f_name in test_cat_f_names:\n",
        "  src = os.path.join(orig_data_dir, f_name)\n",
        "  dst = os.path.join(test_cats_dir, f_name)\n",
        "  shutil.copyfile(src, dst)\n",
        "\n",
        "for f_name in train_dog_f_names:\n",
        "  src = os.path.join(orig_data_dir, f_name)\n",
        "  dst = os.path.join(train_dogs_dir, f_name)\n",
        "  shutil.copyfile(src, dst)\n",
        "  \n",
        "for f_name in val_dog_f_names:\n",
        "  src = os.path.join(orig_data_dir, f_name)\n",
        "  dst = os.path.join(validation_dogs_dir, f_name)\n",
        "  shutil.copyfile(src, dst)\n",
        "  \n",
        "for f_name in test_dog_f_names:\n",
        "  src = os.path.join(orig_data_dir, f_name)\n",
        "  dst = os.path.join(test_dogs_dir, f_name)\n",
        "  shutil.copyfile(src, dst) "
      ],
      "execution_count": 90,
      "outputs": []
    },
    {
      "metadata": {
        "id": "e4bVUVeI4swx",
        "colab_type": "code",
        "colab": {
          "base_uri": "https://localhost:8080/",
          "height": 34
        },
        "outputId": "100c1bde-66a1-4a80-9da3-6f06936c13d9"
      },
      "cell_type": "code",
      "source": [
        "len(os.listdir(train_cats_dir))"
      ],
      "execution_count": 91,
      "outputs": [
        {
          "output_type": "execute_result",
          "data": {
            "text/plain": [
              "1000"
            ]
          },
          "metadata": {
            "tags": []
          },
          "execution_count": 91
        }
      ]
    },
    {
      "metadata": {
        "id": "3onVFA0c5DDx",
        "colab_type": "code",
        "colab": {
          "base_uri": "https://localhost:8080/",
          "height": 34
        },
        "outputId": "065f35f9-e923-423c-8d57-e0cf3a375a12"
      },
      "cell_type": "code",
      "source": [
        "len(os.listdir(train_dogs_dir))"
      ],
      "execution_count": 92,
      "outputs": [
        {
          "output_type": "execute_result",
          "data": {
            "text/plain": [
              "1000"
            ]
          },
          "metadata": {
            "tags": []
          },
          "execution_count": 92
        }
      ]
    },
    {
      "metadata": {
        "id": "MIckwLvf7BLD",
        "colab_type": "text"
      },
      "cell_type": "markdown",
      "source": [
        "## Data Preparation \n"
      ]
    },
    {
      "metadata": {
        "id": "G4OAPDoF7g3b",
        "colab_type": "code",
        "colab": {
          "base_uri": "https://localhost:8080/",
          "height": 37
        },
        "outputId": "75878b28-8905-48b6-d876-0c7ac239ce0e"
      },
      "cell_type": "code",
      "source": [
        "data_gen = ImageDataGenerator(rescale=1.0/255)\n"
      ],
      "execution_count": 93,
      "outputs": []
    },
    {
      "metadata": {
        "id": "8yH3NVPi5XWZ",
        "colab_type": "text"
      },
      "cell_type": "markdown",
      "source": [
        "## VGG16 Base Model"
      ]
    },
    {
      "metadata": {
        "id": "NKG9eMUqzBET",
        "colab_type": "code",
        "colab": {
          "base_uri": "https://localhost:8080/",
          "height": 71
        },
        "outputId": "15e89ad6-347f-4952-d290-0e6457e1b6fa"
      },
      "cell_type": "code",
      "source": [
        "conv_base = VGG16(weights='imagenet',\n",
        "                    include_top=False,\n",
        "                    input_shape=(150, 150, 3))"
      ],
      "execution_count": 94,
      "outputs": [
        {
          "output_type": "stream",
          "text": [
            "Downloading data from https://github.com/fchollet/deep-learning-models/releases/download/v0.1/vgg16_weights_tf_dim_ordering_tf_kernels_notop.h5\n",
            "58892288/58889256 [==============================] - 12s 0us/step\n"
          ],
          "name": "stdout"
        }
      ]
    },
    {
      "metadata": {
        "id": "6OasEo-hzqst",
        "colab_type": "code",
        "colab": {
          "base_uri": "https://localhost:8080/",
          "height": 782
        },
        "outputId": "284190f9-1233-4aba-82d6-7549bec248b7"
      },
      "cell_type": "code",
      "source": [
        "conv_base.summary()"
      ],
      "execution_count": 95,
      "outputs": [
        {
          "output_type": "stream",
          "text": [
            "_________________________________________________________________\n",
            "Layer (type)                 Output Shape              Param #   \n",
            "=================================================================\n",
            "input_2 (InputLayer)         (None, 150, 150, 3)       0         \n",
            "_________________________________________________________________\n",
            "block1_conv1 (Conv2D)        (None, 150, 150, 64)      1792      \n",
            "_________________________________________________________________\n",
            "block1_conv2 (Conv2D)        (None, 150, 150, 64)      36928     \n",
            "_________________________________________________________________\n",
            "block1_pool (MaxPooling2D)   (None, 75, 75, 64)        0         \n",
            "_________________________________________________________________\n",
            "block2_conv1 (Conv2D)        (None, 75, 75, 128)       73856     \n",
            "_________________________________________________________________\n",
            "block2_conv2 (Conv2D)        (None, 75, 75, 128)       147584    \n",
            "_________________________________________________________________\n",
            "block2_pool (MaxPooling2D)   (None, 37, 37, 128)       0         \n",
            "_________________________________________________________________\n",
            "block3_conv1 (Conv2D)        (None, 37, 37, 256)       295168    \n",
            "_________________________________________________________________\n",
            "block3_conv2 (Conv2D)        (None, 37, 37, 256)       590080    \n",
            "_________________________________________________________________\n",
            "block3_conv3 (Conv2D)        (None, 37, 37, 256)       590080    \n",
            "_________________________________________________________________\n",
            "block3_pool (MaxPooling2D)   (None, 18, 18, 256)       0         \n",
            "_________________________________________________________________\n",
            "block4_conv1 (Conv2D)        (None, 18, 18, 512)       1180160   \n",
            "_________________________________________________________________\n",
            "block4_conv2 (Conv2D)        (None, 18, 18, 512)       2359808   \n",
            "_________________________________________________________________\n",
            "block4_conv3 (Conv2D)        (None, 18, 18, 512)       2359808   \n",
            "_________________________________________________________________\n",
            "block4_pool (MaxPooling2D)   (None, 9, 9, 512)         0         \n",
            "_________________________________________________________________\n",
            "block5_conv1 (Conv2D)        (None, 9, 9, 512)         2359808   \n",
            "_________________________________________________________________\n",
            "block5_conv2 (Conv2D)        (None, 9, 9, 512)         2359808   \n",
            "_________________________________________________________________\n",
            "block5_conv3 (Conv2D)        (None, 9, 9, 512)         2359808   \n",
            "_________________________________________________________________\n",
            "block5_pool (MaxPooling2D)   (None, 4, 4, 512)         0         \n",
            "=================================================================\n",
            "Total params: 14,714,688\n",
            "Trainable params: 14,714,688\n",
            "Non-trainable params: 0\n",
            "_________________________________________________________________\n"
          ],
          "name": "stdout"
        }
      ]
    },
    {
      "metadata": {
        "id": "42_UXow_17Rt",
        "colab_type": "code",
        "colab": {
          "base_uri": "https://localhost:8080/",
          "height": 37
        },
        "outputId": "9c7ff9a9-3650-481d-cb5b-6ed71b3789f1"
      },
      "cell_type": "code",
      "source": [
        "batch_size=20\n",
        "\n",
        "def extract_features(directory, sample_count):\n",
        "  features = np.zeros(shape=(sample_count, 4, 4, 512))\n",
        "  labels = np.zeros(shape=(sample_count))\n",
        "  generator = data_gen.flow_from_directory(directory,\n",
        "                                           target_size=(150, 150),\n",
        "                                           batch_size=batch_size,\n",
        "                                           class_mode='binary')\n",
        "  for idx, (inputs_batch, labels_batch) in enumerate(generator):\n",
        "    features_batch = conv_base.predict(inputs_batch)\n",
        "    features[idx * batch_size: (idx + 1) * batch_size] = features_batch\n",
        "    labels[idx * batch_size: (idx + 1) * batch_size] = labels_batch\n",
        "    if (idx + 1) * batch_size >= sample_count:\n",
        "      break\n",
        "  \n",
        "  return features, labels"
      ],
      "execution_count": 96,
      "outputs": []
    },
    {
      "metadata": {
        "id": "jZ5Vrh_f5H6r",
        "colab_type": "code",
        "colab": {
          "base_uri": "https://localhost:8080/",
          "height": 68
        },
        "outputId": "43c1e1c1-0102-46c6-98b0-3e16eb817a79"
      },
      "cell_type": "code",
      "source": [
        "train_features, train_labels = extract_features(train_dir, 2000)\n",
        "val_features, val_labels = extract_features(validation_dir, 1000)\n",
        "test_features, test_labels = extract_features(test_dir, 1000)"
      ],
      "execution_count": 101,
      "outputs": [
        {
          "output_type": "stream",
          "text": [
            "Found 2000 images belonging to 2 classes.\n",
            "Found 1000 images belonging to 2 classes.\n",
            "Found 1000 images belonging to 2 classes.\n"
          ],
          "name": "stdout"
        }
      ]
    },
    {
      "metadata": {
        "id": "5SLw35XM9j0c",
        "colab_type": "code",
        "colab": {
          "base_uri": "https://localhost:8080/",
          "height": 37
        },
        "outputId": "ed719d5a-a25d-42e5-942d-2c08be494d5f"
      },
      "cell_type": "code",
      "source": [
        "train_features = np.reshape(train_features, (2000, 4*4*512))\n",
        "val_features = np.reshape(val_features, (1000, 4*4*512))\n",
        "test_features = np.reshape(test_features, (1000, 4*4*512))"
      ],
      "execution_count": 105,
      "outputs": []
    },
    {
      "metadata": {
        "id": "_B8Rz9V7-Uas",
        "colab_type": "text"
      },
      "cell_type": "markdown",
      "source": [
        "## Create Dense Model "
      ]
    },
    {
      "metadata": {
        "id": "4BbqBG3cgkPc",
        "colab_type": "code",
        "colab": {
          "base_uri": "https://localhost:8080/",
          "height": 37
        },
        "outputId": "0574cc17-5f55-4af0-a28c-501aee2b4cc3"
      },
      "cell_type": "code",
      "source": [
        "model = models.Sequential()\n",
        "\n",
        "model.add(layers.Dense(256, activation='relu', input_dim=4*4*512))\n",
        "model.add(layers.Dropout(0.5))\n",
        "model.add(layers.Dense(1, activation='sigmoid'))\n",
        "model.compile(optimizer=optimizers.RMSprop(lr=2e-5),\n",
        "              loss='binary_crossentropy',\n",
        "              metrics=['acc'])\n"
      ],
      "execution_count": 106,
      "outputs": []
    },
    {
      "metadata": {
        "id": "QL36FeP-7Y6g",
        "colab_type": "code",
        "colab": {
          "base_uri": "https://localhost:8080/",
          "height": 238
        },
        "outputId": "b003c31b-9eb7-42ad-b74a-6525f76af442"
      },
      "cell_type": "code",
      "source": [
        "model.summary()"
      ],
      "execution_count": 107,
      "outputs": [
        {
          "output_type": "stream",
          "text": [
            "_________________________________________________________________\n",
            "Layer (type)                 Output Shape              Param #   \n",
            "=================================================================\n",
            "dense_17 (Dense)             (None, 256)               2097408   \n",
            "_________________________________________________________________\n",
            "dropout_9 (Dropout)          (None, 256)               0         \n",
            "_________________________________________________________________\n",
            "dense_18 (Dense)             (None, 1)                 257       \n",
            "=================================================================\n",
            "Total params: 2,097,665\n",
            "Trainable params: 2,097,665\n",
            "Non-trainable params: 0\n",
            "_________________________________________________________________\n"
          ],
          "name": "stdout"
        }
      ]
    },
    {
      "metadata": {
        "id": "DuSQnWXf7m4S",
        "colab_type": "text"
      },
      "cell_type": "markdown",
      "source": [
        "## Train the Model"
      ]
    },
    {
      "metadata": {
        "id": "3PPbdUhx7YMT",
        "colab_type": "code",
        "colab": {
          "base_uri": "https://localhost:8080/",
          "height": 1074
        },
        "outputId": "536d2acf-6777-4140-f978-6e837a63a143"
      },
      "cell_type": "code",
      "source": [
        "model_history = model.fit(train_features,\n",
        "                    train_labels,\n",
        "                    epochs=30,\n",
        "                    batch_size=20,\n",
        "                    validation_data=(val_features, val_labels))"
      ],
      "execution_count": 108,
      "outputs": [
        {
          "output_type": "stream",
          "text": [
            "Train on 2000 samples, validate on 1000 samples\n",
            "Epoch 1/30\n",
            "2000/2000 [==============================] - 2s 1ms/step - loss: 0.6085 - acc: 0.6695 - val_loss: 0.4309 - val_acc: 0.8420\n",
            "Epoch 2/30\n",
            "2000/2000 [==============================] - 1s 534us/step - loss: 0.4210 - acc: 0.8110 - val_loss: 0.3487 - val_acc: 0.8700\n",
            "Epoch 3/30\n",
            "2000/2000 [==============================] - 1s 555us/step - loss: 0.3521 - acc: 0.8410 - val_loss: 0.3197 - val_acc: 0.8690\n",
            "Epoch 4/30\n",
            "2000/2000 [==============================] - 1s 555us/step - loss: 0.3198 - acc: 0.8580 - val_loss: 0.2935 - val_acc: 0.8860\n",
            "Epoch 5/30\n",
            "2000/2000 [==============================] - 1s 577us/step - loss: 0.2901 - acc: 0.8810 - val_loss: 0.2789 - val_acc: 0.8900\n",
            "Epoch 6/30\n",
            "2000/2000 [==============================] - 1s 565us/step - loss: 0.2672 - acc: 0.8915 - val_loss: 0.2700 - val_acc: 0.9000\n",
            "Epoch 7/30\n",
            "2000/2000 [==============================] - 1s 557us/step - loss: 0.2443 - acc: 0.9000 - val_loss: 0.2604 - val_acc: 0.9050\n",
            "Epoch 8/30\n",
            "2000/2000 [==============================] - 1s 549us/step - loss: 0.2229 - acc: 0.9160 - val_loss: 0.2558 - val_acc: 0.9030\n",
            "Epoch 9/30\n",
            " 320/2000 [===>..........................] - ETA: 0s - loss: 0.2055 - acc: 0.9344"
          ],
          "name": "stdout"
        },
        {
          "output_type": "stream",
          "text": [
            "2000/2000 [==============================] - 1s 570us/step - loss: 0.2201 - acc: 0.9195 - val_loss: 0.2544 - val_acc: 0.8960\n",
            "Epoch 10/30\n",
            "2000/2000 [==============================] - 1s 547us/step - loss: 0.1984 - acc: 0.9255 - val_loss: 0.2630 - val_acc: 0.8900\n",
            "Epoch 11/30\n",
            "2000/2000 [==============================] - 1s 563us/step - loss: 0.2012 - acc: 0.9225 - val_loss: 0.2436 - val_acc: 0.9070\n",
            "Epoch 12/30\n",
            "2000/2000 [==============================] - 1s 560us/step - loss: 0.1785 - acc: 0.9315 - val_loss: 0.2434 - val_acc: 0.9080\n",
            "Epoch 13/30\n",
            "2000/2000 [==============================] - 1s 565us/step - loss: 0.1774 - acc: 0.9315 - val_loss: 0.2382 - val_acc: 0.9080\n",
            "Epoch 14/30\n",
            "2000/2000 [==============================] - 1s 571us/step - loss: 0.1744 - acc: 0.9375 - val_loss: 0.2424 - val_acc: 0.9020\n",
            "Epoch 15/30\n",
            "2000/2000 [==============================] - 1s 574us/step - loss: 0.1626 - acc: 0.9365 - val_loss: 0.2362 - val_acc: 0.9060\n",
            "Epoch 16/30\n",
            "2000/2000 [==============================] - 1s 563us/step - loss: 0.1584 - acc: 0.9475 - val_loss: 0.2416 - val_acc: 0.9000\n",
            "Epoch 17/30\n",
            "1160/2000 [================>.............] - ETA: 0s - loss: 0.1610 - acc: 0.9448"
          ],
          "name": "stdout"
        },
        {
          "output_type": "stream",
          "text": [
            "2000/2000 [==============================] - 1s 555us/step - loss: 0.1505 - acc: 0.9470 - val_loss: 0.2360 - val_acc: 0.9040\n",
            "Epoch 18/30\n",
            "2000/2000 [==============================] - 1s 568us/step - loss: 0.1346 - acc: 0.9550 - val_loss: 0.2408 - val_acc: 0.9030\n",
            "Epoch 19/30\n",
            "2000/2000 [==============================] - 1s 585us/step - loss: 0.1370 - acc: 0.9555 - val_loss: 0.2416 - val_acc: 0.9020\n",
            "Epoch 20/30\n",
            "2000/2000 [==============================] - 1s 565us/step - loss: 0.1286 - acc: 0.9520 - val_loss: 0.2399 - val_acc: 0.9020\n",
            "Epoch 21/30\n",
            "2000/2000 [==============================] - 1s 547us/step - loss: 0.1296 - acc: 0.9580 - val_loss: 0.2447 - val_acc: 0.8990\n",
            "Epoch 22/30\n",
            "2000/2000 [==============================] - 1s 566us/step - loss: 0.1219 - acc: 0.9590 - val_loss: 0.2361 - val_acc: 0.9030\n",
            "Epoch 23/30\n",
            "2000/2000 [==============================] - 1s 570us/step - loss: 0.1193 - acc: 0.9555 - val_loss: 0.2350 - val_acc: 0.9060\n",
            "Epoch 24/30\n",
            "2000/2000 [==============================] - 1s 564us/step - loss: 0.1100 - acc: 0.9640 - val_loss: 0.2352 - val_acc: 0.9020\n",
            "Epoch 25/30\n",
            "1180/2000 [================>.............] - ETA: 0s - loss: 0.1033 - acc: 0.9669"
          ],
          "name": "stdout"
        },
        {
          "output_type": "stream",
          "text": [
            "2000/2000 [==============================] - 1s 566us/step - loss: 0.1086 - acc: 0.9665 - val_loss: 0.2366 - val_acc: 0.9010\n",
            "Epoch 26/30\n",
            "2000/2000 [==============================] - 1s 576us/step - loss: 0.0975 - acc: 0.9725 - val_loss: 0.2355 - val_acc: 0.9010\n",
            "Epoch 27/30\n",
            "2000/2000 [==============================] - 1s 566us/step - loss: 0.0998 - acc: 0.9670 - val_loss: 0.2366 - val_acc: 0.8990\n",
            "Epoch 28/30\n",
            "2000/2000 [==============================] - 1s 575us/step - loss: 0.0941 - acc: 0.9700 - val_loss: 0.2392 - val_acc: 0.9000\n",
            "Epoch 29/30\n",
            "2000/2000 [==============================] - 1s 568us/step - loss: 0.0920 - acc: 0.9720 - val_loss: 0.2451 - val_acc: 0.8990\n",
            "Epoch 30/30\n",
            "2000/2000 [==============================] - 1s 570us/step - loss: 0.0862 - acc: 0.9695 - val_loss: 0.2481 - val_acc: 0.9010\n"
          ],
          "name": "stdout"
        }
      ]
    },
    {
      "metadata": {
        "id": "5ZjCGIJsDO28",
        "colab_type": "code",
        "colab": {
          "base_uri": "https://localhost:8080/",
          "height": 37
        },
        "outputId": "6e149f29-69e2-4575-e0a2-e5141ec5c97e"
      },
      "cell_type": "code",
      "source": [
        "model.save('small-cats-vs-dogs-feature-extraction.h5')"
      ],
      "execution_count": 114,
      "outputs": []
    },
    {
      "metadata": {
        "id": "cDRtGy3GDY3g",
        "colab_type": "text"
      },
      "cell_type": "markdown",
      "source": [
        "## Plot Train and Validation loss and accuracy"
      ]
    },
    {
      "metadata": {
        "id": "29lw9GS7Dl1-",
        "colab_type": "code",
        "colab": {
          "base_uri": "https://localhost:8080/",
          "height": 37
        },
        "outputId": "9cb44034-a626-47a9-c121-a6cb640e414b"
      },
      "cell_type": "code",
      "source": [
        "train_acc = model_history.history['acc']\n",
        "val_acc = model_history.history['val_acc']\n",
        "train_loss = model_history.history['loss']\n",
        "val_loss = model_history.history['val_loss']"
      ],
      "execution_count": 115,
      "outputs": []
    },
    {
      "metadata": {
        "id": "P0y_FVYaD6Zh",
        "colab_type": "code",
        "colab": {
          "base_uri": "https://localhost:8080/",
          "height": 393
        },
        "outputId": "cf801834-7b4f-48ed-a785-0e13261bb1fa"
      },
      "cell_type": "code",
      "source": [
        "epochs = range(len(train_acc))\n",
        "plt.plot(epochs, train_acc, 'r', label='Training accuracy')\n",
        "plt.plot(epochs, val_acc, 'b', label='Validation accuracy')\n",
        "plt.title('Training and Validation Accuracy')\n",
        "plt.xlabel('Epoch')\n",
        "plt.ylabel('Accuracy')\n",
        "plt.legend()"
      ],
      "execution_count": 116,
      "outputs": [
        {
          "output_type": "execute_result",
          "data": {
            "text/plain": [
              "<matplotlib.legend.Legend at 0x7fef346632e8>"
            ]
          },
          "metadata": {
            "tags": []
          },
          "execution_count": 116
        },
        {
          "output_type": "display_data",
          "data": {
            "image/png": "[encoded data removed]",
            "text/plain": [
              "<matplotlib.figure.Figure at 0x7fef3469d908>"
            ]
          },
          "metadata": {
            "tags": []
          }
        }
      ]
    },
    {
      "metadata": {
        "id": "ncqLLVwYEgUg",
        "colab_type": "code",
        "colab": {
          "base_uri": "https://localhost:8080/",
          "height": 393
        },
        "outputId": "f491263b-9e95-4f70-cba4-b9601cfe8ee0"
      },
      "cell_type": "code",
      "source": [
        "plt.plot(epochs, train_loss, 'r', label='Training Loss')\n",
        "plt.plot(epochs, val_loss, 'b', label='Validation Loss')\n",
        "plt.title('Training and Validation Loss')\n",
        "plt.xlabel('Epoch')\n",
        "plt.ylabel('Loss')\n",
        "plt.legend()"
      ],
      "execution_count": 117,
      "outputs": [
        {
          "output_type": "execute_result",
          "data": {
            "text/plain": [
              "<matplotlib.legend.Legend at 0x7fef345cb9b0>"
            ]
          },
          "metadata": {
            "tags": []
          },
          "execution_count": 117
        },
        {
          "output_type": "display_data",
          "data": {
            "image/png": "[encoded data removed]",
            "text/plain": [
              "<matplotlib.figure.Figure at 0x7ff07a5ca860>"
            ]
          },
          "metadata": {
            "tags": []
          }
        }
      ]
    }
  ]
}